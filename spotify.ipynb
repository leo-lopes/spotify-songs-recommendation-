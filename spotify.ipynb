{
  "nbformat": 4,
  "nbformat_minor": 0,
  "metadata": {
    "colab": {
      "provenance": [],
      "collapsed_sections": [
        "GBDG9JWg2_vV",
        "AmmAkTTpFp0L",
        "3MlcYOXFFjTz",
        "U3HJn04mRGwA",
        "L3taYk57WUTV",
        "nFGbpk_0wfqK",
        "bg0QBKwD-sdn",
        "8rPh63dAGhtu"
      ],
      "authorship_tag": "ABX9TyOjefVz2sjWtGwBH/T6Q/uW",
      "include_colab_link": true
    },
    "kernelspec": {
      "name": "python3",
      "display_name": "Python 3"
    },
    "language_info": {
      "name": "python"
    }
  },
  "cells": [
    {
      "cell_type": "markdown",
      "metadata": {
        "id": "view-in-github",
        "colab_type": "text"
      },
      "source": [
        "<a href=\"https://colab.research.google.com/github/leo-lopes/spotify-songs-recommendation-/blob/main/spotify.ipynb\" target=\"_parent\"><img src=\"https://colab.research.google.com/assets/colab-badge.svg\" alt=\"Open In Colab\"/></a>"
      ]
    },
    {
      "cell_type": "markdown",
      "source": [
        "# SONGS RECOMMENDATION BASED ON THE SPOTIFY DATASET "
      ],
      "metadata": {
        "id": "GBDG9JWg2_vV"
      }
    },
    {
      "cell_type": "markdown",
      "source": [
        "## Introduction"
      ],
      "metadata": {
        "id": "AmmAkTTpFp0L"
      }
    },
    {
      "cell_type": "markdown",
      "source": [
        "The goal is to understand and build a program that recommend songs like spotify does. In first place, we get the data used in here in the spotify to developers page, but someone could find it in another place. The songs features analyzed in here will be : \n",
        "\n",
        "* acousticness - A confidence measure from 0.0 to 1.0 of whether the track is acoustic. 1.0 represents high confidence the track is acoustic.\n",
        "* danceability - describes how suitable a track is for dancing based on a combination of musical elements including tempo, rhythm stability, beat strength, and overall regularity. A value of 0.0 is least danceable and 1.0 is most danceable.\n",
        "* duration_ms - The duration of the track in milliseconds.\n",
        "* id - The Spotify ID for the track.\n",
        "* instrumentalness - Predicts whether a track contains no vocals. \"Ooh\" and \"aah\" sounds are treated as instrumental in this context. Rap or spoken word tracks are clearly \"vocal\". The closer the instrumentalness value is to 1.0, the greater likelihood the track contains no vocal content. Values above 0.5 are intended to represent instrumental tracks, but confidence is higher as the value approaches 1.0.\n",
        "*liveness - Detects the presence of an audience in the recording. Higher liveness values represent an increased probability that the track was performed live. A value above 0.8 provides strong likelihood that the track is live.\n",
        "* loudness- The overall loudness of a track in decibels (dB). Loudness values are averaged across the entire track and are useful for comparing relative loudness of tracks. Loudness is the quality of a sound that is the primary psychological correlate of physical strength (amplitude). Values typically range between -60 and 0 db.\n",
        "* mode - Mode indicates the modality (major or minor) of a track, the type of scale from which its melodic content is derived. Major is represented by 1 and minor is 0.\n",
        "* name - Song's name \n",
        "* speechiness - Speechiness detects the presence of spoken words in a track. The more exclusively speech-like the recording (e.g. talk show, audio book, poetry), the closer to 1.0 the attribute value. Values above 0.66 describe tracks that are probably made entirely of spoken words. Values between 0.33 and 0.66 describe tracks that may contain both music and speech, either in sections or layered, including such cases as rap music. Values below 0.33 most likely represent music and other non-speech-like tracks.\n",
        "* tempo - The overall estimated tempo of a track in beats per minute (BPM). In musical terminology, tempo is the speed or pace of a given piece and derives directly from the average beat duration.\n",
        "* time_signature - An estimated time signature. The time signature (meter) is a notational convention to specify how many beats are in each bar (or measure). The time signature ranges from 3 to 7 indicating time signatures of \"3/4\", to \"7/4\".\n",
        "* valence - A measure from 0.0 to 1.0 describing the musical positiveness conveyed by a track. Tracks with high valence sound more positive (e.g. happy, cheerful, euphoric), while tracks with low valence sound more negative (e.g. sad, depressed, angry).\n",
        "* year - The year of release."
      ],
      "metadata": {
        "id": "wfhIpcxD-GSz"
      }
    },
    {
      "cell_type": "code",
      "execution_count": 3,
      "metadata": {
        "id": "_jjt7uCm2YDJ"
      },
      "outputs": [],
      "source": [
        "# importing the libraries \n",
        "import pandas as pd \n",
        "import numpy as np\n",
        "import matplotlib.pyplot as plt\n",
        "import plotly.express as px\n",
        "import plotly.graph_objects as go\n",
        "import seaborn as sns"
      ]
    },
    {
      "cell_type": "code",
      "source": [
        "#importing data \n",
        "data = pd.read_csv('Dados_totais.csv') #general data\n",
        "data_genres = pd.read_csv('data_by_genres.csv') #data about the genres\n",
        "data_year = pd.read_csv('data_by_year.csv') # data about the years"
      ],
      "metadata": {
        "id": "M9CMW4rvEwrp"
      },
      "execution_count": 4,
      "outputs": []
    },
    {
      "cell_type": "markdown",
      "source": [
        "## Data exploration\n",
        "\n",
        "Let's explore the data in order to see if it's missing some value and try to find some interesting feature of the data"
      ],
      "metadata": {
        "id": "3MlcYOXFFjTz"
      }
    },
    {
      "cell_type": "code",
      "source": [
        "data.head()"
      ],
      "metadata": {
        "colab": {
          "base_uri": "https://localhost:8080/",
          "height": 0
        },
        "id": "VrAOIbQ9FGFA",
        "outputId": "50f10a1a-ea95-443e-c517-4ff1c857d864"
      },
      "execution_count": 5,
      "outputs": [
        {
          "output_type": "execute_result",
          "data": {
            "text/plain": [
              "   valence  year  acousticness       artists  danceability  duration_ms  \\\n",
              "0    0.285  2000       0.00239      Coldplay         0.429       266773   \n",
              "1    0.613  2000       0.14300       OutKast         0.843       270507   \n",
              "2    0.400  2000       0.00958   Linkin Park         0.556       216880   \n",
              "3    0.543  2000       0.00664  3 Doors Down         0.545       233933   \n",
              "4    0.760  2000       0.03020        Eminem         0.949       284200   \n",
              "\n",
              "   energy  explicit                      id  instrumentalness  key  liveness  \\\n",
              "0   0.661         0  3AJwUDP919kvQ9QcozQPxg          0.000121   11    0.2340   \n",
              "1   0.806         1  0I3q5fE6wg7LIfHGngUTnV          0.000000    4    0.0771   \n",
              "2   0.864         0  60a0Rd6pjrkxjPbaKzXjfq          0.000000    3    0.2090   \n",
              "3   0.865         0  6ZOBP3NvffbU4SZcrnt1k6          0.000011   11    0.1680   \n",
              "4   0.661         1  3yfqSUWxFvZELEM4PmlwIR          0.000000    5    0.0454   \n",
              "\n",
              "   loudness  mode                 name  popularity  speechiness    tempo  \\\n",
              "0    -7.227     1               Yellow          84       0.0281  173.372   \n",
              "1    -5.946     0          Ms. Jackson          80       0.2690   94.948   \n",
              "2    -5.870     0           In the End          84       0.0584  105.143   \n",
              "3    -5.708     0           Kryptonite          78       0.0286   99.009   \n",
              "4    -4.244     0  The Real Slim Shady          80       0.0572  104.504   \n",
              "\n",
              "                   artists_song  \n",
              "0             Coldplay - Yellow  \n",
              "1         OutKast - Ms. Jackson  \n",
              "2      Linkin Park - In the End  \n",
              "3     3 Doors Down - Kryptonite  \n",
              "4  Eminem - The Real Slim Shady  "
            ],
            "text/html": [
              "\n",
              "  <div id=\"df-5697737e-22cb-465b-9d0d-dfe20f929fb1\">\n",
              "    <div class=\"colab-df-container\">\n",
              "      <div>\n",
              "<style scoped>\n",
              "    .dataframe tbody tr th:only-of-type {\n",
              "        vertical-align: middle;\n",
              "    }\n",
              "\n",
              "    .dataframe tbody tr th {\n",
              "        vertical-align: top;\n",
              "    }\n",
              "\n",
              "    .dataframe thead th {\n",
              "        text-align: right;\n",
              "    }\n",
              "</style>\n",
              "<table border=\"1\" class=\"dataframe\">\n",
              "  <thead>\n",
              "    <tr style=\"text-align: right;\">\n",
              "      <th></th>\n",
              "      <th>valence</th>\n",
              "      <th>year</th>\n",
              "      <th>acousticness</th>\n",
              "      <th>artists</th>\n",
              "      <th>danceability</th>\n",
              "      <th>duration_ms</th>\n",
              "      <th>energy</th>\n",
              "      <th>explicit</th>\n",
              "      <th>id</th>\n",
              "      <th>instrumentalness</th>\n",
              "      <th>key</th>\n",
              "      <th>liveness</th>\n",
              "      <th>loudness</th>\n",
              "      <th>mode</th>\n",
              "      <th>name</th>\n",
              "      <th>popularity</th>\n",
              "      <th>speechiness</th>\n",
              "      <th>tempo</th>\n",
              "      <th>artists_song</th>\n",
              "    </tr>\n",
              "  </thead>\n",
              "  <tbody>\n",
              "    <tr>\n",
              "      <th>0</th>\n",
              "      <td>0.285</td>\n",
              "      <td>2000</td>\n",
              "      <td>0.00239</td>\n",
              "      <td>Coldplay</td>\n",
              "      <td>0.429</td>\n",
              "      <td>266773</td>\n",
              "      <td>0.661</td>\n",
              "      <td>0</td>\n",
              "      <td>3AJwUDP919kvQ9QcozQPxg</td>\n",
              "      <td>0.000121</td>\n",
              "      <td>11</td>\n",
              "      <td>0.2340</td>\n",
              "      <td>-7.227</td>\n",
              "      <td>1</td>\n",
              "      <td>Yellow</td>\n",
              "      <td>84</td>\n",
              "      <td>0.0281</td>\n",
              "      <td>173.372</td>\n",
              "      <td>Coldplay - Yellow</td>\n",
              "    </tr>\n",
              "    <tr>\n",
              "      <th>1</th>\n",
              "      <td>0.613</td>\n",
              "      <td>2000</td>\n",
              "      <td>0.14300</td>\n",
              "      <td>OutKast</td>\n",
              "      <td>0.843</td>\n",
              "      <td>270507</td>\n",
              "      <td>0.806</td>\n",
              "      <td>1</td>\n",
              "      <td>0I3q5fE6wg7LIfHGngUTnV</td>\n",
              "      <td>0.000000</td>\n",
              "      <td>4</td>\n",
              "      <td>0.0771</td>\n",
              "      <td>-5.946</td>\n",
              "      <td>0</td>\n",
              "      <td>Ms. Jackson</td>\n",
              "      <td>80</td>\n",
              "      <td>0.2690</td>\n",
              "      <td>94.948</td>\n",
              "      <td>OutKast - Ms. Jackson</td>\n",
              "    </tr>\n",
              "    <tr>\n",
              "      <th>2</th>\n",
              "      <td>0.400</td>\n",
              "      <td>2000</td>\n",
              "      <td>0.00958</td>\n",
              "      <td>Linkin Park</td>\n",
              "      <td>0.556</td>\n",
              "      <td>216880</td>\n",
              "      <td>0.864</td>\n",
              "      <td>0</td>\n",
              "      <td>60a0Rd6pjrkxjPbaKzXjfq</td>\n",
              "      <td>0.000000</td>\n",
              "      <td>3</td>\n",
              "      <td>0.2090</td>\n",
              "      <td>-5.870</td>\n",
              "      <td>0</td>\n",
              "      <td>In the End</td>\n",
              "      <td>84</td>\n",
              "      <td>0.0584</td>\n",
              "      <td>105.143</td>\n",
              "      <td>Linkin Park - In the End</td>\n",
              "    </tr>\n",
              "    <tr>\n",
              "      <th>3</th>\n",
              "      <td>0.543</td>\n",
              "      <td>2000</td>\n",
              "      <td>0.00664</td>\n",
              "      <td>3 Doors Down</td>\n",
              "      <td>0.545</td>\n",
              "      <td>233933</td>\n",
              "      <td>0.865</td>\n",
              "      <td>0</td>\n",
              "      <td>6ZOBP3NvffbU4SZcrnt1k6</td>\n",
              "      <td>0.000011</td>\n",
              "      <td>11</td>\n",
              "      <td>0.1680</td>\n",
              "      <td>-5.708</td>\n",
              "      <td>0</td>\n",
              "      <td>Kryptonite</td>\n",
              "      <td>78</td>\n",
              "      <td>0.0286</td>\n",
              "      <td>99.009</td>\n",
              "      <td>3 Doors Down - Kryptonite</td>\n",
              "    </tr>\n",
              "    <tr>\n",
              "      <th>4</th>\n",
              "      <td>0.760</td>\n",
              "      <td>2000</td>\n",
              "      <td>0.03020</td>\n",
              "      <td>Eminem</td>\n",
              "      <td>0.949</td>\n",
              "      <td>284200</td>\n",
              "      <td>0.661</td>\n",
              "      <td>1</td>\n",
              "      <td>3yfqSUWxFvZELEM4PmlwIR</td>\n",
              "      <td>0.000000</td>\n",
              "      <td>5</td>\n",
              "      <td>0.0454</td>\n",
              "      <td>-4.244</td>\n",
              "      <td>0</td>\n",
              "      <td>The Real Slim Shady</td>\n",
              "      <td>80</td>\n",
              "      <td>0.0572</td>\n",
              "      <td>104.504</td>\n",
              "      <td>Eminem - The Real Slim Shady</td>\n",
              "    </tr>\n",
              "  </tbody>\n",
              "</table>\n",
              "</div>\n",
              "      <button class=\"colab-df-convert\" onclick=\"convertToInteractive('df-5697737e-22cb-465b-9d0d-dfe20f929fb1')\"\n",
              "              title=\"Convert this dataframe to an interactive table.\"\n",
              "              style=\"display:none;\">\n",
              "        \n",
              "  <svg xmlns=\"http://www.w3.org/2000/svg\" height=\"24px\"viewBox=\"0 0 24 24\"\n",
              "       width=\"24px\">\n",
              "    <path d=\"M0 0h24v24H0V0z\" fill=\"none\"/>\n",
              "    <path d=\"M18.56 5.44l.94 2.06.94-2.06 2.06-.94-2.06-.94-.94-2.06-.94 2.06-2.06.94zm-11 1L8.5 8.5l.94-2.06 2.06-.94-2.06-.94L8.5 2.5l-.94 2.06-2.06.94zm10 10l.94 2.06.94-2.06 2.06-.94-2.06-.94-.94-2.06-.94 2.06-2.06.94z\"/><path d=\"M17.41 7.96l-1.37-1.37c-.4-.4-.92-.59-1.43-.59-.52 0-1.04.2-1.43.59L10.3 9.45l-7.72 7.72c-.78.78-.78 2.05 0 2.83L4 21.41c.39.39.9.59 1.41.59.51 0 1.02-.2 1.41-.59l7.78-7.78 2.81-2.81c.8-.78.8-2.07 0-2.86zM5.41 20L4 18.59l7.72-7.72 1.47 1.35L5.41 20z\"/>\n",
              "  </svg>\n",
              "      </button>\n",
              "      \n",
              "  <style>\n",
              "    .colab-df-container {\n",
              "      display:flex;\n",
              "      flex-wrap:wrap;\n",
              "      gap: 12px;\n",
              "    }\n",
              "\n",
              "    .colab-df-convert {\n",
              "      background-color: #E8F0FE;\n",
              "      border: none;\n",
              "      border-radius: 50%;\n",
              "      cursor: pointer;\n",
              "      display: none;\n",
              "      fill: #1967D2;\n",
              "      height: 32px;\n",
              "      padding: 0 0 0 0;\n",
              "      width: 32px;\n",
              "    }\n",
              "\n",
              "    .colab-df-convert:hover {\n",
              "      background-color: #E2EBFA;\n",
              "      box-shadow: 0px 1px 2px rgba(60, 64, 67, 0.3), 0px 1px 3px 1px rgba(60, 64, 67, 0.15);\n",
              "      fill: #174EA6;\n",
              "    }\n",
              "\n",
              "    [theme=dark] .colab-df-convert {\n",
              "      background-color: #3B4455;\n",
              "      fill: #D2E3FC;\n",
              "    }\n",
              "\n",
              "    [theme=dark] .colab-df-convert:hover {\n",
              "      background-color: #434B5C;\n",
              "      box-shadow: 0px 1px 3px 1px rgba(0, 0, 0, 0.15);\n",
              "      filter: drop-shadow(0px 1px 2px rgba(0, 0, 0, 0.3));\n",
              "      fill: #FFFFFF;\n",
              "    }\n",
              "  </style>\n",
              "\n",
              "      <script>\n",
              "        const buttonEl =\n",
              "          document.querySelector('#df-5697737e-22cb-465b-9d0d-dfe20f929fb1 button.colab-df-convert');\n",
              "        buttonEl.style.display =\n",
              "          google.colab.kernel.accessAllowed ? 'block' : 'none';\n",
              "\n",
              "        async function convertToInteractive(key) {\n",
              "          const element = document.querySelector('#df-5697737e-22cb-465b-9d0d-dfe20f929fb1');\n",
              "          const dataTable =\n",
              "            await google.colab.kernel.invokeFunction('convertToInteractive',\n",
              "                                                     [key], {});\n",
              "          if (!dataTable) return;\n",
              "\n",
              "          const docLinkHtml = 'Like what you see? Visit the ' +\n",
              "            '<a target=\"_blank\" href=https://colab.research.google.com/notebooks/data_table.ipynb>data table notebook</a>'\n",
              "            + ' to learn more about interactive tables.';\n",
              "          element.innerHTML = '';\n",
              "          dataTable['output_type'] = 'display_data';\n",
              "          await google.colab.output.renderOutput(dataTable, element);\n",
              "          const docLink = document.createElement('div');\n",
              "          docLink.innerHTML = docLinkHtml;\n",
              "          element.appendChild(docLink);\n",
              "        }\n",
              "      </script>\n",
              "    </div>\n",
              "  </div>\n",
              "  "
            ]
          },
          "metadata": {},
          "execution_count": 5
        }
      ]
    },
    {
      "cell_type": "code",
      "source": [
        "data.shape"
      ],
      "metadata": {
        "colab": {
          "base_uri": "https://localhost:8080/"
        },
        "id": "2Wl3tYhgGZ8Q",
        "outputId": "ccda6503-6865-4c55-a76b-0d92c80a10e6"
      },
      "execution_count": 6,
      "outputs": [
        {
          "output_type": "execute_result",
          "data": {
            "text/plain": [
              "(20311, 19)"
            ]
          },
          "metadata": {},
          "execution_count": 6
        }
      ]
    },
    {
      "cell_type": "code",
      "source": [
        "data.isnull().sum()"
      ],
      "metadata": {
        "colab": {
          "base_uri": "https://localhost:8080/"
        },
        "id": "NqGJ4kqZHx6z",
        "outputId": "18615c54-b1e5-40c8-adb8-b9f6fc6c88f8"
      },
      "execution_count": 7,
      "outputs": [
        {
          "output_type": "execute_result",
          "data": {
            "text/plain": [
              "valence             0\n",
              "year                0\n",
              "acousticness        0\n",
              "artists             0\n",
              "danceability        0\n",
              "duration_ms         0\n",
              "energy              0\n",
              "explicit            0\n",
              "id                  0\n",
              "instrumentalness    0\n",
              "key                 0\n",
              "liveness            0\n",
              "loudness            0\n",
              "mode                0\n",
              "name                0\n",
              "popularity          0\n",
              "speechiness         0\n",
              "tempo               0\n",
              "artists_song        0\n",
              "dtype: int64"
            ]
          },
          "metadata": {},
          "execution_count": 7
        }
      ]
    },
    {
      "cell_type": "code",
      "source": [
        "data.isna().sum()"
      ],
      "metadata": {
        "colab": {
          "base_uri": "https://localhost:8080/"
        },
        "id": "srIZvS-ZIBNH",
        "outputId": "6e2cb0b1-003a-4698-f8f9-f38214f4cd72"
      },
      "execution_count": 8,
      "outputs": [
        {
          "output_type": "execute_result",
          "data": {
            "text/plain": [
              "valence             0\n",
              "year                0\n",
              "acousticness        0\n",
              "artists             0\n",
              "danceability        0\n",
              "duration_ms         0\n",
              "energy              0\n",
              "explicit            0\n",
              "id                  0\n",
              "instrumentalness    0\n",
              "key                 0\n",
              "liveness            0\n",
              "loudness            0\n",
              "mode                0\n",
              "name                0\n",
              "popularity          0\n",
              "speechiness         0\n",
              "tempo               0\n",
              "artists_song        0\n",
              "dtype: int64"
            ]
          },
          "metadata": {},
          "execution_count": 8
        }
      ]
    },
    {
      "cell_type": "markdown",
      "source": [
        "So we have 20311 songs with 19 atributes, it's seems that's possible to train the program to recommend a next song to the listener. In addition there's no null or Nan values.\n",
        "\n",
        "Observe that we have some columns that doesn't influences in a song recommendation, like the key, id, mode and explicit."
      ],
      "metadata": {
        "id": "qrgeoLtEGdc4"
      }
    },
    {
      "cell_type": "code",
      "source": [
        "data.drop(['explicit','mode','key'],inplace=True,axis=1)"
      ],
      "metadata": {
        "id": "16rxP-lXGomo"
      },
      "execution_count": 9,
      "outputs": []
    },
    {
      "cell_type": "code",
      "source": [
        "data.shape"
      ],
      "metadata": {
        "colab": {
          "base_uri": "https://localhost:8080/"
        },
        "id": "j5eGqL0mIc3Z",
        "outputId": "3a020e2d-d2b0-47c2-b801-df21dcc52869"
      },
      "execution_count": 10,
      "outputs": [
        {
          "output_type": "execute_result",
          "data": {
            "text/plain": [
              "(20311, 16)"
            ]
          },
          "metadata": {},
          "execution_count": 10
        }
      ]
    },
    {
      "cell_type": "markdown",
      "source": [
        "Now let's look to the data_genre"
      ],
      "metadata": {
        "id": "KvrNIj4ZI1oI"
      }
    },
    {
      "cell_type": "code",
      "source": [
        "data_genres.head(2)"
      ],
      "metadata": {
        "colab": {
          "base_uri": "https://localhost:8080/",
          "height": 0
        },
        "id": "FO9ckhQ6IgUV",
        "outputId": "eb89e576-4a43-4ced-f803-63f4653fd61a"
      },
      "execution_count": 11,
      "outputs": [
        {
          "output_type": "execute_result",
          "data": {
            "text/plain": [
              "   mode                  genres  acousticness  danceability   duration_ms  \\\n",
              "0     1  21st century classical      0.979333      0.162883  1.602977e+05   \n",
              "1     1                   432hz      0.494780      0.299333  1.048887e+06   \n",
              "\n",
              "     energy  instrumentalness  liveness   loudness  speechiness       tempo  \\\n",
              "0  0.071317          0.606834    0.3616 -31.514333     0.040567   75.336500   \n",
              "1  0.450678          0.477762    0.1310 -16.854000     0.076817  120.285667   \n",
              "\n",
              "    valence  popularity  key  \n",
              "0  0.103783   27.833333    6  \n",
              "1  0.221750   52.500000    5  "
            ],
            "text/html": [
              "\n",
              "  <div id=\"df-d37b3177-05f8-4438-aa56-8c4b5d1781cb\">\n",
              "    <div class=\"colab-df-container\">\n",
              "      <div>\n",
              "<style scoped>\n",
              "    .dataframe tbody tr th:only-of-type {\n",
              "        vertical-align: middle;\n",
              "    }\n",
              "\n",
              "    .dataframe tbody tr th {\n",
              "        vertical-align: top;\n",
              "    }\n",
              "\n",
              "    .dataframe thead th {\n",
              "        text-align: right;\n",
              "    }\n",
              "</style>\n",
              "<table border=\"1\" class=\"dataframe\">\n",
              "  <thead>\n",
              "    <tr style=\"text-align: right;\">\n",
              "      <th></th>\n",
              "      <th>mode</th>\n",
              "      <th>genres</th>\n",
              "      <th>acousticness</th>\n",
              "      <th>danceability</th>\n",
              "      <th>duration_ms</th>\n",
              "      <th>energy</th>\n",
              "      <th>instrumentalness</th>\n",
              "      <th>liveness</th>\n",
              "      <th>loudness</th>\n",
              "      <th>speechiness</th>\n",
              "      <th>tempo</th>\n",
              "      <th>valence</th>\n",
              "      <th>popularity</th>\n",
              "      <th>key</th>\n",
              "    </tr>\n",
              "  </thead>\n",
              "  <tbody>\n",
              "    <tr>\n",
              "      <th>0</th>\n",
              "      <td>1</td>\n",
              "      <td>21st century classical</td>\n",
              "      <td>0.979333</td>\n",
              "      <td>0.162883</td>\n",
              "      <td>1.602977e+05</td>\n",
              "      <td>0.071317</td>\n",
              "      <td>0.606834</td>\n",
              "      <td>0.3616</td>\n",
              "      <td>-31.514333</td>\n",
              "      <td>0.040567</td>\n",
              "      <td>75.336500</td>\n",
              "      <td>0.103783</td>\n",
              "      <td>27.833333</td>\n",
              "      <td>6</td>\n",
              "    </tr>\n",
              "    <tr>\n",
              "      <th>1</th>\n",
              "      <td>1</td>\n",
              "      <td>432hz</td>\n",
              "      <td>0.494780</td>\n",
              "      <td>0.299333</td>\n",
              "      <td>1.048887e+06</td>\n",
              "      <td>0.450678</td>\n",
              "      <td>0.477762</td>\n",
              "      <td>0.1310</td>\n",
              "      <td>-16.854000</td>\n",
              "      <td>0.076817</td>\n",
              "      <td>120.285667</td>\n",
              "      <td>0.221750</td>\n",
              "      <td>52.500000</td>\n",
              "      <td>5</td>\n",
              "    </tr>\n",
              "  </tbody>\n",
              "</table>\n",
              "</div>\n",
              "      <button class=\"colab-df-convert\" onclick=\"convertToInteractive('df-d37b3177-05f8-4438-aa56-8c4b5d1781cb')\"\n",
              "              title=\"Convert this dataframe to an interactive table.\"\n",
              "              style=\"display:none;\">\n",
              "        \n",
              "  <svg xmlns=\"http://www.w3.org/2000/svg\" height=\"24px\"viewBox=\"0 0 24 24\"\n",
              "       width=\"24px\">\n",
              "    <path d=\"M0 0h24v24H0V0z\" fill=\"none\"/>\n",
              "    <path d=\"M18.56 5.44l.94 2.06.94-2.06 2.06-.94-2.06-.94-.94-2.06-.94 2.06-2.06.94zm-11 1L8.5 8.5l.94-2.06 2.06-.94-2.06-.94L8.5 2.5l-.94 2.06-2.06.94zm10 10l.94 2.06.94-2.06 2.06-.94-2.06-.94-.94-2.06-.94 2.06-2.06.94z\"/><path d=\"M17.41 7.96l-1.37-1.37c-.4-.4-.92-.59-1.43-.59-.52 0-1.04.2-1.43.59L10.3 9.45l-7.72 7.72c-.78.78-.78 2.05 0 2.83L4 21.41c.39.39.9.59 1.41.59.51 0 1.02-.2 1.41-.59l7.78-7.78 2.81-2.81c.8-.78.8-2.07 0-2.86zM5.41 20L4 18.59l7.72-7.72 1.47 1.35L5.41 20z\"/>\n",
              "  </svg>\n",
              "      </button>\n",
              "      \n",
              "  <style>\n",
              "    .colab-df-container {\n",
              "      display:flex;\n",
              "      flex-wrap:wrap;\n",
              "      gap: 12px;\n",
              "    }\n",
              "\n",
              "    .colab-df-convert {\n",
              "      background-color: #E8F0FE;\n",
              "      border: none;\n",
              "      border-radius: 50%;\n",
              "      cursor: pointer;\n",
              "      display: none;\n",
              "      fill: #1967D2;\n",
              "      height: 32px;\n",
              "      padding: 0 0 0 0;\n",
              "      width: 32px;\n",
              "    }\n",
              "\n",
              "    .colab-df-convert:hover {\n",
              "      background-color: #E2EBFA;\n",
              "      box-shadow: 0px 1px 2px rgba(60, 64, 67, 0.3), 0px 1px 3px 1px rgba(60, 64, 67, 0.15);\n",
              "      fill: #174EA6;\n",
              "    }\n",
              "\n",
              "    [theme=dark] .colab-df-convert {\n",
              "      background-color: #3B4455;\n",
              "      fill: #D2E3FC;\n",
              "    }\n",
              "\n",
              "    [theme=dark] .colab-df-convert:hover {\n",
              "      background-color: #434B5C;\n",
              "      box-shadow: 0px 1px 3px 1px rgba(0, 0, 0, 0.15);\n",
              "      filter: drop-shadow(0px 1px 2px rgba(0, 0, 0, 0.3));\n",
              "      fill: #FFFFFF;\n",
              "    }\n",
              "  </style>\n",
              "\n",
              "      <script>\n",
              "        const buttonEl =\n",
              "          document.querySelector('#df-d37b3177-05f8-4438-aa56-8c4b5d1781cb button.colab-df-convert');\n",
              "        buttonEl.style.display =\n",
              "          google.colab.kernel.accessAllowed ? 'block' : 'none';\n",
              "\n",
              "        async function convertToInteractive(key) {\n",
              "          const element = document.querySelector('#df-d37b3177-05f8-4438-aa56-8c4b5d1781cb');\n",
              "          const dataTable =\n",
              "            await google.colab.kernel.invokeFunction('convertToInteractive',\n",
              "                                                     [key], {});\n",
              "          if (!dataTable) return;\n",
              "\n",
              "          const docLinkHtml = 'Like what you see? Visit the ' +\n",
              "            '<a target=\"_blank\" href=https://colab.research.google.com/notebooks/data_table.ipynb>data table notebook</a>'\n",
              "            + ' to learn more about interactive tables.';\n",
              "          element.innerHTML = '';\n",
              "          dataTable['output_type'] = 'display_data';\n",
              "          await google.colab.output.renderOutput(dataTable, element);\n",
              "          const docLink = document.createElement('div');\n",
              "          docLink.innerHTML = docLinkHtml;\n",
              "          element.appendChild(docLink);\n",
              "        }\n",
              "      </script>\n",
              "    </div>\n",
              "  </div>\n",
              "  "
            ]
          },
          "metadata": {},
          "execution_count": 11
        }
      ]
    },
    {
      "cell_type": "code",
      "source": [
        "data_genres.drop(['key','mode'],inplace=True,axis=1)"
      ],
      "metadata": {
        "id": "P2L-dOJKJvf2"
      },
      "execution_count": 12,
      "outputs": []
    },
    {
      "cell_type": "markdown",
      "source": [
        "Now let's look to data_year"
      ],
      "metadata": {
        "id": "x8kLUvQqJ84x"
      }
    },
    {
      "cell_type": "code",
      "source": [
        "data_year.head(2)"
      ],
      "metadata": {
        "colab": {
          "base_uri": "https://localhost:8080/",
          "height": 0
        },
        "id": "0UnkIxSYKASe",
        "outputId": "44ac0c16-58b2-41d6-9be4-e6e0ebb4e625"
      },
      "execution_count": 13,
      "outputs": [
        {
          "output_type": "execute_result",
          "data": {
            "text/plain": [
              "   mode  year  acousticness  danceability    duration_ms    energy  \\\n",
              "0     1  1921      0.886896      0.418597  260537.166667  0.231815   \n",
              "1     1  1922      0.938592      0.482042  165469.746479  0.237815   \n",
              "\n",
              "   instrumentalness  liveness   loudness  speechiness       tempo   valence  \\\n",
              "0          0.344878   0.20571 -17.048667     0.073662  101.531493  0.379327   \n",
              "1          0.434195   0.24072 -19.275282     0.116655  100.884521  0.535549   \n",
              "\n",
              "   popularity  key  \n",
              "0    0.653333    2  \n",
              "1    0.140845   10  "
            ],
            "text/html": [
              "\n",
              "  <div id=\"df-ab611320-dcd8-45ed-b3f6-751f359302d6\">\n",
              "    <div class=\"colab-df-container\">\n",
              "      <div>\n",
              "<style scoped>\n",
              "    .dataframe tbody tr th:only-of-type {\n",
              "        vertical-align: middle;\n",
              "    }\n",
              "\n",
              "    .dataframe tbody tr th {\n",
              "        vertical-align: top;\n",
              "    }\n",
              "\n",
              "    .dataframe thead th {\n",
              "        text-align: right;\n",
              "    }\n",
              "</style>\n",
              "<table border=\"1\" class=\"dataframe\">\n",
              "  <thead>\n",
              "    <tr style=\"text-align: right;\">\n",
              "      <th></th>\n",
              "      <th>mode</th>\n",
              "      <th>year</th>\n",
              "      <th>acousticness</th>\n",
              "      <th>danceability</th>\n",
              "      <th>duration_ms</th>\n",
              "      <th>energy</th>\n",
              "      <th>instrumentalness</th>\n",
              "      <th>liveness</th>\n",
              "      <th>loudness</th>\n",
              "      <th>speechiness</th>\n",
              "      <th>tempo</th>\n",
              "      <th>valence</th>\n",
              "      <th>popularity</th>\n",
              "      <th>key</th>\n",
              "    </tr>\n",
              "  </thead>\n",
              "  <tbody>\n",
              "    <tr>\n",
              "      <th>0</th>\n",
              "      <td>1</td>\n",
              "      <td>1921</td>\n",
              "      <td>0.886896</td>\n",
              "      <td>0.418597</td>\n",
              "      <td>260537.166667</td>\n",
              "      <td>0.231815</td>\n",
              "      <td>0.344878</td>\n",
              "      <td>0.20571</td>\n",
              "      <td>-17.048667</td>\n",
              "      <td>0.073662</td>\n",
              "      <td>101.531493</td>\n",
              "      <td>0.379327</td>\n",
              "      <td>0.653333</td>\n",
              "      <td>2</td>\n",
              "    </tr>\n",
              "    <tr>\n",
              "      <th>1</th>\n",
              "      <td>1</td>\n",
              "      <td>1922</td>\n",
              "      <td>0.938592</td>\n",
              "      <td>0.482042</td>\n",
              "      <td>165469.746479</td>\n",
              "      <td>0.237815</td>\n",
              "      <td>0.434195</td>\n",
              "      <td>0.24072</td>\n",
              "      <td>-19.275282</td>\n",
              "      <td>0.116655</td>\n",
              "      <td>100.884521</td>\n",
              "      <td>0.535549</td>\n",
              "      <td>0.140845</td>\n",
              "      <td>10</td>\n",
              "    </tr>\n",
              "  </tbody>\n",
              "</table>\n",
              "</div>\n",
              "      <button class=\"colab-df-convert\" onclick=\"convertToInteractive('df-ab611320-dcd8-45ed-b3f6-751f359302d6')\"\n",
              "              title=\"Convert this dataframe to an interactive table.\"\n",
              "              style=\"display:none;\">\n",
              "        \n",
              "  <svg xmlns=\"http://www.w3.org/2000/svg\" height=\"24px\"viewBox=\"0 0 24 24\"\n",
              "       width=\"24px\">\n",
              "    <path d=\"M0 0h24v24H0V0z\" fill=\"none\"/>\n",
              "    <path d=\"M18.56 5.44l.94 2.06.94-2.06 2.06-.94-2.06-.94-.94-2.06-.94 2.06-2.06.94zm-11 1L8.5 8.5l.94-2.06 2.06-.94-2.06-.94L8.5 2.5l-.94 2.06-2.06.94zm10 10l.94 2.06.94-2.06 2.06-.94-2.06-.94-.94-2.06-.94 2.06-2.06.94z\"/><path d=\"M17.41 7.96l-1.37-1.37c-.4-.4-.92-.59-1.43-.59-.52 0-1.04.2-1.43.59L10.3 9.45l-7.72 7.72c-.78.78-.78 2.05 0 2.83L4 21.41c.39.39.9.59 1.41.59.51 0 1.02-.2 1.41-.59l7.78-7.78 2.81-2.81c.8-.78.8-2.07 0-2.86zM5.41 20L4 18.59l7.72-7.72 1.47 1.35L5.41 20z\"/>\n",
              "  </svg>\n",
              "      </button>\n",
              "      \n",
              "  <style>\n",
              "    .colab-df-container {\n",
              "      display:flex;\n",
              "      flex-wrap:wrap;\n",
              "      gap: 12px;\n",
              "    }\n",
              "\n",
              "    .colab-df-convert {\n",
              "      background-color: #E8F0FE;\n",
              "      border: none;\n",
              "      border-radius: 50%;\n",
              "      cursor: pointer;\n",
              "      display: none;\n",
              "      fill: #1967D2;\n",
              "      height: 32px;\n",
              "      padding: 0 0 0 0;\n",
              "      width: 32px;\n",
              "    }\n",
              "\n",
              "    .colab-df-convert:hover {\n",
              "      background-color: #E2EBFA;\n",
              "      box-shadow: 0px 1px 2px rgba(60, 64, 67, 0.3), 0px 1px 3px 1px rgba(60, 64, 67, 0.15);\n",
              "      fill: #174EA6;\n",
              "    }\n",
              "\n",
              "    [theme=dark] .colab-df-convert {\n",
              "      background-color: #3B4455;\n",
              "      fill: #D2E3FC;\n",
              "    }\n",
              "\n",
              "    [theme=dark] .colab-df-convert:hover {\n",
              "      background-color: #434B5C;\n",
              "      box-shadow: 0px 1px 3px 1px rgba(0, 0, 0, 0.15);\n",
              "      filter: drop-shadow(0px 1px 2px rgba(0, 0, 0, 0.3));\n",
              "      fill: #FFFFFF;\n",
              "    }\n",
              "  </style>\n",
              "\n",
              "      <script>\n",
              "        const buttonEl =\n",
              "          document.querySelector('#df-ab611320-dcd8-45ed-b3f6-751f359302d6 button.colab-df-convert');\n",
              "        buttonEl.style.display =\n",
              "          google.colab.kernel.accessAllowed ? 'block' : 'none';\n",
              "\n",
              "        async function convertToInteractive(key) {\n",
              "          const element = document.querySelector('#df-ab611320-dcd8-45ed-b3f6-751f359302d6');\n",
              "          const dataTable =\n",
              "            await google.colab.kernel.invokeFunction('convertToInteractive',\n",
              "                                                     [key], {});\n",
              "          if (!dataTable) return;\n",
              "\n",
              "          const docLinkHtml = 'Like what you see? Visit the ' +\n",
              "            '<a target=\"_blank\" href=https://colab.research.google.com/notebooks/data_table.ipynb>data table notebook</a>'\n",
              "            + ' to learn more about interactive tables.';\n",
              "          element.innerHTML = '';\n",
              "          dataTable['output_type'] = 'display_data';\n",
              "          await google.colab.output.renderOutput(dataTable, element);\n",
              "          const docLink = document.createElement('div');\n",
              "          docLink.innerHTML = docLinkHtml;\n",
              "          element.appendChild(docLink);\n",
              "        }\n",
              "      </script>\n",
              "    </div>\n",
              "  </div>\n",
              "  "
            ]
          },
          "metadata": {},
          "execution_count": 13
        }
      ]
    },
    {
      "cell_type": "code",
      "source": [
        "data_year.drop(['mode','key'],inplace=True,axis=1)"
      ],
      "metadata": {
        "id": "RoWHc6UlKKoE"
      },
      "execution_count": 14,
      "outputs": []
    },
    {
      "cell_type": "markdown",
      "source": [
        "The ideia is to cross the datas between the datasets. We see that both 'data' and 'data_year' have the column 'year'. Let's investigate what value this column take in each one."
      ],
      "metadata": {
        "id": "bUnsoAUMKQ3H"
      }
    },
    {
      "cell_type": "code",
      "source": [
        "data['year'].unique()"
      ],
      "metadata": {
        "colab": {
          "base_uri": "https://localhost:8080/"
        },
        "id": "Mi52O1w9LUOt",
        "outputId": "a3a735a3-f81c-47a5-de9d-0f7ce29a21d8"
      },
      "execution_count": 15,
      "outputs": [
        {
          "output_type": "execute_result",
          "data": {
            "text/plain": [
              "array([2000, 2001, 2002, 2003, 2004, 2005, 2006, 2007, 2008, 2009, 2010,\n",
              "       2011, 2012, 2013, 2014, 2015, 2016, 2017, 2018, 2019, 2020])"
            ]
          },
          "metadata": {},
          "execution_count": 15
        }
      ]
    },
    {
      "cell_type": "code",
      "source": [
        "data_year['year'].unique()"
      ],
      "metadata": {
        "colab": {
          "base_uri": "https://localhost:8080/"
        },
        "id": "9Cbx80PyLXv6",
        "outputId": "6df09cf2-edc5-4ce0-86ad-45a565ddc352"
      },
      "execution_count": 16,
      "outputs": [
        {
          "output_type": "execute_result",
          "data": {
            "text/plain": [
              "array([1921, 1922, 1923, 1924, 1925, 1926, 1927, 1928, 1929, 1930, 1931,\n",
              "       1932, 1933, 1934, 1935, 1936, 1937, 1938, 1939, 1940, 1941, 1942,\n",
              "       1943, 1944, 1945, 1946, 1947, 1948, 1949, 1950, 1951, 1952, 1953,\n",
              "       1954, 1955, 1956, 1957, 1958, 1959, 1960, 1961, 1962, 1963, 1964,\n",
              "       1965, 1966, 1967, 1968, 1969, 1970, 1971, 1972, 1973, 1974, 1975,\n",
              "       1976, 1977, 1978, 1979, 1980, 1981, 1982, 1983, 1984, 1985, 1986,\n",
              "       1987, 1988, 1989, 1990, 1991, 1992, 1993, 1994, 1995, 1996, 1997,\n",
              "       1998, 1999, 2000, 2001, 2002, 2003, 2004, 2005, 2006, 2007, 2008,\n",
              "       2009, 2010, 2011, 2012, 2013, 2014, 2015, 2016, 2017, 2018, 2019,\n",
              "       2020])"
            ]
          },
          "metadata": {},
          "execution_count": 16
        }
      ]
    },
    {
      "cell_type": "markdown",
      "source": [
        "So, the data_year goes from 1921 to 2020 while data just goes until 2000. Then, we can discard from 1921 to 2000 in data_year."
      ],
      "metadata": {
        "id": "Dz9y9uBxLdnV"
      }
    },
    {
      "cell_type": "code",
      "source": [
        "data_year=data_year[data_year['year'] >= 2000]\n",
        "data_year.shape"
      ],
      "metadata": {
        "colab": {
          "base_uri": "https://localhost:8080/"
        },
        "id": "4RxdZOjoLuAr",
        "outputId": "cf3dcc8e-da27-4ad5-c662-a2cf61fa2879"
      },
      "execution_count": 17,
      "outputs": [
        {
          "output_type": "execute_result",
          "data": {
            "text/plain": [
              "(21, 12)"
            ]
          },
          "metadata": {},
          "execution_count": 17
        }
      ]
    },
    {
      "cell_type": "code",
      "source": [
        "data_year=data_year.reset_index()\n",
        "data_year.head(2)"
      ],
      "metadata": {
        "colab": {
          "base_uri": "https://localhost:8080/",
          "height": 0
        },
        "id": "_K6YV2j9M1m8",
        "outputId": "8ae5a149-d017-4d0b-94f1-50da295edcb6"
      },
      "execution_count": 18,
      "outputs": [
        {
          "output_type": "execute_result",
          "data": {
            "text/plain": [
              "   index  year  acousticness  danceability    duration_ms    energy  \\\n",
              "0     79  2000      0.289323      0.590918  242724.642638  0.625413   \n",
              "1     80  2001      0.286842      0.583318  240307.796010  0.626986   \n",
              "\n",
              "   instrumentalness  liveness  loudness  speechiness       tempo   valence  \\\n",
              "0          0.101168  0.197686 -8.247766     0.089205  118.999323  0.559475   \n",
              "1          0.107214  0.187026 -8.305095     0.089182  117.765399  0.541479   \n",
              "\n",
              "   popularity  \n",
              "0   46.684049  \n",
              "1   48.750125  "
            ],
            "text/html": [
              "\n",
              "  <div id=\"df-286854a8-a55d-4b11-a92d-ad443eea68d4\">\n",
              "    <div class=\"colab-df-container\">\n",
              "      <div>\n",
              "<style scoped>\n",
              "    .dataframe tbody tr th:only-of-type {\n",
              "        vertical-align: middle;\n",
              "    }\n",
              "\n",
              "    .dataframe tbody tr th {\n",
              "        vertical-align: top;\n",
              "    }\n",
              "\n",
              "    .dataframe thead th {\n",
              "        text-align: right;\n",
              "    }\n",
              "</style>\n",
              "<table border=\"1\" class=\"dataframe\">\n",
              "  <thead>\n",
              "    <tr style=\"text-align: right;\">\n",
              "      <th></th>\n",
              "      <th>index</th>\n",
              "      <th>year</th>\n",
              "      <th>acousticness</th>\n",
              "      <th>danceability</th>\n",
              "      <th>duration_ms</th>\n",
              "      <th>energy</th>\n",
              "      <th>instrumentalness</th>\n",
              "      <th>liveness</th>\n",
              "      <th>loudness</th>\n",
              "      <th>speechiness</th>\n",
              "      <th>tempo</th>\n",
              "      <th>valence</th>\n",
              "      <th>popularity</th>\n",
              "    </tr>\n",
              "  </thead>\n",
              "  <tbody>\n",
              "    <tr>\n",
              "      <th>0</th>\n",
              "      <td>79</td>\n",
              "      <td>2000</td>\n",
              "      <td>0.289323</td>\n",
              "      <td>0.590918</td>\n",
              "      <td>242724.642638</td>\n",
              "      <td>0.625413</td>\n",
              "      <td>0.101168</td>\n",
              "      <td>0.197686</td>\n",
              "      <td>-8.247766</td>\n",
              "      <td>0.089205</td>\n",
              "      <td>118.999323</td>\n",
              "      <td>0.559475</td>\n",
              "      <td>46.684049</td>\n",
              "    </tr>\n",
              "    <tr>\n",
              "      <th>1</th>\n",
              "      <td>80</td>\n",
              "      <td>2001</td>\n",
              "      <td>0.286842</td>\n",
              "      <td>0.583318</td>\n",
              "      <td>240307.796010</td>\n",
              "      <td>0.626986</td>\n",
              "      <td>0.107214</td>\n",
              "      <td>0.187026</td>\n",
              "      <td>-8.305095</td>\n",
              "      <td>0.089182</td>\n",
              "      <td>117.765399</td>\n",
              "      <td>0.541479</td>\n",
              "      <td>48.750125</td>\n",
              "    </tr>\n",
              "  </tbody>\n",
              "</table>\n",
              "</div>\n",
              "      <button class=\"colab-df-convert\" onclick=\"convertToInteractive('df-286854a8-a55d-4b11-a92d-ad443eea68d4')\"\n",
              "              title=\"Convert this dataframe to an interactive table.\"\n",
              "              style=\"display:none;\">\n",
              "        \n",
              "  <svg xmlns=\"http://www.w3.org/2000/svg\" height=\"24px\"viewBox=\"0 0 24 24\"\n",
              "       width=\"24px\">\n",
              "    <path d=\"M0 0h24v24H0V0z\" fill=\"none\"/>\n",
              "    <path d=\"M18.56 5.44l.94 2.06.94-2.06 2.06-.94-2.06-.94-.94-2.06-.94 2.06-2.06.94zm-11 1L8.5 8.5l.94-2.06 2.06-.94-2.06-.94L8.5 2.5l-.94 2.06-2.06.94zm10 10l.94 2.06.94-2.06 2.06-.94-2.06-.94-.94-2.06-.94 2.06-2.06.94z\"/><path d=\"M17.41 7.96l-1.37-1.37c-.4-.4-.92-.59-1.43-.59-.52 0-1.04.2-1.43.59L10.3 9.45l-7.72 7.72c-.78.78-.78 2.05 0 2.83L4 21.41c.39.39.9.59 1.41.59.51 0 1.02-.2 1.41-.59l7.78-7.78 2.81-2.81c.8-.78.8-2.07 0-2.86zM5.41 20L4 18.59l7.72-7.72 1.47 1.35L5.41 20z\"/>\n",
              "  </svg>\n",
              "      </button>\n",
              "      \n",
              "  <style>\n",
              "    .colab-df-container {\n",
              "      display:flex;\n",
              "      flex-wrap:wrap;\n",
              "      gap: 12px;\n",
              "    }\n",
              "\n",
              "    .colab-df-convert {\n",
              "      background-color: #E8F0FE;\n",
              "      border: none;\n",
              "      border-radius: 50%;\n",
              "      cursor: pointer;\n",
              "      display: none;\n",
              "      fill: #1967D2;\n",
              "      height: 32px;\n",
              "      padding: 0 0 0 0;\n",
              "      width: 32px;\n",
              "    }\n",
              "\n",
              "    .colab-df-convert:hover {\n",
              "      background-color: #E2EBFA;\n",
              "      box-shadow: 0px 1px 2px rgba(60, 64, 67, 0.3), 0px 1px 3px 1px rgba(60, 64, 67, 0.15);\n",
              "      fill: #174EA6;\n",
              "    }\n",
              "\n",
              "    [theme=dark] .colab-df-convert {\n",
              "      background-color: #3B4455;\n",
              "      fill: #D2E3FC;\n",
              "    }\n",
              "\n",
              "    [theme=dark] .colab-df-convert:hover {\n",
              "      background-color: #434B5C;\n",
              "      box-shadow: 0px 1px 3px 1px rgba(0, 0, 0, 0.15);\n",
              "      filter: drop-shadow(0px 1px 2px rgba(0, 0, 0, 0.3));\n",
              "      fill: #FFFFFF;\n",
              "    }\n",
              "  </style>\n",
              "\n",
              "      <script>\n",
              "        const buttonEl =\n",
              "          document.querySelector('#df-286854a8-a55d-4b11-a92d-ad443eea68d4 button.colab-df-convert');\n",
              "        buttonEl.style.display =\n",
              "          google.colab.kernel.accessAllowed ? 'block' : 'none';\n",
              "\n",
              "        async function convertToInteractive(key) {\n",
              "          const element = document.querySelector('#df-286854a8-a55d-4b11-a92d-ad443eea68d4');\n",
              "          const dataTable =\n",
              "            await google.colab.kernel.invokeFunction('convertToInteractive',\n",
              "                                                     [key], {});\n",
              "          if (!dataTable) return;\n",
              "\n",
              "          const docLinkHtml = 'Like what you see? Visit the ' +\n",
              "            '<a target=\"_blank\" href=https://colab.research.google.com/notebooks/data_table.ipynb>data table notebook</a>'\n",
              "            + ' to learn more about interactive tables.';\n",
              "          element.innerHTML = '';\n",
              "          dataTable['output_type'] = 'display_data';\n",
              "          await google.colab.output.renderOutput(dataTable, element);\n",
              "          const docLink = document.createElement('div');\n",
              "          docLink.innerHTML = docLinkHtml;\n",
              "          element.appendChild(docLink);\n",
              "        }\n",
              "      </script>\n",
              "    </div>\n",
              "  </div>\n",
              "  "
            ]
          },
          "metadata": {},
          "execution_count": 18
        }
      ]
    },
    {
      "cell_type": "markdown",
      "source": [
        "## Data visualization"
      ],
      "metadata": {
        "id": "U3HJn04mRGwA"
      }
    },
    {
      "cell_type": "code",
      "source": [
        "fig = go.Figure()\n",
        "fig.add_trace(go.Scatter(x=data_year['year'],y=data_year['acousticness'],name='acousticness'))\n",
        "fig.add_trace(go.Scatter(x=data_year['year'],y=data_year['danceability'],name='danceability'))\n",
        "fig.add_trace(go.Scatter(x=data_year['year'],y=data_year['energy'],name='energy'))\n",
        "fig.add_trace(go.Scatter(x=data_year['year'],y=data_year['instrumentalness'],name='instrumentalness'))\n",
        "fig.add_trace(go.Scatter(x=data_year['year'],y=data_year['speechiness'],name='speechiness'))\n",
        "fig.add_trace(go.Scatter(x=data_year['year'],y=data_year['valence'],name='valence'))\n",
        "fig.show()"
      ],
      "metadata": {
        "colab": {
          "base_uri": "https://localhost:8080/",
          "height": 542
        },
        "id": "MkkLpbBYRF85",
        "outputId": "ee700ab0-6429-4676-84d0-cd8d9bf3d159"
      },
      "execution_count": 19,
      "outputs": [
        {
          "output_type": "display_data",
          "data": {
            "text/html": [
              "<html>\n",
              "<head><meta charset=\"utf-8\" /></head>\n",
              "<body>\n",
              "    <div>            <script src=\"https://cdnjs.cloudflare.com/ajax/libs/mathjax/2.7.5/MathJax.js?config=TeX-AMS-MML_SVG\"></script><script type=\"text/javascript\">if (window.MathJax) {MathJax.Hub.Config({SVG: {font: \"STIX-Web\"}});}</script>                <script type=\"text/javascript\">window.PlotlyConfig = {MathJaxConfig: 'local'};</script>\n",
              "        <script src=\"https://cdn.plot.ly/plotly-2.8.3.min.js\"></script>                <div id=\"ad0951a4-0986-4e00-83d6-507f8c7d8f93\" class=\"plotly-graph-div\" style=\"height:525px; width:100%;\"></div>            <script type=\"text/javascript\">                                    window.PLOTLYENV=window.PLOTLYENV || {};                                    if (document.getElementById(\"ad0951a4-0986-4e00-83d6-507f8c7d8f93\")) {                    Plotly.newPlot(                        \"ad0951a4-0986-4e00-83d6-507f8c7d8f93\",                        [{\"name\":\"acousticness\",\"x\":[2000,2001,2002,2003,2004,2005,2006,2007,2008,2009,2010,2011,2012,2013,2014,2015,2016,2017,2018,2019,2020],\"y\":[0.2893227005163599,0.2868424748428934,0.282624289885001,0.2564705181729783,0.2805589466225845,0.2557635068666665,0.2799863520256408,0.2540809575538463,0.2491917627212275,0.261928619096939,0.2426866435515872,0.2731826625185919,0.2499530443804624,0.2574880859564779,0.249312645880299,0.2539522577102332,0.2841710299554814,0.2860990665261043,0.2676329907750836,0.2782985863365824,0.2199308880935964],\"type\":\"scatter\"},{\"name\":\"danceability\",\"x\":[2000,2001,2002,2003,2004,2005,2006,2007,2008,2009,2010,2011,2012,2013,2014,2015,2016,2017,2018,2019,2020],\"y\":[0.590918047034764,0.5833178553615969,0.5761602999999997,0.5757633060388944,0.5676803662258397,0.5722805641025652,0.5682301538461539,0.5634143589743592,0.5791928388746803,0.5641903571428577,0.5724883432539687,0.5528669806643526,0.5708818508997433,0.5711480263157896,0.5899476807980057,0.5937740628166152,0.6002023928770179,0.6122170180722886,0.6635004755111744,0.6448141097998967,0.6929043349753701],\"type\":\"scatter\"},{\"name\":\"energy\",\"x\":[2000,2001,2002,2003,2004,2005,2006,2007,2008,2009,2010,2011,2012,2013,2014,2015,2016,2017,2018,2019,2020],\"y\":[0.6254128323108387,0.6269855221945144,0.6412697960000012,0.6601652610030712,0.6488679450661226,0.653208511282051,0.6503262820512825,0.6683047743589737,0.6714608207672623,0.6707487551020408,0.6817778026289684,0.6483008934060499,0.6565714601542408,0.6455968914473688,0.6487954437905223,0.6270642715298895,0.5928552316082347,0.5904210208835337,0.6024346220161672,0.5932240360184717,0.6312316354679793],\"type\":\"scatter\"},{\"name\":\"instrumentalness\",\"x\":[2000,2001,2002,2003,2004,2005,2006,2007,2008,2009,2010,2011,2012,2013,2014,2015,2016,2017,2018,2019,2020],\"y\":[0.1011677687934559,0.1072140189925186,0.0880483503149999,0.0830492746673491,0.0779340349084435,0.0901943611846154,0.0777014718769231,0.0729572680512819,0.0636620903171356,0.0758720736836735,0.0829805682192461,0.103772332166584,0.0852055206786631,0.0983650539170038,0.0765695548379051,0.1067868780547114,0.0939843871174179,0.0970906090662649,0.0542171216690441,0.0776402469728064,0.0163755243054187],\"type\":\"scatter\"},{\"name\":\"speechiness\",\"x\":[2000,2001,2002,2003,2004,2005,2006,2007,2008,2009,2010,2011,2012,2013,2014,2015,2016,2017,2018,2019,2020],\"y\":[0.0892054192229039,0.0891822942643391,0.0843075999999999,0.0939257420675538,0.0942388097660224,0.093333692307692,0.0858467692307692,0.0843473333333333,0.077356368286445,0.0854578061224489,0.0810314980158731,0.087479276152702,0.081742467866324,0.0938488866396761,0.0840605486284289,0.0967792299898684,0.1043132999443518,0.1105364959839356,0.1271755587256302,0.1210433555669573,0.1413836945812805],\"type\":\"scatter\"},{\"name\":\"valence\",\"x\":[2000,2001,2002,2003,2004,2005,2006,2007,2008,2009,2010,2011,2012,2013,2014,2015,2016,2017,2018,2019,2020],\"y\":[0.5594754601226991,0.541479107231919,0.5423971500000008,0.5305042476970324,0.5244885554425227,0.5325309230769236,0.5200283076923078,0.5167938461538473,0.5275418925831203,0.5071696617346935,0.5208951587301589,0.4724536787307882,0.4627090128534706,0.4547411943319834,0.4630487780548628,0.4320983687943254,0.4315320589872012,0.4164763112449793,0.4479212743699474,0.4588176295536167,0.5010478078817729],\"type\":\"scatter\"}],                        {\"template\":{\"data\":{\"bar\":[{\"error_x\":{\"color\":\"#2a3f5f\"},\"error_y\":{\"color\":\"#2a3f5f\"},\"marker\":{\"line\":{\"color\":\"#E5ECF6\",\"width\":0.5},\"pattern\":{\"fillmode\":\"overlay\",\"size\":10,\"solidity\":0.2}},\"type\":\"bar\"}],\"barpolar\":[{\"marker\":{\"line\":{\"color\":\"#E5ECF6\",\"width\":0.5},\"pattern\":{\"fillmode\":\"overlay\",\"size\":10,\"solidity\":0.2}},\"type\":\"barpolar\"}],\"carpet\":[{\"aaxis\":{\"endlinecolor\":\"#2a3f5f\",\"gridcolor\":\"white\",\"linecolor\":\"white\",\"minorgridcolor\":\"white\",\"startlinecolor\":\"#2a3f5f\"},\"baxis\":{\"endlinecolor\":\"#2a3f5f\",\"gridcolor\":\"white\",\"linecolor\":\"white\",\"minorgridcolor\":\"white\",\"startlinecolor\":\"#2a3f5f\"},\"type\":\"carpet\"}],\"choropleth\":[{\"colorbar\":{\"outlinewidth\":0,\"ticks\":\"\"},\"type\":\"choropleth\"}],\"contour\":[{\"colorbar\":{\"outlinewidth\":0,\"ticks\":\"\"},\"colorscale\":[[0.0,\"#0d0887\"],[0.1111111111111111,\"#46039f\"],[0.2222222222222222,\"#7201a8\"],[0.3333333333333333,\"#9c179e\"],[0.4444444444444444,\"#bd3786\"],[0.5555555555555556,\"#d8576b\"],[0.6666666666666666,\"#ed7953\"],[0.7777777777777778,\"#fb9f3a\"],[0.8888888888888888,\"#fdca26\"],[1.0,\"#f0f921\"]],\"type\":\"contour\"}],\"contourcarpet\":[{\"colorbar\":{\"outlinewidth\":0,\"ticks\":\"\"},\"type\":\"contourcarpet\"}],\"heatmap\":[{\"colorbar\":{\"outlinewidth\":0,\"ticks\":\"\"},\"colorscale\":[[0.0,\"#0d0887\"],[0.1111111111111111,\"#46039f\"],[0.2222222222222222,\"#7201a8\"],[0.3333333333333333,\"#9c179e\"],[0.4444444444444444,\"#bd3786\"],[0.5555555555555556,\"#d8576b\"],[0.6666666666666666,\"#ed7953\"],[0.7777777777777778,\"#fb9f3a\"],[0.8888888888888888,\"#fdca26\"],[1.0,\"#f0f921\"]],\"type\":\"heatmap\"}],\"heatmapgl\":[{\"colorbar\":{\"outlinewidth\":0,\"ticks\":\"\"},\"colorscale\":[[0.0,\"#0d0887\"],[0.1111111111111111,\"#46039f\"],[0.2222222222222222,\"#7201a8\"],[0.3333333333333333,\"#9c179e\"],[0.4444444444444444,\"#bd3786\"],[0.5555555555555556,\"#d8576b\"],[0.6666666666666666,\"#ed7953\"],[0.7777777777777778,\"#fb9f3a\"],[0.8888888888888888,\"#fdca26\"],[1.0,\"#f0f921\"]],\"type\":\"heatmapgl\"}],\"histogram\":[{\"marker\":{\"pattern\":{\"fillmode\":\"overlay\",\"size\":10,\"solidity\":0.2}},\"type\":\"histogram\"}],\"histogram2d\":[{\"colorbar\":{\"outlinewidth\":0,\"ticks\":\"\"},\"colorscale\":[[0.0,\"#0d0887\"],[0.1111111111111111,\"#46039f\"],[0.2222222222222222,\"#7201a8\"],[0.3333333333333333,\"#9c179e\"],[0.4444444444444444,\"#bd3786\"],[0.5555555555555556,\"#d8576b\"],[0.6666666666666666,\"#ed7953\"],[0.7777777777777778,\"#fb9f3a\"],[0.8888888888888888,\"#fdca26\"],[1.0,\"#f0f921\"]],\"type\":\"histogram2d\"}],\"histogram2dcontour\":[{\"colorbar\":{\"outlinewidth\":0,\"ticks\":\"\"},\"colorscale\":[[0.0,\"#0d0887\"],[0.1111111111111111,\"#46039f\"],[0.2222222222222222,\"#7201a8\"],[0.3333333333333333,\"#9c179e\"],[0.4444444444444444,\"#bd3786\"],[0.5555555555555556,\"#d8576b\"],[0.6666666666666666,\"#ed7953\"],[0.7777777777777778,\"#fb9f3a\"],[0.8888888888888888,\"#fdca26\"],[1.0,\"#f0f921\"]],\"type\":\"histogram2dcontour\"}],\"mesh3d\":[{\"colorbar\":{\"outlinewidth\":0,\"ticks\":\"\"},\"type\":\"mesh3d\"}],\"parcoords\":[{\"line\":{\"colorbar\":{\"outlinewidth\":0,\"ticks\":\"\"}},\"type\":\"parcoords\"}],\"pie\":[{\"automargin\":true,\"type\":\"pie\"}],\"scatter\":[{\"marker\":{\"colorbar\":{\"outlinewidth\":0,\"ticks\":\"\"}},\"type\":\"scatter\"}],\"scatter3d\":[{\"line\":{\"colorbar\":{\"outlinewidth\":0,\"ticks\":\"\"}},\"marker\":{\"colorbar\":{\"outlinewidth\":0,\"ticks\":\"\"}},\"type\":\"scatter3d\"}],\"scattercarpet\":[{\"marker\":{\"colorbar\":{\"outlinewidth\":0,\"ticks\":\"\"}},\"type\":\"scattercarpet\"}],\"scattergeo\":[{\"marker\":{\"colorbar\":{\"outlinewidth\":0,\"ticks\":\"\"}},\"type\":\"scattergeo\"}],\"scattergl\":[{\"marker\":{\"colorbar\":{\"outlinewidth\":0,\"ticks\":\"\"}},\"type\":\"scattergl\"}],\"scattermapbox\":[{\"marker\":{\"colorbar\":{\"outlinewidth\":0,\"ticks\":\"\"}},\"type\":\"scattermapbox\"}],\"scatterpolar\":[{\"marker\":{\"colorbar\":{\"outlinewidth\":0,\"ticks\":\"\"}},\"type\":\"scatterpolar\"}],\"scatterpolargl\":[{\"marker\":{\"colorbar\":{\"outlinewidth\":0,\"ticks\":\"\"}},\"type\":\"scatterpolargl\"}],\"scatterternary\":[{\"marker\":{\"colorbar\":{\"outlinewidth\":0,\"ticks\":\"\"}},\"type\":\"scatterternary\"}],\"surface\":[{\"colorbar\":{\"outlinewidth\":0,\"ticks\":\"\"},\"colorscale\":[[0.0,\"#0d0887\"],[0.1111111111111111,\"#46039f\"],[0.2222222222222222,\"#7201a8\"],[0.3333333333333333,\"#9c179e\"],[0.4444444444444444,\"#bd3786\"],[0.5555555555555556,\"#d8576b\"],[0.6666666666666666,\"#ed7953\"],[0.7777777777777778,\"#fb9f3a\"],[0.8888888888888888,\"#fdca26\"],[1.0,\"#f0f921\"]],\"type\":\"surface\"}],\"table\":[{\"cells\":{\"fill\":{\"color\":\"#EBF0F8\"},\"line\":{\"color\":\"white\"}},\"header\":{\"fill\":{\"color\":\"#C8D4E3\"},\"line\":{\"color\":\"white\"}},\"type\":\"table\"}]},\"layout\":{\"annotationdefaults\":{\"arrowcolor\":\"#2a3f5f\",\"arrowhead\":0,\"arrowwidth\":1},\"autotypenumbers\":\"strict\",\"coloraxis\":{\"colorbar\":{\"outlinewidth\":0,\"ticks\":\"\"}},\"colorscale\":{\"diverging\":[[0,\"#8e0152\"],[0.1,\"#c51b7d\"],[0.2,\"#de77ae\"],[0.3,\"#f1b6da\"],[0.4,\"#fde0ef\"],[0.5,\"#f7f7f7\"],[0.6,\"#e6f5d0\"],[0.7,\"#b8e186\"],[0.8,\"#7fbc41\"],[0.9,\"#4d9221\"],[1,\"#276419\"]],\"sequential\":[[0.0,\"#0d0887\"],[0.1111111111111111,\"#46039f\"],[0.2222222222222222,\"#7201a8\"],[0.3333333333333333,\"#9c179e\"],[0.4444444444444444,\"#bd3786\"],[0.5555555555555556,\"#d8576b\"],[0.6666666666666666,\"#ed7953\"],[0.7777777777777778,\"#fb9f3a\"],[0.8888888888888888,\"#fdca26\"],[1.0,\"#f0f921\"]],\"sequentialminus\":[[0.0,\"#0d0887\"],[0.1111111111111111,\"#46039f\"],[0.2222222222222222,\"#7201a8\"],[0.3333333333333333,\"#9c179e\"],[0.4444444444444444,\"#bd3786\"],[0.5555555555555556,\"#d8576b\"],[0.6666666666666666,\"#ed7953\"],[0.7777777777777778,\"#fb9f3a\"],[0.8888888888888888,\"#fdca26\"],[1.0,\"#f0f921\"]]},\"colorway\":[\"#636efa\",\"#EF553B\",\"#00cc96\",\"#ab63fa\",\"#FFA15A\",\"#19d3f3\",\"#FF6692\",\"#B6E880\",\"#FF97FF\",\"#FECB52\"],\"font\":{\"color\":\"#2a3f5f\"},\"geo\":{\"bgcolor\":\"white\",\"lakecolor\":\"white\",\"landcolor\":\"#E5ECF6\",\"showlakes\":true,\"showland\":true,\"subunitcolor\":\"white\"},\"hoverlabel\":{\"align\":\"left\"},\"hovermode\":\"closest\",\"mapbox\":{\"style\":\"light\"},\"paper_bgcolor\":\"white\",\"plot_bgcolor\":\"#E5ECF6\",\"polar\":{\"angularaxis\":{\"gridcolor\":\"white\",\"linecolor\":\"white\",\"ticks\":\"\"},\"bgcolor\":\"#E5ECF6\",\"radialaxis\":{\"gridcolor\":\"white\",\"linecolor\":\"white\",\"ticks\":\"\"}},\"scene\":{\"xaxis\":{\"backgroundcolor\":\"#E5ECF6\",\"gridcolor\":\"white\",\"gridwidth\":2,\"linecolor\":\"white\",\"showbackground\":true,\"ticks\":\"\",\"zerolinecolor\":\"white\"},\"yaxis\":{\"backgroundcolor\":\"#E5ECF6\",\"gridcolor\":\"white\",\"gridwidth\":2,\"linecolor\":\"white\",\"showbackground\":true,\"ticks\":\"\",\"zerolinecolor\":\"white\"},\"zaxis\":{\"backgroundcolor\":\"#E5ECF6\",\"gridcolor\":\"white\",\"gridwidth\":2,\"linecolor\":\"white\",\"showbackground\":true,\"ticks\":\"\",\"zerolinecolor\":\"white\"}},\"shapedefaults\":{\"line\":{\"color\":\"#2a3f5f\"}},\"ternary\":{\"aaxis\":{\"gridcolor\":\"white\",\"linecolor\":\"white\",\"ticks\":\"\"},\"baxis\":{\"gridcolor\":\"white\",\"linecolor\":\"white\",\"ticks\":\"\"},\"bgcolor\":\"#E5ECF6\",\"caxis\":{\"gridcolor\":\"white\",\"linecolor\":\"white\",\"ticks\":\"\"}},\"title\":{\"x\":0.05},\"xaxis\":{\"automargin\":true,\"gridcolor\":\"white\",\"linecolor\":\"white\",\"ticks\":\"\",\"title\":{\"standoff\":15},\"zerolinecolor\":\"white\",\"zerolinewidth\":2},\"yaxis\":{\"automargin\":true,\"gridcolor\":\"white\",\"linecolor\":\"white\",\"ticks\":\"\",\"title\":{\"standoff\":15},\"zerolinecolor\":\"white\",\"zerolinewidth\":2}}}},                        {\"responsive\": true}                    ).then(function(){\n",
              "                            \n",
              "var gd = document.getElementById('ad0951a4-0986-4e00-83d6-507f8c7d8f93');\n",
              "var x = new MutationObserver(function (mutations, observer) {{\n",
              "        var display = window.getComputedStyle(gd).display;\n",
              "        if (!display || display === 'none') {{\n",
              "            console.log([gd, 'removed!']);\n",
              "            Plotly.purge(gd);\n",
              "            observer.disconnect();\n",
              "        }}\n",
              "}});\n",
              "\n",
              "// Listen for the removal of the full notebook cells\n",
              "var notebookContainer = gd.closest('#notebook-container');\n",
              "if (notebookContainer) {{\n",
              "    x.observe(notebookContainer, {childList: true});\n",
              "}}\n",
              "\n",
              "// Listen for the clearing of the current output cell\n",
              "var outputEl = gd.closest('.output');\n",
              "if (outputEl) {{\n",
              "    x.observe(outputEl, {childList: true});\n",
              "}}\n",
              "\n",
              "                        })                };                            </script>        </div>\n",
              "</body>\n",
              "</html>"
            ]
          },
          "metadata": {}
        }
      ]
    },
    {
      "cell_type": "code",
      "source": [
        "figura = plt.figure(figsize=(12,12))\n",
        "sns.heatmap(data.corr(),annot=True)"
      ],
      "metadata": {
        "colab": {
          "base_uri": "https://localhost:8080/",
          "height": 798
        },
        "id": "quIgjFw4TZEA",
        "outputId": "d359617f-160f-4bc4-8a07-297c50d82fed"
      },
      "execution_count": 20,
      "outputs": [
        {
          "output_type": "execute_result",
          "data": {
            "text/plain": [
              "<matplotlib.axes._subplots.AxesSubplot at 0x7f5d94d68f10>"
            ]
          },
          "metadata": {},
          "execution_count": 20
        },
        {
          "output_type": "display_data",
          "data": {
            "text/plain": [
              "<Figure size 864x864 with 2 Axes>"
            ],
            "image/png": "[encoded data removed]"
          },
          "metadata": {
            "needs_background": "light"
          }
        }
      ]
    },
    {
      "cell_type": "markdown",
      "source": [
        "We can some features of the data: energy and acousticness have a inverse correlation as we could expect as loudness and acousticness."
      ],
      "metadata": {
        "id": "eHi7iGX_VkuJ"
      }
    },
    {
      "cell_type": "markdown",
      "source": [
        "## Applying ML"
      ],
      "metadata": {
        "id": "L3taYk57WUTV"
      }
    },
    {
      "cell_type": "markdown",
      "source": [
        "The data_genres only have one column that is a string and it's the genres. As we have one genre for row we can drop this column as well"
      ],
      "metadata": {
        "id": "qGQY_KGkXnya"
      }
    },
    {
      "cell_type": "markdown",
      "source": [
        "### Clustering by genres"
      ],
      "metadata": {
        "id": "nFGbpk_0wfqK"
      }
    },
    {
      "cell_type": "code",
      "source": [
        "genre1 = data_genres.drop(['genres'],axis=1)"
      ],
      "metadata": {
        "id": "Fh_IT1FCXz8K"
      },
      "execution_count": 21,
      "outputs": []
    },
    {
      "cell_type": "code",
      "source": [
        "from sklearn.pipeline import Pipeline\n",
        "from sklearn.preprocessing import StandardScaler\n",
        "from sklearn.decomposition import PCA"
      ],
      "metadata": {
        "id": "FCx93ABEV2jg"
      },
      "execution_count": 22,
      "outputs": []
    },
    {
      "cell_type": "code",
      "source": [
        "pca_pipeline = Pipeline([('Scaler',StandardScaler()),('PCA',PCA(n_components=2,random_state=1))])"
      ],
      "metadata": {
        "id": "o0rMIFKkWmFY"
      },
      "execution_count": 23,
      "outputs": []
    },
    {
      "cell_type": "code",
      "source": [
        "genre_pca = pca_pipeline.fit_transform(genre1)\n",
        "projection = pd.DataFrame(columns=['x','y'],data=genre_pca)"
      ],
      "metadata": {
        "id": "V60tpbFZX-KO"
      },
      "execution_count": 24,
      "outputs": []
    },
    {
      "cell_type": "code",
      "source": [
        "projection"
      ],
      "metadata": {
        "colab": {
          "base_uri": "https://localhost:8080/",
          "height": 0
        },
        "id": "CDr4EGUfsDF6",
        "outputId": "72082924-814f-4039-ed0d-07e1e96fb764"
      },
      "execution_count": 25,
      "outputs": [
        {
          "output_type": "execute_result",
          "data": {
            "text/plain": [
              "             x         y\n",
              "0     5.910268 -0.011146\n",
              "1     2.787093  4.498483\n",
              "2    -0.757538 -1.258495\n",
              "3     1.020521 -0.931690\n",
              "4     0.753911 -0.999861\n",
              "...        ...       ...\n",
              "2968 -0.475136 -0.017126\n",
              "2969 -3.026756 -1.304983\n",
              "2970 -0.832511 -1.089726\n",
              "2971  1.774790 -3.695233\n",
              "2972 -1.028069 -1.390709\n",
              "\n",
              "[2973 rows x 2 columns]"
            ],
            "text/html": [
              "\n",
              "  <div id=\"df-d0af9693-595e-4ded-8767-c521a5c33db1\">\n",
              "    <div class=\"colab-df-container\">\n",
              "      <div>\n",
              "<style scoped>\n",
              "    .dataframe tbody tr th:only-of-type {\n",
              "        vertical-align: middle;\n",
              "    }\n",
              "\n",
              "    .dataframe tbody tr th {\n",
              "        vertical-align: top;\n",
              "    }\n",
              "\n",
              "    .dataframe thead th {\n",
              "        text-align: right;\n",
              "    }\n",
              "</style>\n",
              "<table border=\"1\" class=\"dataframe\">\n",
              "  <thead>\n",
              "    <tr style=\"text-align: right;\">\n",
              "      <th></th>\n",
              "      <th>x</th>\n",
              "      <th>y</th>\n",
              "    </tr>\n",
              "  </thead>\n",
              "  <tbody>\n",
              "    <tr>\n",
              "      <th>0</th>\n",
              "      <td>5.910268</td>\n",
              "      <td>-0.011146</td>\n",
              "    </tr>\n",
              "    <tr>\n",
              "      <th>1</th>\n",
              "      <td>2.787093</td>\n",
              "      <td>4.498483</td>\n",
              "    </tr>\n",
              "    <tr>\n",
              "      <th>2</th>\n",
              "      <td>-0.757538</td>\n",
              "      <td>-1.258495</td>\n",
              "    </tr>\n",
              "    <tr>\n",
              "      <th>3</th>\n",
              "      <td>1.020521</td>\n",
              "      <td>-0.931690</td>\n",
              "    </tr>\n",
              "    <tr>\n",
              "      <th>4</th>\n",
              "      <td>0.753911</td>\n",
              "      <td>-0.999861</td>\n",
              "    </tr>\n",
              "    <tr>\n",
              "      <th>...</th>\n",
              "      <td>...</td>\n",
              "      <td>...</td>\n",
              "    </tr>\n",
              "    <tr>\n",
              "      <th>2968</th>\n",
              "      <td>-0.475136</td>\n",
              "      <td>-0.017126</td>\n",
              "    </tr>\n",
              "    <tr>\n",
              "      <th>2969</th>\n",
              "      <td>-3.026756</td>\n",
              "      <td>-1.304983</td>\n",
              "    </tr>\n",
              "    <tr>\n",
              "      <th>2970</th>\n",
              "      <td>-0.832511</td>\n",
              "      <td>-1.089726</td>\n",
              "    </tr>\n",
              "    <tr>\n",
              "      <th>2971</th>\n",
              "      <td>1.774790</td>\n",
              "      <td>-3.695233</td>\n",
              "    </tr>\n",
              "    <tr>\n",
              "      <th>2972</th>\n",
              "      <td>-1.028069</td>\n",
              "      <td>-1.390709</td>\n",
              "    </tr>\n",
              "  </tbody>\n",
              "</table>\n",
              "<p>2973 rows × 2 columns</p>\n",
              "</div>\n",
              "      <button class=\"colab-df-convert\" onclick=\"convertToInteractive('df-d0af9693-595e-4ded-8767-c521a5c33db1')\"\n",
              "              title=\"Convert this dataframe to an interactive table.\"\n",
              "              style=\"display:none;\">\n",
              "        \n",
              "  <svg xmlns=\"http://www.w3.org/2000/svg\" height=\"24px\"viewBox=\"0 0 24 24\"\n",
              "       width=\"24px\">\n",
              "    <path d=\"M0 0h24v24H0V0z\" fill=\"none\"/>\n",
              "    <path d=\"M18.56 5.44l.94 2.06.94-2.06 2.06-.94-2.06-.94-.94-2.06-.94 2.06-2.06.94zm-11 1L8.5 8.5l.94-2.06 2.06-.94-2.06-.94L8.5 2.5l-.94 2.06-2.06.94zm10 10l.94 2.06.94-2.06 2.06-.94-2.06-.94-.94-2.06-.94 2.06-2.06.94z\"/><path d=\"M17.41 7.96l-1.37-1.37c-.4-.4-.92-.59-1.43-.59-.52 0-1.04.2-1.43.59L10.3 9.45l-7.72 7.72c-.78.78-.78 2.05 0 2.83L4 21.41c.39.39.9.59 1.41.59.51 0 1.02-.2 1.41-.59l7.78-7.78 2.81-2.81c.8-.78.8-2.07 0-2.86zM5.41 20L4 18.59l7.72-7.72 1.47 1.35L5.41 20z\"/>\n",
              "  </svg>\n",
              "      </button>\n",
              "      \n",
              "  <style>\n",
              "    .colab-df-container {\n",
              "      display:flex;\n",
              "      flex-wrap:wrap;\n",
              "      gap: 12px;\n",
              "    }\n",
              "\n",
              "    .colab-df-convert {\n",
              "      background-color: #E8F0FE;\n",
              "      border: none;\n",
              "      border-radius: 50%;\n",
              "      cursor: pointer;\n",
              "      display: none;\n",
              "      fill: #1967D2;\n",
              "      height: 32px;\n",
              "      padding: 0 0 0 0;\n",
              "      width: 32px;\n",
              "    }\n",
              "\n",
              "    .colab-df-convert:hover {\n",
              "      background-color: #E2EBFA;\n",
              "      box-shadow: 0px 1px 2px rgba(60, 64, 67, 0.3), 0px 1px 3px 1px rgba(60, 64, 67, 0.15);\n",
              "      fill: #174EA6;\n",
              "    }\n",
              "\n",
              "    [theme=dark] .colab-df-convert {\n",
              "      background-color: #3B4455;\n",
              "      fill: #D2E3FC;\n",
              "    }\n",
              "\n",
              "    [theme=dark] .colab-df-convert:hover {\n",
              "      background-color: #434B5C;\n",
              "      box-shadow: 0px 1px 3px 1px rgba(0, 0, 0, 0.15);\n",
              "      filter: drop-shadow(0px 1px 2px rgba(0, 0, 0, 0.3));\n",
              "      fill: #FFFFFF;\n",
              "    }\n",
              "  </style>\n",
              "\n",
              "      <script>\n",
              "        const buttonEl =\n",
              "          document.querySelector('#df-d0af9693-595e-4ded-8767-c521a5c33db1 button.colab-df-convert');\n",
              "        buttonEl.style.display =\n",
              "          google.colab.kernel.accessAllowed ? 'block' : 'none';\n",
              "\n",
              "        async function convertToInteractive(key) {\n",
              "          const element = document.querySelector('#df-d0af9693-595e-4ded-8767-c521a5c33db1');\n",
              "          const dataTable =\n",
              "            await google.colab.kernel.invokeFunction('convertToInteractive',\n",
              "                                                     [key], {});\n",
              "          if (!dataTable) return;\n",
              "\n",
              "          const docLinkHtml = 'Like what you see? Visit the ' +\n",
              "            '<a target=\"_blank\" href=https://colab.research.google.com/notebooks/data_table.ipynb>data table notebook</a>'\n",
              "            + ' to learn more about interactive tables.';\n",
              "          element.innerHTML = '';\n",
              "          dataTable['output_type'] = 'display_data';\n",
              "          await google.colab.output.renderOutput(dataTable, element);\n",
              "          const docLink = document.createElement('div');\n",
              "          docLink.innerHTML = docLinkHtml;\n",
              "          element.appendChild(docLink);\n",
              "        }\n",
              "      </script>\n",
              "    </div>\n",
              "  </div>\n",
              "  "
            ]
          },
          "metadata": {},
          "execution_count": 25
        }
      ]
    },
    {
      "cell_type": "markdown",
      "source": [
        "To classify the data we need a unsupervised learning algorithm, in here I'm using the \"k-means\"."
      ],
      "metadata": {
        "id": "so2ISqxsshOD"
      }
    },
    {
      "cell_type": "code",
      "source": [
        "from sklearn.cluster import KMeans"
      ],
      "metadata": {
        "id": "ZyggYL5Pt54z"
      },
      "execution_count": 26,
      "outputs": []
    },
    {
      "cell_type": "code",
      "source": [
        "wcss = []\n",
        "for i in range(1, 11):\n",
        "  #print(i)\n",
        "  kmeans = KMeans(n_clusters=i, random_state=0)\n",
        "  kmeans.fit(projection)\n",
        "  wcss.append(kmeans.inertia_)"
      ],
      "metadata": {
        "id": "_hESMw8_sdQ6"
      },
      "execution_count": 27,
      "outputs": []
    },
    {
      "cell_type": "code",
      "source": [
        "wcss"
      ],
      "metadata": {
        "colab": {
          "base_uri": "https://localhost:8080/"
        },
        "id": "aMGZD3gsuMf1",
        "outputId": "e6f8d68a-e806-41f0-b648-84bcc801c067"
      },
      "execution_count": 28,
      "outputs": [
        {
          "output_type": "execute_result",
          "data": {
            "text/plain": [
              "[16112.987192854529,\n",
              " 8008.287217655081,\n",
              " 5731.800330065181,\n",
              " 4073.23518183027,\n",
              " 3500.778348405878,\n",
              " 2997.4777445540713,\n",
              " 2599.8871114816566,\n",
              " 2364.6951380471073,\n",
              " 2142.5680343338436,\n",
              " 1947.146928252178]"
            ]
          },
          "metadata": {},
          "execution_count": 28
        }
      ]
    },
    {
      "cell_type": "code",
      "source": [
        "grafico = px.line(x = range(1,11), y = wcss)\n",
        "grafico.show()"
      ],
      "metadata": {
        "colab": {
          "base_uri": "https://localhost:8080/",
          "height": 0
        },
        "id": "RCd_L2N_uRmS",
        "outputId": "7ce51e90-81fe-4870-e64a-922a93e78146"
      },
      "execution_count": 29,
      "outputs": [
        {
          "output_type": "display_data",
          "data": {
            "text/html": [
              "<html>\n",
              "<head><meta charset=\"utf-8\" /></head>\n",
              "<body>\n",
              "    <div>            <script src=\"https://cdnjs.cloudflare.com/ajax/libs/mathjax/2.7.5/MathJax.js?config=TeX-AMS-MML_SVG\"></script><script type=\"text/javascript\">if (window.MathJax) {MathJax.Hub.Config({SVG: {font: \"STIX-Web\"}});}</script>                <script type=\"text/javascript\">window.PlotlyConfig = {MathJaxConfig: 'local'};</script>\n",
              "        <script src=\"https://cdn.plot.ly/plotly-2.8.3.min.js\"></script>                <div id=\"5c3d18d2-2ca8-4fb2-921e-4c8caf4622e4\" class=\"plotly-graph-div\" style=\"height:525px; width:100%;\"></div>            <script type=\"text/javascript\">                                    window.PLOTLYENV=window.PLOTLYENV || {};                                    if (document.getElementById(\"5c3d18d2-2ca8-4fb2-921e-4c8caf4622e4\")) {                    Plotly.newPlot(                        \"5c3d18d2-2ca8-4fb2-921e-4c8caf4622e4\",                        [{\"hovertemplate\":\"x=%{x}<br>y=%{y}<extra></extra>\",\"legendgroup\":\"\",\"line\":{\"color\":\"#636efa\",\"dash\":\"solid\"},\"marker\":{\"symbol\":\"circle\"},\"mode\":\"lines\",\"name\":\"\",\"orientation\":\"v\",\"showlegend\":false,\"x\":[1,2,3,4,5,6,7,8,9,10],\"xaxis\":\"x\",\"y\":[16112.987192854529,8008.287217655081,5731.800330065181,4073.23518183027,3500.778348405878,2997.4777445540713,2599.8871114816566,2364.6951380471073,2142.5680343338436,1947.146928252178],\"yaxis\":\"y\",\"type\":\"scatter\"}],                        {\"template\":{\"data\":{\"bar\":[{\"error_x\":{\"color\":\"#2a3f5f\"},\"error_y\":{\"color\":\"#2a3f5f\"},\"marker\":{\"line\":{\"color\":\"#E5ECF6\",\"width\":0.5},\"pattern\":{\"fillmode\":\"overlay\",\"size\":10,\"solidity\":0.2}},\"type\":\"bar\"}],\"barpolar\":[{\"marker\":{\"line\":{\"color\":\"#E5ECF6\",\"width\":0.5},\"pattern\":{\"fillmode\":\"overlay\",\"size\":10,\"solidity\":0.2}},\"type\":\"barpolar\"}],\"carpet\":[{\"aaxis\":{\"endlinecolor\":\"#2a3f5f\",\"gridcolor\":\"white\",\"linecolor\":\"white\",\"minorgridcolor\":\"white\",\"startlinecolor\":\"#2a3f5f\"},\"baxis\":{\"endlinecolor\":\"#2a3f5f\",\"gridcolor\":\"white\",\"linecolor\":\"white\",\"minorgridcolor\":\"white\",\"startlinecolor\":\"#2a3f5f\"},\"type\":\"carpet\"}],\"choropleth\":[{\"colorbar\":{\"outlinewidth\":0,\"ticks\":\"\"},\"type\":\"choropleth\"}],\"contour\":[{\"colorbar\":{\"outlinewidth\":0,\"ticks\":\"\"},\"colorscale\":[[0.0,\"#0d0887\"],[0.1111111111111111,\"#46039f\"],[0.2222222222222222,\"#7201a8\"],[0.3333333333333333,\"#9c179e\"],[0.4444444444444444,\"#bd3786\"],[0.5555555555555556,\"#d8576b\"],[0.6666666666666666,\"#ed7953\"],[0.7777777777777778,\"#fb9f3a\"],[0.8888888888888888,\"#fdca26\"],[1.0,\"#f0f921\"]],\"type\":\"contour\"}],\"contourcarpet\":[{\"colorbar\":{\"outlinewidth\":0,\"ticks\":\"\"},\"type\":\"contourcarpet\"}],\"heatmap\":[{\"colorbar\":{\"outlinewidth\":0,\"ticks\":\"\"},\"colorscale\":[[0.0,\"#0d0887\"],[0.1111111111111111,\"#46039f\"],[0.2222222222222222,\"#7201a8\"],[0.3333333333333333,\"#9c179e\"],[0.4444444444444444,\"#bd3786\"],[0.5555555555555556,\"#d8576b\"],[0.6666666666666666,\"#ed7953\"],[0.7777777777777778,\"#fb9f3a\"],[0.8888888888888888,\"#fdca26\"],[1.0,\"#f0f921\"]],\"type\":\"heatmap\"}],\"heatmapgl\":[{\"colorbar\":{\"outlinewidth\":0,\"ticks\":\"\"},\"colorscale\":[[0.0,\"#0d0887\"],[0.1111111111111111,\"#46039f\"],[0.2222222222222222,\"#7201a8\"],[0.3333333333333333,\"#9c179e\"],[0.4444444444444444,\"#bd3786\"],[0.5555555555555556,\"#d8576b\"],[0.6666666666666666,\"#ed7953\"],[0.7777777777777778,\"#fb9f3a\"],[0.8888888888888888,\"#fdca26\"],[1.0,\"#f0f921\"]],\"type\":\"heatmapgl\"}],\"histogram\":[{\"marker\":{\"pattern\":{\"fillmode\":\"overlay\",\"size\":10,\"solidity\":0.2}},\"type\":\"histogram\"}],\"histogram2d\":[{\"colorbar\":{\"outlinewidth\":0,\"ticks\":\"\"},\"colorscale\":[[0.0,\"#0d0887\"],[0.1111111111111111,\"#46039f\"],[0.2222222222222222,\"#7201a8\"],[0.3333333333333333,\"#9c179e\"],[0.4444444444444444,\"#bd3786\"],[0.5555555555555556,\"#d8576b\"],[0.6666666666666666,\"#ed7953\"],[0.7777777777777778,\"#fb9f3a\"],[0.8888888888888888,\"#fdca26\"],[1.0,\"#f0f921\"]],\"type\":\"histogram2d\"}],\"histogram2dcontour\":[{\"colorbar\":{\"outlinewidth\":0,\"ticks\":\"\"},\"colorscale\":[[0.0,\"#0d0887\"],[0.1111111111111111,\"#46039f\"],[0.2222222222222222,\"#7201a8\"],[0.3333333333333333,\"#9c179e\"],[0.4444444444444444,\"#bd3786\"],[0.5555555555555556,\"#d8576b\"],[0.6666666666666666,\"#ed7953\"],[0.7777777777777778,\"#fb9f3a\"],[0.8888888888888888,\"#fdca26\"],[1.0,\"#f0f921\"]],\"type\":\"histogram2dcontour\"}],\"mesh3d\":[{\"colorbar\":{\"outlinewidth\":0,\"ticks\":\"\"},\"type\":\"mesh3d\"}],\"parcoords\":[{\"line\":{\"colorbar\":{\"outlinewidth\":0,\"ticks\":\"\"}},\"type\":\"parcoords\"}],\"pie\":[{\"automargin\":true,\"type\":\"pie\"}],\"scatter\":[{\"marker\":{\"colorbar\":{\"outlinewidth\":0,\"ticks\":\"\"}},\"type\":\"scatter\"}],\"scatter3d\":[{\"line\":{\"colorbar\":{\"outlinewidth\":0,\"ticks\":\"\"}},\"marker\":{\"colorbar\":{\"outlinewidth\":0,\"ticks\":\"\"}},\"type\":\"scatter3d\"}],\"scattercarpet\":[{\"marker\":{\"colorbar\":{\"outlinewidth\":0,\"ticks\":\"\"}},\"type\":\"scattercarpet\"}],\"scattergeo\":[{\"marker\":{\"colorbar\":{\"outlinewidth\":0,\"ticks\":\"\"}},\"type\":\"scattergeo\"}],\"scattergl\":[{\"marker\":{\"colorbar\":{\"outlinewidth\":0,\"ticks\":\"\"}},\"type\":\"scattergl\"}],\"scattermapbox\":[{\"marker\":{\"colorbar\":{\"outlinewidth\":0,\"ticks\":\"\"}},\"type\":\"scattermapbox\"}],\"scatterpolar\":[{\"marker\":{\"colorbar\":{\"outlinewidth\":0,\"ticks\":\"\"}},\"type\":\"scatterpolar\"}],\"scatterpolargl\":[{\"marker\":{\"colorbar\":{\"outlinewidth\":0,\"ticks\":\"\"}},\"type\":\"scatterpolargl\"}],\"scatterternary\":[{\"marker\":{\"colorbar\":{\"outlinewidth\":0,\"ticks\":\"\"}},\"type\":\"scatterternary\"}],\"surface\":[{\"colorbar\":{\"outlinewidth\":0,\"ticks\":\"\"},\"colorscale\":[[0.0,\"#0d0887\"],[0.1111111111111111,\"#46039f\"],[0.2222222222222222,\"#7201a8\"],[0.3333333333333333,\"#9c179e\"],[0.4444444444444444,\"#bd3786\"],[0.5555555555555556,\"#d8576b\"],[0.6666666666666666,\"#ed7953\"],[0.7777777777777778,\"#fb9f3a\"],[0.8888888888888888,\"#fdca26\"],[1.0,\"#f0f921\"]],\"type\":\"surface\"}],\"table\":[{\"cells\":{\"fill\":{\"color\":\"#EBF0F8\"},\"line\":{\"color\":\"white\"}},\"header\":{\"fill\":{\"color\":\"#C8D4E3\"},\"line\":{\"color\":\"white\"}},\"type\":\"table\"}]},\"layout\":{\"annotationdefaults\":{\"arrowcolor\":\"#2a3f5f\",\"arrowhead\":0,\"arrowwidth\":1},\"autotypenumbers\":\"strict\",\"coloraxis\":{\"colorbar\":{\"outlinewidth\":0,\"ticks\":\"\"}},\"colorscale\":{\"diverging\":[[0,\"#8e0152\"],[0.1,\"#c51b7d\"],[0.2,\"#de77ae\"],[0.3,\"#f1b6da\"],[0.4,\"#fde0ef\"],[0.5,\"#f7f7f7\"],[0.6,\"#e6f5d0\"],[0.7,\"#b8e186\"],[0.8,\"#7fbc41\"],[0.9,\"#4d9221\"],[1,\"#276419\"]],\"sequential\":[[0.0,\"#0d0887\"],[0.1111111111111111,\"#46039f\"],[0.2222222222222222,\"#7201a8\"],[0.3333333333333333,\"#9c179e\"],[0.4444444444444444,\"#bd3786\"],[0.5555555555555556,\"#d8576b\"],[0.6666666666666666,\"#ed7953\"],[0.7777777777777778,\"#fb9f3a\"],[0.8888888888888888,\"#fdca26\"],[1.0,\"#f0f921\"]],\"sequentialminus\":[[0.0,\"#0d0887\"],[0.1111111111111111,\"#46039f\"],[0.2222222222222222,\"#7201a8\"],[0.3333333333333333,\"#9c179e\"],[0.4444444444444444,\"#bd3786\"],[0.5555555555555556,\"#d8576b\"],[0.6666666666666666,\"#ed7953\"],[0.7777777777777778,\"#fb9f3a\"],[0.8888888888888888,\"#fdca26\"],[1.0,\"#f0f921\"]]},\"colorway\":[\"#636efa\",\"#EF553B\",\"#00cc96\",\"#ab63fa\",\"#FFA15A\",\"#19d3f3\",\"#FF6692\",\"#B6E880\",\"#FF97FF\",\"#FECB52\"],\"font\":{\"color\":\"#2a3f5f\"},\"geo\":{\"bgcolor\":\"white\",\"lakecolor\":\"white\",\"landcolor\":\"#E5ECF6\",\"showlakes\":true,\"showland\":true,\"subunitcolor\":\"white\"},\"hoverlabel\":{\"align\":\"left\"},\"hovermode\":\"closest\",\"mapbox\":{\"style\":\"light\"},\"paper_bgcolor\":\"white\",\"plot_bgcolor\":\"#E5ECF6\",\"polar\":{\"angularaxis\":{\"gridcolor\":\"white\",\"linecolor\":\"white\",\"ticks\":\"\"},\"bgcolor\":\"#E5ECF6\",\"radialaxis\":{\"gridcolor\":\"white\",\"linecolor\":\"white\",\"ticks\":\"\"}},\"scene\":{\"xaxis\":{\"backgroundcolor\":\"#E5ECF6\",\"gridcolor\":\"white\",\"gridwidth\":2,\"linecolor\":\"white\",\"showbackground\":true,\"ticks\":\"\",\"zerolinecolor\":\"white\"},\"yaxis\":{\"backgroundcolor\":\"#E5ECF6\",\"gridcolor\":\"white\",\"gridwidth\":2,\"linecolor\":\"white\",\"showbackground\":true,\"ticks\":\"\",\"zerolinecolor\":\"white\"},\"zaxis\":{\"backgroundcolor\":\"#E5ECF6\",\"gridcolor\":\"white\",\"gridwidth\":2,\"linecolor\":\"white\",\"showbackground\":true,\"ticks\":\"\",\"zerolinecolor\":\"white\"}},\"shapedefaults\":{\"line\":{\"color\":\"#2a3f5f\"}},\"ternary\":{\"aaxis\":{\"gridcolor\":\"white\",\"linecolor\":\"white\",\"ticks\":\"\"},\"baxis\":{\"gridcolor\":\"white\",\"linecolor\":\"white\",\"ticks\":\"\"},\"bgcolor\":\"#E5ECF6\",\"caxis\":{\"gridcolor\":\"white\",\"linecolor\":\"white\",\"ticks\":\"\"}},\"title\":{\"x\":0.05},\"xaxis\":{\"automargin\":true,\"gridcolor\":\"white\",\"linecolor\":\"white\",\"ticks\":\"\",\"title\":{\"standoff\":15},\"zerolinecolor\":\"white\",\"zerolinewidth\":2},\"yaxis\":{\"automargin\":true,\"gridcolor\":\"white\",\"linecolor\":\"white\",\"ticks\":\"\",\"title\":{\"standoff\":15},\"zerolinecolor\":\"white\",\"zerolinewidth\":2}}},\"xaxis\":{\"anchor\":\"y\",\"domain\":[0.0,1.0],\"title\":{\"text\":\"x\"}},\"yaxis\":{\"anchor\":\"x\",\"domain\":[0.0,1.0],\"title\":{\"text\":\"y\"}},\"legend\":{\"tracegroupgap\":0},\"margin\":{\"t\":60}},                        {\"responsive\": true}                    ).then(function(){\n",
              "                            \n",
              "var gd = document.getElementById('5c3d18d2-2ca8-4fb2-921e-4c8caf4622e4');\n",
              "var x = new MutationObserver(function (mutations, observer) {{\n",
              "        var display = window.getComputedStyle(gd).display;\n",
              "        if (!display || display === 'none') {{\n",
              "            console.log([gd, 'removed!']);\n",
              "            Plotly.purge(gd);\n",
              "            observer.disconnect();\n",
              "        }}\n",
              "}});\n",
              "\n",
              "// Listen for the removal of the full notebook cells\n",
              "var notebookContainer = gd.closest('#notebook-container');\n",
              "if (notebookContainer) {{\n",
              "    x.observe(notebookContainer, {childList: true});\n",
              "}}\n",
              "\n",
              "// Listen for the clearing of the current output cell\n",
              "var outputEl = gd.closest('.output');\n",
              "if (outputEl) {{\n",
              "    x.observe(outputEl, {childList: true});\n",
              "}}\n",
              "\n",
              "                        })                };                            </script>        </div>\n",
              "</body>\n",
              "</html>"
            ]
          },
          "metadata": {}
        }
      ]
    },
    {
      "cell_type": "markdown",
      "source": [
        "Now we know that 4 clusters is enough to this project"
      ],
      "metadata": {
        "id": "x3AyAjGCueTk"
      }
    },
    {
      "cell_type": "code",
      "source": [
        "kmeans_pca = KMeans(n_clusters=4,verbose=False,random_state=1)\n",
        "kmeans_pca.fit(projection)\n",
        "data_genres['cluster_pca'] = kmeans_pca.predict(projection)\n",
        "projection['cluster_pca'] = kmeans_pca.predict(projection)"
      ],
      "metadata": {
        "id": "bCMBjrHduYrV"
      },
      "execution_count": 30,
      "outputs": []
    },
    {
      "cell_type": "code",
      "source": [
        "projection['genres'] = data_genres['genres']"
      ],
      "metadata": {
        "id": "Nn8tKz1UvVkj"
      },
      "execution_count": 31,
      "outputs": []
    },
    {
      "cell_type": "code",
      "source": [
        "fig = px.scatter ( projection, x='x',y='y',color='cluster_pca',hover_data=['x','y','genres'])\n",
        "fig.show()"
      ],
      "metadata": {
        "colab": {
          "base_uri": "https://localhost:8080/",
          "height": 0
        },
        "id": "WpUDv5zrviPK",
        "outputId": "9794f44b-a8e5-49f9-852f-38db33169e1a"
      },
      "execution_count": 32,
      "outputs": [
        {
          "output_type": "display_data",
          "data": {
            "text/html": [
              "<html>\n",
              "<head><meta charset=\"utf-8\" /></head>\n",
              "<body>\n",
              "    <div>            <script src=\"https://cdnjs.cloudflare.com/ajax/libs/mathjax/2.7.5/MathJax.js?config=TeX-AMS-MML_SVG\"></script><script type=\"text/javascript\">if (window.MathJax) {MathJax.Hub.Config({SVG: {font: \"STIX-Web\"}});}</script>                <script type=\"text/javascript\">window.PlotlyConfig = {MathJaxConfig: 'local'};</script>\n",
              "        <script src=\"https://cdn.plot.ly/plotly-2.8.3.min.js\"></script>                <div id=\"263bdf44-4660-48a4-8b91-7bacb230baf1\" class=\"plotly-graph-div\" style=\"height:525px; width:100%;\"></div>            <script type=\"text/javascript\">                                    window.PLOTLYENV=window.PLOTLYENV || {};                                    if (document.getElementById(\"263bdf44-4660-48a4-8b91-7bacb230baf1\")) {                    Plotly.newPlot(                        \"263bdf44-4660-48a4-8b91-7bacb230baf1\",                        [{\"customdata\":[[\"21st century classical\"],[\"432hz\"],[\"8-bit\"],[\"[]\"],[\"a cappella\"],[\"abstract\"],[\"abstract beats\"],[\"abstract hip hop\"],[\"accordeon\"],[\"accordion\"],[\"acid house\"],[\"acid rock\"],[\"acid trance\"],[\"acousmatic\"],[\"acoustic blues\"],[\"acoustic pop\"],[\"acoustic punk\"],[\"acoustic rock\"],[\"action rock\"],[\"adoracion\"],[\"adult standards\"],[\"adventista\"],[\"afghan pop\"],[\"afghan traditional\"],[\"african percussion\"],[\"african reggae\"],[\"african rock\"],[\"african-american classical\"],[\"afro dancehall\"],[\"afro house\"],[\"afro psych\"],[\"afro soul\"],[\"afro-funk\"],[\"afrobeat\"],[\"afrofuturism\"],[\"afrofuturismo brasileiro\"],[\"afropop\"],[\"afroswing\"],[\"aggrotech\"],[\"alabama indie\"],[\"alabama metal\"],[\"alabama rap\"],[\"alaska indie\"],[\"albanian pop\"],[\"albany ny indie\"],[\"alberta country\"],[\"alberta hip hop\"],[\"album rock\"],[\"albuquerque indie\"],[\"alt-idol\"],[\"alte\"],[\"alternative americana\"],[\"alternative country\"],[\"alternative dance\"],[\"alternative emo\"],[\"alternative hip hop\"],[\"alternative metal\"],[\"alternative pop\"],[\"alternative pop rock\"],[\"alternative r&b\"],[\"alternative rock\"],[\"alternative roots rock\"],[\"ambeat\"],[\"ambient\"],[\"ambient black metal\"],[\"ambient folk\"],[\"ambient house\"],[\"ambient idm\"],[\"ambient industrial\"],[\"ambient pop\"],[\"ambient techno\"],[\"ambient worship\"],[\"american 21st century classical\"],[\"american choir\"],[\"american classical piano\"],[\"american contemporary classical\"],[\"american early music\"],[\"american folk revival\"],[\"american metalcore\"],[\"american modern classical\"],[\"american oi\"],[\"american orchestra\"],[\"american post-rock\"],[\"american primitive\"],[\"american romanticism\"],[\"american shoegaze\"],[\"anadolu rock\"],[\"anarcho-punk\"],[\"anglican liturgy\"],[\"animal singing\"],[\"anime\"],[\"anime latino\"],[\"anime rock\"],[\"anime score\"],[\"ann arbor indie\"],[\"anthem emo\"],[\"anthem worship\"],[\"anti-folk\"],[\"antilliaanse folklore\"],[\"antiviral pop\"],[\"appalachian folk\"],[\"arab folk\"],[\"arab groove\"],[\"arab pop\"],[\"arabesk\"],[\"arabic hip hop\"],[\"arabic jazz\"],[\"argentine ambient\"],[\"argentine hardcore\"],[\"argentine heavy metal\"],[\"argentine hip hop\"],[\"argentine indie\"],[\"argentine metal\"],[\"argentine punk\"],[\"argentine reggae\"],[\"argentine rock\"],[\"argentine telepop\"],[\"arizona punk\"],[\"arkansas country\"],[\"arkansas hip hop\"],[\"arkansas indie\"],[\"armenian folk\"],[\"art pop\"],[\"art punk\"],[\"art rock\"],[\"art song\"],[\"asbury park indie\"],[\"asheville indie\"],[\"asian american hip hop\"],[\"asmr\"],[\"athens indie\"],[\"atl hip hop\"],[\"atl trap\"],[\"atlanta indie\"],[\"atlanta metal\"],[\"atlanta punk\"],[\"atmosphere\"],[\"atmospheric black metal\"],[\"atmospheric dnb\"],[\"atmospheric post-metal\"],[\"atmospheric post-rock\"],[\"atmospheric sludge\"],[\"auckland indie\"],[\"audiophile vocal\"],[\"aussietronica\"],[\"austin americana\"],[\"austin singer-songwriter\"],[\"austindie\"],[\"australian alternative pop\"],[\"australian alternative rock\"],[\"australian ambient\"],[\"australian children's music\"],[\"australian choir\"],[\"australian classical\"],[\"australian classical piano\"],[\"australian country\"],[\"australian dance\"],[\"australian electropop\"],[\"australian garage punk\"],[\"australian hip hop\"],[\"australian house\"],[\"australian indie\"],[\"australian indie folk\"],[\"australian indie rock\"],[\"australian indigenous\"],[\"australian metal\"],[\"australian metalcore\"],[\"australian pop\"],[\"australian post-hardcore\"],[\"australian post-punk\"],[\"australian psych\"],[\"australian r&b\"],[\"australian reggae fusion\"],[\"australian rock\"],[\"australian singer-songwriter\"],[\"australian ska\"],[\"australian talent show\"],[\"australian trap\"],[\"australian underground hip hop\"],[\"austrian choir\"],[\"austrian classical piano\"],[\"austrian orchestra\"],[\"austrian pop\"],[\"austro-german modernism\"],[\"austropop\"],[\"autoharp\"],[\"autonomous black metal\"],[\"avant-garde\"],[\"avant-garde jazz\"],[\"avant-garde metal\"],[\"axe\"],[\"azeri traditional\"],[\"azonto\"],[\"azontobeats\"],[\"bachata\"],[\"bachata dominicana\"],[\"background music\"],[\"background piano\"],[\"baglama\"],[\"bahai\"],[\"bahamian folk\"],[\"bahamian pop\"],[\"baiao\"],[\"bajki\"],[\"bakersfield sound\"],[\"balearic\"],[\"balkan brass\"],[\"balkan classical piano\"],[\"ballet class\"],[\"ballroom\"],[\"baltic classical\"],[\"baltimore hip hop\"],[\"baltimore indie\"],[\"banda\"],[\"banda caliente\"],[\"banda carnavalera\"],[\"bandinhas\"],[\"bandolim\"],[\"bandoneon\"],[\"bangla\"],[\"banjo\"],[\"bansuri\"],[\"barbadian pop\"],[\"barbershop\"],[\"bard\"],[\"barnmusik\"],[\"barockinterpreten\"],[\"baroque\"],[\"baroque brass\"],[\"baroque ensemble\"],[\"baroque pop\"],[\"baroque singing\"],[\"baroque violin\"],[\"baroque woodwind\"],[\"bass house\"],[\"bass music\"],[\"bass trap\"],[\"basshall\"],[\"bassline\"],[\"bath indie\"],[\"baton rouge indie\"],[\"baton rouge rap\"],[\"battle rap\"],[\"bay area hip hop\"],[\"bay area indie\"],[\"bboy\"],[\"bc underground hip hop\"],[\"beach music\"],[\"beat italiano\"],[\"beat poetry\"],[\"beatboxing\"],[\"beatlesque\"],[\"bebop\"],[\"bedroom pop\"],[\"bedroom soul\"],[\"belarusian indie\"],[\"belarusian pop\"],[\"belarusian rock\"],[\"belgian classical piano\"],[\"belgian contemporary classical\"],[\"belgian dance\"],[\"belgian edm\"],[\"belgian hardcore\"],[\"belgian indie\"],[\"belgian indie rock\"],[\"belgian jazz\"],[\"belgian new wave\"],[\"belgian pop\"],[\"belgian rock\"],[\"belgian singer-songwriter\"],[\"belgian techno\"],[\"belly dance\"],[\"bengali folk\"],[\"beninese pop\"],[\"bergen indie\"],[\"berlin minimal techno\"],[\"berlin school\"],[\"bhajan\"],[\"bhangra\"],[\"bible\"],[\"big band\"],[\"big beat\"],[\"big room\"],[\"binaural\"],[\"birdsong\"],[\"birmingham grime\"],[\"birmingham hip hop\"],[\"birmingham metal\"],[\"bitpop\"],[\"black 'n' roll\"],[\"black comedy\"],[\"black metal\"],[\"black punk\"],[\"black thrash\"],[\"blackened crust\"],[\"blackgaze\"],[\"bleep techno\"],[\"bluegrass\"],[\"bluegrass fiddle\"],[\"bluegrass gospel\"],[\"blues\"],[\"blues latinoamericano\"],[\"blues mexicano\"],[\"blues rock\"],[\"bmore\"],[\"bolero\"],[\"bolero cubano\"],[\"boogaloo\"],[\"boogie\"],[\"boogie-woogie\"],[\"boom bap\"],[\"boom bap brasileiro\"],[\"bossa nova\"],[\"bossa nova jazz\"],[\"boston folk\"],[\"boston hardcore\"],[\"boston hip hop\"],[\"boston indie\"],[\"boston metal\"],[\"boston punk\"],[\"boston rock\"],[\"bounce\"],[\"bouncy house\"],[\"bouzouki\"],[\"bow pop\"],[\"boy band\"],[\"boy pop\"],[\"boy soprano\"],[\"brain waves\"],[\"braindance\"],[\"brass band\"],[\"brass ensemble\"],[\"brass quintet\"],[\"brazilian boogie\"],[\"brazilian classical\"],[\"brazilian classical piano\"],[\"brazilian contemporary classical\"],[\"brazilian edm\"],[\"brazilian groove metal\"],[\"brazilian hip hop\"],[\"brazilian indie\"],[\"brazilian jazz\"],[\"brazilian metal\"],[\"brazilian modern jazz\"],[\"brazilian percussion\"],[\"brazilian punk\"],[\"brazilian reggae\"],[\"brazilian rock\"],[\"brazilian ska\"],[\"brazilian soul\"],[\"brazilian thrash metal\"],[\"breakbeat\"],[\"breakcore\"],[\"brega\"],[\"breton folk\"],[\"brighton indie\"],[\"brill building pop\"],[\"brisbane indie\"],[\"bristol electronic\"],[\"bristol indie\"],[\"brit funk\"],[\"british alternative rock\"],[\"british black metal\"],[\"british blues\"],[\"british children's music\"],[\"british choir\"],[\"british classical piano\"],[\"british comedy\"],[\"british contemporary classical\"],[\"british dance band\"],[\"british death metal\"],[\"british experimental\"],[\"british folk\"],[\"british grindcore\"],[\"british indie rock\"],[\"british industrial\"],[\"british invasion\"],[\"british jazz\"],[\"british modern classical\"],[\"british orchestra\"],[\"british post-rock\"],[\"british power metal\"],[\"british singer-songwriter\"],[\"british soul\"],[\"british soundtrack\"],[\"britpop\"],[\"broadway\"],[\"broken beat\"],[\"bronx hip hop\"],[\"brooklyn drill\"],[\"brooklyn indie\"],[\"brostep\"],[\"brutal death metal\"],[\"brutal deathcore\"],[\"bubble trance\"],[\"bubblegrunge\"],[\"bubblegum dance\"],[\"bubblegum pop\"],[\"buffalo hip hop\"],[\"buffalo ny indie\"],[\"buffalo ny metal\"],[\"bulgarian experimental\"],[\"burmese traditional\"],[\"bush ballad\"],[\"c-pop\"],[\"c86\"],[\"cabaret\"],[\"cajun\"],[\"calgary indie\"],[\"cali rap\"],[\"calming instrumental\"],[\"calypso\"],[\"cambodian rock\"],[\"cambridge choir\"],[\"cambridgeshire indie\"],[\"cameroonian pop\"],[\"canadian americana\"],[\"canadian blues\"],[\"canadian ccm\"],[\"canadian celtic\"],[\"canadian children's music\"],[\"canadian choir\"],[\"canadian classical\"],[\"canadian classical piano\"],[\"canadian comedy\"],[\"canadian contemporary country\"],[\"canadian contemporary r&b\"],[\"canadian country\"],[\"canadian electronic\"],[\"canadian electropop\"],[\"canadian experimental\"],[\"canadian folk\"],[\"canadian hardcore\"],[\"canadian hip hop\"],[\"canadian house\"],[\"canadian indie\"],[\"canadian indie folk\"],[\"canadian indigenous\"],[\"canadian indigenous hip hop\"],[\"canadian latin\"],[\"canadian metal\"],[\"canadian metalcore\"],[\"canadian modern jazz\"],[\"canadian pop\"],[\"canadian pop punk\"],[\"canadian post-hardcore\"],[\"canadian post-rock\"],[\"canadian psychedelic\"],[\"canadian punk\"],[\"canadian rock\"],[\"canadian rockabilly\"],[\"canadian singer-songwriter\"],[\"canadian soundtrack\"],[\"cancion melodica\"],[\"candy pop\"],[\"cantautor\"],[\"cante flamenco\"],[\"canterbury scene\"],[\"canto popular uruguayo\"],[\"cantopop\"],[\"canzone d'autore\"],[\"canzone genovese\"],[\"canzone napoletana\"],[\"cape town indie\"],[\"cape verdean folk\"],[\"capoeira\"],[\"caracas indie\"],[\"carnatic\"],[\"carnatic instrumental\"],[\"carnatic vocal\"],[\"cartoon\"],[\"cathedral choir\"],[\"caucasian classical\"],[\"caucasian classical piano\"],[\"ccm\"],[\"cedm\"],[\"cello\"],[\"celtic\"],[\"celtic harp\"],[\"celtic metal\"],[\"celtic punk\"],[\"celtic rock\"],[\"cha-cha-cha\"],[\"chakra\"],[\"chamame\"],[\"chamber choir\"],[\"chamber ensemble\"],[\"chamber folk\"],[\"chamber orchestra\"],[\"chamber pop\"],[\"chamber psych\"],[\"champeta\"],[\"channel islands indie\"],[\"channel pop\"],[\"chanson\"],[\"chanson paillarde\"],[\"chaotic hardcore\"],[\"charanga\"],[\"charango\"],[\"charlotte nc indie\"],[\"charlottesville indie\"],[\"chattanooga indie\"],[\"chicago blues\"],[\"chicago drill\"],[\"chicago hardcore\"],[\"chicago house\"],[\"chicago indie\"],[\"chicago pop punk\"],[\"chicago punk\"],[\"chicago rap\"],[\"chicago soul\"],[\"chicano punk\"],[\"chicano rap\"],[\"chicha\"],[\"chihuahua indie\"],[\"children's choir\"],[\"children's folk\"],[\"children's music\"],[\"children's story\"],[\"chilean hardcore\"],[\"chilean indie\"],[\"chilean rock\"],[\"chilena\"],[\"chill beats\"],[\"chill guitar\"],[\"chill lounge\"],[\"chill out\"],[\"chill pop\"],[\"chill r&b\"],[\"chillhop\"],[\"chillstep\"],[\"chillwave\"],[\"chinese audiophile\"],[\"chinese classical\"],[\"chinese classical performance\"],[\"chinese classical piano\"],[\"chinese electropop\"],[\"chinese hip hop\"],[\"chinese idol pop\"],[\"chinese indie\"],[\"chinese indie rock\"],[\"chinese instrumental\"],[\"chinese jazz\"],[\"chinese r&b\"],[\"chinese soundtrack\"],[\"chinese traditional\"],[\"chiptune\"],[\"chopped and screwed\"],[\"choral\"],[\"choro\"],[\"christchurch indie\"],[\"christelijk\"],[\"christian a cappella\"],[\"christian alternative rock\"],[\"christian dance\"],[\"christian hard rock\"],[\"christian hardcore\"],[\"christian hip hop\"],[\"christian indie\"],[\"christian metal\"],[\"christian metalcore\"],[\"christian music\"],[\"christian pop\"],[\"christian power metal\"],[\"christian punk\"],[\"christian relaxative\"],[\"christian rock\"],[\"christian trap\"],[\"christian uplift\"],[\"christmas instrumental\"],[\"christmas product\"],[\"chunchaca\"],[\"chutney\"],[\"cincinnati rap\"],[\"cinematic post-rock\"],[\"circuit\"],[\"circus\"],[\"classic afrobeat\"],[\"classic arab pop\"],[\"classic australian country\"],[\"classic belgian pop\"],[\"classic bhangra\"],[\"classic bollywood\"],[\"classic canadian rock\"],[\"classic cantopop\"],[\"classic colombian pop\"],[\"classic country pop\"],[\"classic czech pop\"],[\"classic danish pop\"],[\"classic dubstep\"],[\"classic eurovision\"],[\"classic finnish pop\"],[\"classic french pop\"],[\"classic garage rock\"],[\"classic girl group\"],[\"classic greek pop\"],[\"classic hardstyle\"],[\"classic icelandic pop\"],[\"classic indo pop\"],[\"classic iskelma\"],[\"classic israeli pop\"],[\"classic italian folk pop\"],[\"classic italian pop\"],[\"classic j-rock\"],[\"classic japanese jazz\"],[\"classic korean pop\"],[\"classic latvian pop\"],[\"classic mandopop\"],[\"classic norwegian pop\"],[\"classic opm\"],[\"classic pakistani pop\"],[\"classic persian pop\"],[\"classic peruvian pop\"],[\"classic polish pop\"],[\"classic praise\"],[\"classic psychedelic rock\"],[\"classic punjabi pop\"],[\"classic rock\"],[\"classic russian pop\"],[\"classic russian rock\"],[\"classic schlager\"],[\"classic soul\"],[\"classic soundtrack\"],[\"classic swedish pop\"],[\"classic thai pop\"],[\"classic tunisian pop\"],[\"classic turkish pop\"],[\"classic uk pop\"],[\"classic venezuelan pop\"],[\"classical\"],[\"classical accordion\"],[\"classical baritone\"],[\"classical bass\"],[\"classical cello\"],[\"classical clarinet\"],[\"classical contralto\"],[\"classical countertenor\"],[\"classical era\"],[\"classical flute\"],[\"classical guitar\"],[\"classical harp\"],[\"classical horn\"],[\"classical mandolin\"],[\"classical mezzo-soprano\"],[\"classical oboe\"],[\"classical organ\"],[\"classical performance\"],[\"classical piano\"],[\"classical piano duo\"],[\"classical piano trio\"],[\"classical saxophone\"],[\"classical soprano\"],[\"classical tenor\"],[\"classical trumpet\"],[\"classify\"],[\"clawhammer banjo\"],[\"clean comedy\"],[\"cleveland metal\"],[\"coco\"],[\"collage pop\"],[\"college a cappella\"],[\"colombian hip hop\"],[\"colombian pop\"],[\"colombian rock\"],[\"columbus ohio indie\"],[\"comedy\"],[\"comedy rap\"],[\"comedy rock\"],[\"comic\"],[\"comic metal\"],[\"commons\"],[\"complextro\"],[\"compositional ambient\"],[\"concepcion indie\"],[\"concert band\"],[\"connecticut hardcore\"],[\"connecticut indie\"],[\"conscious hip hop\"],[\"contemporary choir\"],[\"contemporary classical\"],[\"contemporary classical piano\"],[\"contemporary country\"],[\"contemporary folk\"],[\"contemporary gospel\"],[\"contemporary jazz\"],[\"contemporary post-bop\"],[\"contemporary vocal jazz\"],[\"contrabass\"],[\"cool jazz\"],[\"copla\"],[\"cornish folk\"],[\"cornwall indie\"],[\"corrido\"],[\"corridos cristianos\"],[\"corridos tumbados\"],[\"corrosion\"],[\"cosmic american\"],[\"cosmic post-rock\"],[\"country\"],[\"country blues\"],[\"country boogie\"],[\"country dawn\"],[\"country gospel\"],[\"country pop\"],[\"country rap\"],[\"country road\"],[\"country rock\"],[\"coverchill\"],[\"cowboy western\"],[\"cowpunk\"],[\"crack rock steady\"],[\"croatian folk\"],[\"croatian pop\"],[\"croatian rock\"],[\"crossover thrash\"],[\"crunk\"],[\"crust punk\"],[\"cuarteto\"],[\"cuatro venezolano\"],[\"cuban alternative\"],[\"cuban rumba\"],[\"cubaton\"],[\"cumbia\"],[\"cumbia andina mexicana\"],[\"cumbia chilena\"],[\"cumbia colombiana regia\"],[\"cumbia ecuatoriana\"],[\"cumbia funk\"],[\"cumbia lagunera\"],[\"cumbia paraguaya\"],[\"cumbia peruana\"],[\"cumbia pop\"],[\"cumbia ranchera\"],[\"cumbia salvadorena\"],[\"cumbia santafesina\"],[\"cumbia sonidera\"],[\"cumbia villera\"],[\"cyberpunk\"],[\"cymraeg\"],[\"cypriot pop\"],[\"czech classical\"],[\"czech classical piano\"],[\"czech contemporary classical\"],[\"d-beat\"],[\"dabke\"],[\"dakke dak\"],[\"dallas indie\"],[\"dance pop\"],[\"dance rock\"],[\"dance-punk\"],[\"dancehall\"],[\"dangdut\"],[\"danish alternative rock\"],[\"danish classical\"],[\"danish electronic\"],[\"danish electropop\"],[\"danish hip hop\"],[\"danish jazz\"],[\"danish metal\"],[\"danish pop\"],[\"danish pop rock\"],[\"danish post-punk\"],[\"danish punk\"],[\"danish rock\"],[\"danish singer-songwriter\"],[\"dansband\"],[\"danseband\"],[\"dansktop\"],[\"danspunk\"],[\"dark cabaret\"],[\"dark clubbing\"],[\"dark disco\"],[\"dark hardcore\"],[\"dark jazz\"],[\"dark minimal techno\"],[\"dark post-punk\"],[\"dark techno\"],[\"dark trap\"],[\"dark wave\"],[\"darksynth\"],[\"dayton indie\"],[\"dc hardcore\"],[\"dc indie\"],[\"death 'n' roll\"],[\"death metal\"],[\"deathcore\"],[\"deathgrass\"],[\"deathgrind\"],[\"deathrash\"],[\"deathrock\"],[\"deathstep\"],[\"deep acoustic pop\"],[\"deep adult standards\"],[\"deep big room\"],[\"deep ccm\"],[\"deep christian rock\"],[\"deep classic garage rock\"],[\"deep comedy\"],[\"deep contemporary country\"],[\"deep dance pop\"],[\"deep delta blues\"],[\"deep disco\"],[\"deep disco house\"],[\"deep dnb\"],[\"deep east coast hip hop\"],[\"deep euro house\"],[\"deep flow\"],[\"deep free jazz\"],[\"deep freestyle\"],[\"deep full on\"],[\"deep funk\"],[\"deep g funk\"],[\"deep gothic post-punk\"],[\"deep groove house\"],[\"deep house\"],[\"deep idm\"],[\"deep indian pop\"],[\"deep indie singer-songwriter\"],[\"deep latin alternative\"],[\"deep latin christian\"],[\"deep melodic metalcore\"],[\"deep minimal techno\"],[\"deep motown\"],[\"deep new americana\"],[\"deep new wave\"],[\"deep norteno\"],[\"deep northern soul\"],[\"deep pop edm\"],[\"deep progressive house\"],[\"deep psychobilly\"],[\"deep punk rock\"],[\"deep r&b\"],[\"deep ragga\"],[\"deep regional mexican\"],[\"deep smooth jazz\"],[\"deep soft rock\"],[\"deep soul house\"],[\"deep soundtrack\"],[\"deep southern soul\"],[\"deep southern trap\"],[\"deep space rock\"],[\"deep talent show\"],[\"deep tech house\"],[\"deep techno\"],[\"deep tropical house\"],[\"deep underground hip hop\"],[\"deep uplifting trance\"],[\"delta blues\"],[\"dembow\"],[\"denpa-kei\"],[\"denton tx indie\"],[\"denver indie\"],[\"depressive black metal\"],[\"derby indie\"],[\"desert blues\"],[\"desi hip hop\"],[\"desi pop\"],[\"destroy techno\"],[\"detroit hip hop\"],[\"detroit house\"],[\"detroit techno\"],[\"detroit trap\"],[\"detske pisnicky\"],[\"detskie pesni\"],[\"devon indie\"],[\"dfw rap\"],[\"dhrupad\"],[\"digital hardcore\"],[\"dinner jazz\"],[\"dirty south rap\"],[\"dirty texas rap\"],[\"disco\"],[\"disco house\"],[\"disney\"],[\"diva house\"],[\"dixieland\"],[\"diy emo\"],[\"djent\"],[\"dmv rap\"],[\"dominican pop\"],[\"dong-yo\"],[\"doo-wop\"],[\"doom metal\"],[\"double drumming\"],[\"downtempo\"],[\"drama\"],[\"dream pop\"],[\"dream trance\"],[\"dreamgaze\"],[\"dreamo\"],[\"drift\"],[\"drill\"],[\"drill and bass\"],[\"drone\"],[\"drone folk\"],[\"drone metal\"],[\"drum and bass\"],[\"dub\"],[\"dub metal\"],[\"dub poetry\"],[\"dub techno\"],[\"dubstep\"],[\"dubsteppe\"],[\"duduk\"],[\"duluth indie\"],[\"dunedin indie\"],[\"dunedin sound\"],[\"dungeon synth\"],[\"duranguense\"],[\"dusseldorf electronic\"],[\"dutch blues\"],[\"dutch cabaret\"],[\"dutch classical piano\"],[\"dutch death metal\"],[\"dutch dnb\"],[\"dutch edm\"],[\"dutch folk\"],[\"dutch hip hop\"],[\"dutch house\"],[\"dutch indie\"],[\"dutch jazz\"],[\"dutch metal\"],[\"dutch pop\"],[\"dutch prog\"],[\"dutch rap pop\"],[\"dutch rock\"],[\"dutch trance\"],[\"e6fi\"],[\"early american folk\"],[\"early avant garde\"],[\"early modern classical\"],[\"early music\"],[\"early music choir\"],[\"early music ensemble\"],[\"early reggae\"],[\"early romantic era\"],[\"early synthpop\"],[\"early us punk\"],[\"east coast hip hop\"],[\"east coast reggae\"],[\"eastern bloc groove\"],[\"easy listening\"],[\"easycore\"],[\"eau claire indie\"],[\"ebm\"],[\"ecm-style jazz\"],[\"ectofolk\"],[\"ecuadorian pop\"],[\"edm\"],[\"edmonton indie\"],[\"egyptian pop\"],[\"egyptian traditional\"],[\"el paso indie\"],[\"electra\"],[\"electric bass\"],[\"electric blues\"],[\"electro\"],[\"electro house\"],[\"electro jazz\"],[\"electro latino\"],[\"electro swing\"],[\"electro-industrial\"],[\"electro-pop francais\"],[\"electroclash\"],[\"electrofox\"],[\"electronic djent\"],[\"electronic rock\"],[\"electronic trap\"],[\"electronica\"],[\"electronica argentina\"],[\"electropop\"],[\"electropowerpop\"],[\"emo\"],[\"emo mexicano\"],[\"emo punk\"],[\"emo rap\"],[\"emocore\"],[\"english baroque\"],[\"english indie rock\"],[\"english renaissance\"],[\"enka\"],[\"entehno\"],[\"environmental\"],[\"epic doom\"],[\"epicore\"],[\"erhu\"],[\"escape room\"],[\"esperanto\"],[\"essex indie\"],[\"estonian hip hop\"],[\"estonian pop\"],[\"ethereal wave\"],[\"etherpop\"],[\"ethio-jazz\"],[\"ethiopian pop\"],[\"ethnomusicology\"],[\"ethnotronica\"],[\"eugene indie\"],[\"euphoric hardstyle\"],[\"eurobeat\"],[\"eurodance\"],[\"europop\"],[\"euroska\"],[\"eurovision\"],[\"exotica\"],[\"experimental\"],[\"experimental ambient\"],[\"experimental big band\"],[\"experimental dub\"],[\"experimental folk\"],[\"experimental guitar\"],[\"experimental hip hop\"],[\"experimental house\"],[\"experimental indie\"],[\"experimental jazz\"],[\"experimental pop\"],[\"experimental rock\"],[\"experimental vocal\"],[\"fado\"],[\"family gospel\"],[\"faroese pop\"],[\"fast melodic punk\"],[\"fidget house\"],[\"filmi\"],[\"filter house\"],[\"filthstep\"],[\"final fantasy\"],[\"fingerstyle\"],[\"finnish alternative rock\"],[\"finnish classical\"],[\"finnish contemporary classical\"],[\"finnish death metal\"],[\"finnish edm\"],[\"finnish hard rock\"],[\"finnish heavy metal\"],[\"finnish metal\"],[\"finnish power metal\"],[\"finnish soul\"],[\"flamenco\"],[\"flamenco guitar\"],[\"flick hop\"],[\"flint hip hop\"],[\"float house\"],[\"florida death metal\"],[\"florida rap\"],[\"fluxwork\"],[\"fo jing\"],[\"focus\"],[\"focus beats\"],[\"focus trance\"],[\"folclor afrocolombiano\"],[\"folclor colombiano\"],[\"folclore extremeno\"],[\"folclore jujeno\"],[\"folclore navarra\"],[\"folclore salteno\"],[\"folclore tucumano\"],[\"folk\"],[\"folk metal\"],[\"folk punk\"],[\"folk rock\"],[\"folk rock italiano\"],[\"folk-pop\"],[\"folklore argentino\"],[\"folklore boliviano\"],[\"folklore chileno\"],[\"folklore ecuatoriano\"],[\"folklore peruano\"],[\"folklore venezolano\"],[\"folklore veracruzano\"],[\"folkmusik\"],[\"folktronica\"],[\"footwork\"],[\"forro\"],[\"forro tradicional\"],[\"fort worth indie\"],[\"fourth world\"],[\"francoton\"],[\"freak folk\"],[\"freakbeat\"],[\"free folk\"],[\"free improvisation\"],[\"free jazz\"],[\"freestyle\"],[\"french baroque\"],[\"french classical piano\"],[\"french contemporary classical\"],[\"french death metal\"],[\"french dnb\"],[\"french hip hop\"],[\"french indie folk\"],[\"french indie pop\"],[\"french indietronica\"],[\"french jazz\"],[\"french metal\"],[\"french movie tunes\"],[\"french opera\"],[\"french orchestra\"],[\"french pop\"],[\"french post-punk\"],[\"french psychedelic\"],[\"french reggae\"],[\"french rock\"],[\"french romanticism\"],[\"french shoegaze\"],[\"french soundtrack\"],[\"french synthpop\"],[\"french techno\"],[\"frenchcore\"],[\"full on\"],[\"funana\"],[\"funeral doom\"],[\"funk\"],[\"funk 150 bpm\"],[\"funk carioca\"],[\"funk das antigas\"],[\"funk metal\"],[\"funk mexicano\"],[\"funk ostentacao\"],[\"funk paulista\"],[\"funk pop\"],[\"funk rock\"],[\"funky breaks\"],[\"funky tech house\"],[\"future bass\"],[\"future funk\"],[\"future garage\"],[\"future house\"],[\"future rock\"],[\"futurepop\"],[\"g funk\"],[\"gabba\"],[\"gabonese pop\"],[\"gaian doom\"],[\"gainesville indie\"],[\"gaita zuliana\"],[\"galante era\"],[\"gamelan\"],[\"gaming dubstep\"],[\"gaming edm\"],[\"gangster rap\"],[\"garage house\"],[\"garage pop\"],[\"garage psych\"],[\"garage punk\"],[\"garage punk blues\"],[\"garage rock\"],[\"garage rock revival\"],[\"gauze pop\"],[\"gbvfi\"],[\"geek folk\"],[\"geek rock\"],[\"georgian folk\"],[\"german alternative rock\"],[\"german baroque\"],[\"german choir\"],[\"german classical piano\"],[\"german country\"],[\"german dance\"],[\"german hard rock\"],[\"german heavy metal\"],[\"german house\"],[\"german indie\"],[\"german jazz\"],[\"german literature\"],[\"german metal\"],[\"german oi\"],[\"german opera\"],[\"german orchestra\"],[\"german pop\"],[\"german pop rock\"],[\"german post-hardcore\"],[\"german power metal\"],[\"german punk\"],[\"german renaissance\"],[\"german rock\"],[\"german romanticism\"],[\"german show tunes\"],[\"german soundtrack\"],[\"german techno\"],[\"german thrash metal\"],[\"german trance\"],[\"german underground rap\"],[\"ghanaian hip hop\"],[\"ghanaian traditional\"],[\"ghazal\"],[\"ghent indie\"],[\"girl group\"],[\"glam metal\"],[\"glam punk\"],[\"glam rock\"],[\"glee club\"],[\"glitch\"],[\"glitch hop\"],[\"glitch pop\"],[\"glitchcore\"],[\"go-go\"],[\"goregrind\"],[\"gospel\"],[\"gospel antigas\"],[\"gospel blues\"],[\"gospel italiano\"],[\"gospel r&b\"],[\"gospel rap\"],[\"gospel singers\"],[\"gospel soul\"],[\"gothabilly\"],[\"gothenburg indie\"],[\"gothenburg metal\"],[\"gothic alternative\"],[\"gothic americana\"],[\"gothic black metal\"],[\"gothic metal\"],[\"gothic post-punk\"],[\"gothic rock\"],[\"gothic symphonic metal\"],[\"gqom\"],[\"grand rapids indie\"],[\"grave wave\"],[\"greek clarinet\"],[\"greek contemporary classical\"],[\"greek folk\"],[\"greek guitar\"],[\"greek house\"],[\"greek jazz\"],[\"greek pop\"],[\"greek swing\"],[\"gregorian chant\"],[\"grime\"],[\"grindcore\"],[\"griot\"],[\"groove metal\"],[\"groove room\"],[\"grunge\"],[\"grunge pop\"],[\"grupera\"],[\"gruperas inmortales\"],[\"guadalajara indie\"],[\"guam indie\"],[\"guaracha\"],[\"guatemalan pop\"],[\"guidance\"],[\"guinean pop\"],[\"guitarra argentina\"],[\"guitarra clasica\"],[\"guitarra portuguesa\"],[\"gujarati garba\"],[\"gujarati pop\"],[\"guzheng\"],[\"gymcore\"],[\"gypsy\"],[\"gypsy jazz\"],[\"gypsy punk\"],[\"haitian traditional\"],[\"halifax indie\"],[\"halloween\"],[\"hamburg electronic\"],[\"hammered dulcimer\"],[\"hammond organ\"],[\"hands up\"],[\"hangpan\"],[\"happy hardcore\"],[\"hard alternative\"],[\"hard bop\"],[\"hard minimal techno\"],[\"hard rock\"],[\"hard rock brasileiro\"],[\"hardcore\"],[\"hardcore hip hop\"],[\"hardcore punk\"],[\"hardcore techno\"],[\"hardstyle\"],[\"harlem hip hop\"],[\"harlem renaissance\"],[\"harmonica blues\"],[\"harmonica jazz\"],[\"harp\"],[\"harpsichord\"],[\"haryanvi pop\"],[\"hauntology\"],[\"hawaiian\"],[\"hawaiian hip hop\"],[\"hawaiian indie\"],[\"healing\"],[\"heartland rock\"],[\"hi-nrg\"],[\"highlife\"],[\"hindi hip hop\"],[\"hindi indie\"],[\"hindustani classical\"],[\"hindustani instrumental\"],[\"hindustani vocal\"],[\"hip hop\"],[\"hip hop cubano\"],[\"hip house\"],[\"hip pop\"],[\"hiplife\"],[\"histoire pour enfants\"],[\"historic classical performance\"],[\"historic orchestral performance\"],[\"historic piano performance\"],[\"historic string quartet\"],[\"historical keyboard\"],[\"historically informed performance\"],[\"hoerspiel\"],[\"hokkien pop\"],[\"hollywood\"],[\"hong kong hip hop\"],[\"hong kong indie\"],[\"hong kong rock\"],[\"honky tonk\"],[\"honky-tonk piano\"],[\"hopebeat\"],[\"horror punk\"],[\"horror synth\"],[\"horrorcore\"],[\"house\"],[\"houston rap\"],[\"huapango\"],[\"huayno\"],[\"hula\"],[\"humppa\"],[\"hungarian choir\"],[\"hungarian classical performance\"],[\"hungarian classical piano\"],[\"hungarian contemporary classical\"],[\"hungarian edm\"],[\"hungarian folk\"],[\"hungarian pop\"],[\"hungarian rock\"],[\"hungarian techno\"],[\"hurdy-gurdy\"],[\"hyperpop\"],[\"hyphy\"],[\"icelandic classical\"],[\"icelandic electronic\"],[\"icelandic experimental\"],[\"icelandic folk\"],[\"icelandic indie\"],[\"icelandic jazz\"],[\"icelandic pop\"],[\"icelandic rock\"],[\"idaho indie\"],[\"idol\"],[\"idol rock\"],[\"ilahiler\"],[\"ilocano pop\"],[\"impressionism\"],[\"indian classical\"],[\"indian edm\"],[\"indian folk\"],[\"indian fusion\"],[\"indian indie\"],[\"indian instrumental\"],[\"indian jazz\"],[\"indiana hip hop\"],[\"indie anthem-folk\"],[\"indie cafe pop\"],[\"indie deutschrap\"],[\"indie dream pop\"],[\"indie electronica\"],[\"indie electropop\"],[\"indie folk\"],[\"indie game soundtrack\"],[\"indie garage rock\"],[\"indie hip hop\"],[\"indie jazz\"],[\"indie pop\"],[\"indie pop rap\"],[\"indie poptimism\"],[\"indie psych-pop\"],[\"indie punk\"],[\"indie quebecois\"],[\"indie r&b\"],[\"indie rock\"],[\"indie rock mexicano\"],[\"indie rockism\"],[\"indie shoegaze\"],[\"indie singer-songwriter\"],[\"indie soul\"],[\"indie surf\"],[\"indie triste\"],[\"indiecoustica\"],[\"indietronica\"],[\"indonesian hip hop\"],[\"indonesian indie\"],[\"indonesian pop\"],[\"indonesian r&b\"],[\"indonesian worship\"],[\"industrial\"],[\"industrial hardcore\"],[\"industrial hip hop\"],[\"industrial metal\"],[\"industrial rock\"],[\"indy indie\"],[\"instrumental acoustic guitar\"],[\"instrumental bluegrass\"],[\"instrumental funk\"],[\"instrumental grime\"],[\"instrumental math rock\"],[\"instrumental post-rock\"],[\"instrumental progressive metal\"],[\"instrumental rock\"],[\"instrumental soul\"],[\"instrumental stoner rock\"],[\"instrumental surf\"],[\"intelligent dance music\"],[\"iowa hip hop\"],[\"irish accordion\"],[\"irish ballad\"],[\"irish banjo\"],[\"irish classical\"],[\"irish country\"],[\"irish dance\"],[\"irish fiddle\"],[\"irish folk\"],[\"irish hip hop\"],[\"irish indie\"],[\"irish metal\"],[\"irish pop\"],[\"irish pub song\"],[\"irish rock\"],[\"irish singer-songwriter\"],[\"iskelma\"],[\"islamic recitation\"],[\"isle of wight indie\"],[\"israeli classical\"],[\"israeli classical piano\"],[\"israeli folk\"],[\"israeli hip hop\"],[\"israeli mediterranean\"],[\"israeli pop\"],[\"israeli rock\"],[\"israeli singer-songwriter\"],[\"israeli techno\"],[\"italian adult pop\"],[\"italian baritone\"],[\"italian baroque\"],[\"italian baroque ensemble\"],[\"italian bass\"],[\"italian blues\"],[\"italian classical guitar\"],[\"italian classical piano\"],[\"italian contemporary jazz\"],[\"italian disco\"],[\"italian gothic\"],[\"italian gothic metal\"],[\"italian indie pop\"],[\"italian jazz\"],[\"italian library music\"],[\"italian mandolin\"],[\"italian metal\"],[\"italian mezzo-soprano\"],[\"italian modern prog\"],[\"italian opera\"],[\"italian orchestra\"],[\"italian pop rock\"],[\"italian power metal\"],[\"italian progressive metal\"],[\"italian progressive rock\"],[\"italian renaissance\"],[\"italian romanticism\"],[\"italian soprano\"],[\"italian soundtrack\"],[\"italian techno\"],[\"italian tenor\"],[\"italian violin\"],[\"italo dance\"],[\"italo house\"],[\"j-acoustic\"],[\"j-ambient\"],[\"j-dance\"],[\"j-division\"],[\"j-idol\"],[\"j-metal\"],[\"j-pixie\"],[\"j-pop\"],[\"j-pop girl group\"],[\"j-poprock\"],[\"j-punk\"],[\"j-reggae\"],[\"j-rock\"],[\"jacksonville indie\"],[\"jam band\"],[\"jamgrass\"],[\"jamtronica\"],[\"jangle pop\"],[\"japanese alternative rock\"],[\"japanese chillhop\"],[\"japanese city pop\"],[\"japanese classical\"],[\"japanese classical performance\"],[\"japanese classical piano\"],[\"japanese concert band\"],[\"japanese dream pop\"],[\"japanese electronic\"],[\"japanese electropop\"],[\"japanese emo\"],[\"japanese experimental\"],[\"japanese folk\"],[\"japanese garage rock\"],[\"japanese girl punk\"],[\"japanese heavy metal\"],[\"japanese idm\"],[\"japanese indie folk\"],[\"japanese indie rock\"],[\"japanese instrumental\"],[\"japanese jazz\"],[\"japanese jazz fusion\"],[\"japanese jazztronica\"],[\"japanese metalcore\"],[\"japanese new wave\"],[\"japanese piano\"],[\"japanese pop punk\"],[\"japanese post-hardcore\"],[\"japanese power metal\"],[\"japanese prog\"],[\"japanese psychedelic\"],[\"japanese punk rock\"],[\"japanese r&b\"],[\"japanese rockabilly\"],[\"japanese singer-songwriter\"],[\"japanese soundtrack\"],[\"japanese traditional\"],[\"japanese vgm\"],[\"japanese vocal jazz\"],[\"jawaiian\"],[\"jazz\"],[\"jazz accordion\"],[\"jazz blues\"],[\"jazz boom bap\"],[\"jazz brass\"],[\"jazz chileno\"],[\"jazz clarinet\"],[\"jazz colombiano\"],[\"jazz cubano\"],[\"jazz double bass\"],[\"jazz drums\"],[\"jazz flute\"],[\"jazz funk\"],[\"jazz fusion\"],[\"jazz guitar\"],[\"jazz harp\"],[\"jazz metal\"],[\"jazz mexicano\"],[\"jazz orchestra\"],[\"jazz organ\"],[\"jazz piano\"],[\"jazz pop\"],[\"jazz quartet\"],[\"jazz rap\"],[\"jazz rock\"],[\"jazz saxophone\"],[\"jazz trio\"],[\"jazz trombone\"],[\"jazz trumpet\"],[\"jazz tuba\"],[\"jazz venezolano\"],[\"jazz vibraphone\"],[\"jazz violin\"],[\"jazztronica\"],[\"jewish cantorial\"],[\"jewish hip hop\"],[\"jig and reel\"],[\"jordanian pop\"],[\"joropo\"],[\"jovem guarda\"],[\"jug band\"],[\"juju\"],[\"jump blues\"],[\"jump up\"],[\"k-indie\"],[\"k-pop\"],[\"k-pop boy group\"],[\"k-pop girl group\"],[\"k-rap\"],[\"kabarett\"],[\"kabyle\"],[\"kaneka\"],[\"kannada bhava geethe\"],[\"kansas city hip hop\"],[\"kashmiri pop\"],[\"kawaii future bass\"],[\"kawaii metal\"],[\"kayokyoku\"],[\"kc indie\"],[\"kent indie\"],[\"kentucky hip hop\"],[\"kentucky indie\"],[\"kentucky metal\"],[\"kentucky mountain folk\"],[\"kentucky punk\"],[\"kentucky roots\"],[\"keroncong\"],[\"khaleeji iraqi\"],[\"khmer\"],[\"kids dance party\"],[\"kindie rock\"],[\"kingston on indie\"],[\"kirtan\"],[\"kiwi rock\"],[\"kizomba antigas\"],[\"kleine hoerspiel\"],[\"klezmer\"],[\"knoxville indie\"],[\"kodomo no ongaku\"],[\"kolsche karneval\"],[\"komedi\"],[\"kompa\"],[\"kora\"],[\"korean classical performance\"],[\"korean classical piano\"],[\"korean indie rock\"],[\"korean mask singer\"],[\"korean pop\"],[\"korean r&b\"],[\"korean trap\"],[\"koto\"],[\"krautrock\"],[\"kundiman\"],[\"la indie\"],[\"la pop\"],[\"laboratorio\"],[\"lafayette indie\"],[\"laiko\"],[\"lancashire indie\"],[\"lancaster pa indie\"],[\"late romantic era\"],[\"latin\"],[\"latin afrobeat\"],[\"latin alternative\"],[\"latin american classical piano\"],[\"latin arena pop\"],[\"latin christian\"],[\"latin classical\"],[\"latin funk\"],[\"latin hip hop\"],[\"latin house\"],[\"latin jazz\"],[\"latin metal\"],[\"latin pop\"],[\"latin rock\"],[\"latin ska\"],[\"latin soundtrack\"],[\"latin talent show\"],[\"latin tech house\"],[\"latin viral pop\"],[\"latin worship\"],[\"latincore\"],[\"latino comedy\"],[\"latintronica\"],[\"latinx alternative\"],[\"latvian pop\"],[\"lds\"],[\"lds youth\"],[\"lebanese pop\"],[\"leicester indie\"],[\"lexington ky indie\"],[\"lgbtq+ hip hop\"],[\"library music\"],[\"liedermacher\"],[\"light music\"],[\"lilith\"],[\"liquid funk\"],[\"lithuanian electronic\"],[\"liverpool indie\"],[\"livetronica\"],[\"lldm\"],[\"lo star\"],[\"lo-fi\"],[\"lo-fi beats\"],[\"lo-fi brasileiro\"],[\"lo-fi chill\"],[\"lo-fi cover\"],[\"lo-fi emo\"],[\"lo-fi house\"],[\"lo-fi indie\"],[\"lo-fi vgm\"],[\"london rap\"],[\"louisiana blues\"],[\"louisiana metal\"],[\"louisville indie\"],[\"louisville underground\"],[\"lounge\"],[\"louvor\"],[\"lovers rock\"],[\"lullaby\"],[\"lund indie\"],[\"lute\"],[\"macedonian folk\"],[\"madchester\"],[\"madrigal\"],[\"magyar alternative\"],[\"maine hip hop\"],[\"maine indie\"],[\"mainland chinese pop\"],[\"makossa\"],[\"malaysian mandopop\"],[\"malaysian pop\"],[\"malian blues\"],[\"mallet\"],[\"malmo indie\"],[\"mambo\"],[\"manchester hip hop\"],[\"manchester indie\"],[\"mande pop\"],[\"mandolin\"],[\"mandopop\"],[\"manguebeat\"],[\"manila sound\"],[\"manitoba indie\"],[\"mantra\"],[\"marathi pop\"],[\"marathi traditional\"],[\"marching band\"],[\"mariachi\"],[\"mariachi cristiano\"],[\"marimba orquesta\"],[\"martial industrial\"],[\"mashup\"],[\"math rock\"],[\"mathcore\"],[\"mbalax\"],[\"medieval\"],[\"medieval folk\"],[\"medieval rock\"],[\"meditation\"],[\"melancholia\"],[\"melbourne bounce\"],[\"melbourne bounce international\"],[\"melbourne indie\"],[\"mellow gold\"],[\"melodic death metal\"],[\"melodic deathcore\"],[\"melodic dubstep\"],[\"melodic groove metal\"],[\"melodic hard rock\"],[\"melodic hardcore\"],[\"melodic metal\"],[\"melodic metalcore\"],[\"melodic power metal\"],[\"melodic rap\"],[\"melodic thrash\"],[\"meme rap\"],[\"memphis americana\"],[\"memphis blues\"],[\"memphis hip hop\"],[\"memphis indie\"],[\"memphis soul\"],[\"mento\"],[\"merengue\"],[\"merengue tipico\"],[\"merseybeat\"],[\"messianic praise\"],[\"metal\"],[\"metal guitar\"],[\"metal mineiro\"],[\"metalcore\"],[\"metropopolis\"],[\"mexican classic rock\"],[\"mexican classical\"],[\"mexican hip hop\"],[\"mexican indie\"],[\"mexican pop\"],[\"mexican pop punk\"],[\"mexican rock\"],[\"mexican rock-and-roll\"],[\"mexican son\"],[\"mexican traditional\"],[\"miami bass\"],[\"miami hip hop\"],[\"miami indie\"],[\"miami metal\"],[\"michigan indie\"],[\"microhouse\"],[\"microtonal\"],[\"middle earth\"],[\"middle east hip hop\"],[\"middle eastern traditional\"],[\"midwest americana\"],[\"midwest emo\"],[\"military cadence\"],[\"military rap\"],[\"milwaukee indie\"],[\"mindfulness\"],[\"minecraft\"],[\"minimal melodic techno\"],[\"minimal tech house\"],[\"minimal techno\"],[\"minimal wave\"],[\"minimalism\"],[\"minneapolis indie\"],[\"minneapolis metal\"],[\"minneapolis punk\"],[\"minneapolis sound\"],[\"minnesota hip hop\"],[\"mississippi hip hop\"],[\"mississippi indie\"],[\"mizrahi\"],[\"mod revival\"],[\"modern alternative pop\"],[\"modern alternative rock\"],[\"modern big band\"],[\"modern blues\"],[\"modern blues rock\"],[\"modern bollywood\"],[\"modern country rock\"],[\"modern dream pop\"],[\"modern folk rock\"],[\"modern funk\"],[\"modern hard rock\"],[\"modern indie pop\"],[\"modern jazz piano\"],[\"modern jazz trio\"],[\"modern old-time\"],[\"modern performance\"],[\"modern power pop\"],[\"modern psychedelic folk\"],[\"modern reggae\"],[\"modern rock\"],[\"modern salsa\"],[\"modern ska punk\"],[\"modern southern rock\"],[\"modern string quartet\"],[\"modern swing\"],[\"modern uplift\"],[\"modular synth\"],[\"moldovan pop\"],[\"mollywood\"],[\"mongolian hip hop\"],[\"mongolian pop\"],[\"monterrey indie\"],[\"montreal indie\"],[\"moog\"],[\"moombahton\"],[\"morna\"],[\"motivation\"],[\"motown\"],[\"mountain dulcimer\"],[\"movie tunes\"],[\"mpb\"],[\"music box\"],[\"music hall\"],[\"musica afroperuana\"],[\"musica alagoana\"],[\"musica andina\"],[\"musica andina colombiana\"],[\"musica antigua\"],[\"musica aragonesa\"],[\"musica ayacuchana\"],[\"musica canaria\"],[\"musica costarricense\"],[\"musica costena\"],[\"musica cristiana guatemalteca\"],[\"musica de fondo\"],[\"musica gaucha tradicionalista\"],[\"musica hondurena\"],[\"musica infantil\"],[\"musica jibara\"],[\"musica juiz-forana\"],[\"musica llanera\"],[\"musica nicaraguense\"],[\"musica para criancas\"],[\"musica para ninos\"],[\"musica paraibana\"],[\"musica piemonteisa\"],[\"musica popular colombiana\"],[\"musica popular mineira\"],[\"musica popular paraense\"],[\"musica potosina\"],[\"musica prehispanica\"],[\"musica sarda\"],[\"musica tradicional cubana\"],[\"musica tropical guatemalteca\"],[\"musical advocacy\"],[\"musikkorps\"],[\"musique concrete\"],[\"musique peule\"],[\"musique pour enfant quebecois\"],[\"musique pour enfants\"],[\"musique touareg\"],[\"muzica populara\"],[\"muzika l'yeladim\"],[\"naija worship\"],[\"nantes indie\"],[\"narodna muzika\"],[\"nashville americana\"],[\"nashville hip hop\"],[\"nashville indie\"],[\"nashville singer-songwriter\"],[\"nashville sound\"],[\"native american\"],[\"native american contemporary\"],[\"native american flute\"],[\"native american hip hop\"],[\"native american spiritual\"],[\"navajo\"],[\"nederlandse hardstyle\"],[\"nederpop\"],[\"neo classical metal\"],[\"neo kyma\"],[\"neo mellow\"],[\"neo r&b\"],[\"neo soul\"],[\"neo-classical\"],[\"neo-kraut\"],[\"neo-pagan\"],[\"neo-progressive\"],[\"neo-psychedelic\"],[\"neo-rockabilly\"],[\"neo-singer-songwriter\"],[\"neo-synthpop\"],[\"neo-trad metal\"],[\"neo-traditional bluegrass\"],[\"neo-traditional country\"],[\"neoclassical darkwave\"],[\"neoclassicism\"],[\"neofolk\"],[\"neon pop punk\"],[\"neotango\"],[\"nepali indie\"],[\"nepali pop\"],[\"nerdcore\"],[\"neue deutsche harte\"],[\"neue deutsche todeskunst\"],[\"neue deutsche welle\"],[\"neurofunk\"],[\"new age\"],[\"new age piano\"],[\"new americana\"],[\"new beat\"],[\"new comedy\"],[\"new england americana\"],[\"new england emo\"],[\"new french touch\"],[\"new isolationism\"],[\"new jack swing\"],[\"new jersey hardcore\"],[\"new jersey indie\"],[\"new jersey punk\"],[\"new jersey rap\"],[\"new mexico music\"],[\"new orleans blues\"],[\"new orleans funk\"],[\"new orleans indie\"],[\"new orleans jazz\"],[\"new orleans rap\"],[\"new rave\"],[\"new romantic\"],[\"new tribe\"],[\"new wave\"],[\"new wave of thrash metal\"],[\"new wave pop\"],[\"new weird america\"],[\"new york death metal\"],[\"new york drill\"],[\"new zealand classical\"],[\"newcastle indie\"],[\"newcastle nsw indie\"],[\"nigerian hip hop\"],[\"nigerian pop\"],[\"nightcore\"],[\"nightrun\"],[\"ninja\"],[\"nintendocore\"],[\"nisiotika\"],[\"nl folk\"],[\"no wave\"],[\"noise pop\"],[\"noise punk\"],[\"noise rock\"],[\"nordic classical piano\"],[\"nordic contemporary classical\"],[\"nordic folk\"],[\"nordic house\"],[\"nordic orchestra\"],[\"nordic post-rock\"],[\"nordic soundtrack\"],[\"norman ok indie\"],[\"norsk lovsang\"],[\"norteno\"],[\"norteno-sax\"],[\"north carolina emo\"],[\"north carolina hip hop\"],[\"north carolina indie\"],[\"north carolina metal\"],[\"north carolina roots\"],[\"north east england indie\"],[\"northern irish indie\"],[\"northern irish punk\"],[\"northern soul\"],[\"norwegian black metal\"],[\"norwegian choir\"],[\"norwegian classical\"],[\"norwegian contemporary jazz\"],[\"norwegian death metal\"],[\"norwegian experimental\"],[\"norwegian hip hop\"],[\"norwegian indie\"],[\"norwegian jazz\"],[\"norwegian metal\"],[\"norwegian pop\"],[\"norwegian pop rap\"],[\"norwegian punk rock\"],[\"norwegian rock\"],[\"norwegian singer-songwriter\"],[\"norwegian space disco\"],[\"nottingham indie\"],[\"nouvelle chanson francaise\"],[\"nova canco\"],[\"nova mpb\"],[\"nova musica pernambucana\"],[\"novelty\"],[\"nu age\"],[\"nu disco\"],[\"nu gaze\"],[\"nu jazz\"],[\"nu metal\"],[\"nu skool breaks\"],[\"nu-cumbia\"],[\"nu-metalcore\"],[\"nubian traditional\"],[\"nueva cancion\"],[\"nueva ola chilena\"],[\"nueva ola peruana\"],[\"nuevo flamenco\"],[\"nuevo folklore mexicano\"],[\"nuevo regional mexicano\"],[\"nuevo tango\"],[\"nursery\"],[\"nwobhm\"],[\"nwothm\"],[\"ny roots\"],[\"nyc pop\"],[\"nyc rap\"],[\"nyhc\"],[\"nz christian\"],[\"nz folk\"],[\"nz hardcore\"],[\"nz indie\"],[\"nz pop\"],[\"nz punk\"],[\"nz reggae\"],[\"nz singer-songwriter\"],[\"oakland hip hop\"],[\"oakland indie\"],[\"oc indie\"],[\"oc rap\"],[\"oceania soundtrack\"],[\"ohio hip hop\"],[\"ohio indie\"],[\"oi\"],[\"ok indie\"],[\"okc indie\"],[\"okinawan pop\"],[\"oklahoma country\"],[\"old school dancehall\"],[\"old school hip hop\"],[\"old school rap francais\"],[\"old school thrash\"],[\"old school uk hip hop\"],[\"old west\"],[\"old-time\"],[\"old-time fiddle\"],[\"olympia wa indie\"],[\"omaha indie\"],[\"one-person band\"],[\"ontario indie\"],[\"opera\"],[\"opera chorus\"],[\"opera metal\"],[\"operatic pop\"],[\"operetta\"],[\"opm\"],[\"oratory\"],[\"orchestra\"],[\"orchestral performance\"],[\"orebro indie\"],[\"organic ambient\"],[\"organic electronic\"],[\"organic house\"],[\"orgcore\"],[\"oriental classical\"],[\"orkney and shetland folk\"],[\"orlando indie\"],[\"orquesta tipica\"],[\"orthodox chant\"],[\"oshare kei\"],[\"otacore\"],[\"oth indie\"],[\"ottawa indie\"],[\"ottawa rap\"],[\"oud\"],[\"outer hip hop\"],[\"outlaw country\"],[\"outsider\"],[\"outsider house\"],[\"oxford choir\"],[\"oxford indie\"],[\"p funk\"],[\"pagan black metal\"],[\"pagode\"],[\"pagode baiano\"],[\"paisley underground\"],[\"pakistani folk\"],[\"pakistani hip hop\"],[\"pakistani pop\"],[\"palestinian pop\"],[\"palm desert scene\"],[\"panamanian pop\"],[\"panamanian rock\"],[\"panpipe\"],[\"papuri\"],[\"parody\"],[\"partido alto\"],[\"partyschlager\"],[\"pei indie\"],[\"permanent wave\"],[\"perreo\"],[\"persian pop\"],[\"persian traditional\"],[\"perth indie\"],[\"peruvian hip hop\"],[\"peruvian rock\"],[\"pet calming\"],[\"philly indie\"],[\"philly rap\"],[\"philly soul\"],[\"phoenix indie\"],[\"phonk\"],[\"pianissimo\"],[\"piano blues\"],[\"piano cover\"],[\"piano mpb\"],[\"piano rock\"],[\"pibroch\"],[\"piedmont blues\"],[\"pinoy hip hop\"],[\"pinoy indie\"],[\"pinoy pop punk\"],[\"pinoy praise\"],[\"pinoy r&b\"],[\"pinoy reggae\"],[\"pinoy rock\"],[\"pinoy traditional\"],[\"pinoy trap\"],[\"pirate\"],[\"pittsburgh indie\"],[\"pittsburgh rap\"],[\"pittsburgh rock\"],[\"pixie\"],[\"plunderphonics\"],[\"poetry\"],[\"polca paraguaya\"],[\"polish blues\"],[\"polish classical\"],[\"polish classical piano\"],[\"polish contemporary classical\"],[\"polish jazz\"],[\"polish modern jazz\"],[\"polish pop\"],[\"polish post-rock\"],[\"polish reggae\"],[\"polish rock\"],[\"political hip hop\"],[\"polka\"],[\"polynesian hip hop\"],[\"polynesian pop\"],[\"polyphony\"],[\"pony\"],[\"pop\"],[\"pop argentino\"],[\"pop chileno\"],[\"pop dance\"],[\"pop edm\"],[\"pop electronico\"],[\"pop emo\"],[\"pop flamenco\"],[\"pop folk\"],[\"pop house\"],[\"pop nacional\"],[\"pop nacional antigas\"],[\"pop peruano\"],[\"pop punk\"],[\"pop quebecois\"],[\"pop r&b\"],[\"pop rap\"],[\"pop reggaeton\"],[\"pop rock\"],[\"pop rock brasileiro\"],[\"pop romantico\"],[\"pop soul\"],[\"pop venezolano\"],[\"pop violin\"],[\"popgaze\"],[\"popping\"],[\"pops orchestra\"],[\"popwave\"],[\"pornogrind\"],[\"porro\"],[\"portland hip hop\"],[\"portland indie\"],[\"portland metal\"],[\"portland punk\"],[\"portuguese early music\"],[\"post-disco\"],[\"post-disco soul\"],[\"post-doom metal\"],[\"post-grunge\"],[\"post-hardcore\"],[\"post-metal\"],[\"post-minimalism\"],[\"post-post-hardcore\"],[\"post-punk\"],[\"post-punk argentina\"],[\"post-rock\"],[\"post-romantic era\"],[\"post-screamo\"],[\"post-teen pop\"],[\"power metal\"],[\"power pop\"],[\"power thrash\"],[\"power-pop punk\"],[\"praise\"],[\"prepared piano\"],[\"preschool children's music\"],[\"prog quebec\"],[\"progressive alternative\"],[\"progressive bluegrass\"],[\"progressive deathcore\"],[\"progressive electro house\"],[\"progressive groove metal\"],[\"progressive house\"],[\"progressive jazz fusion\"],[\"progressive metal\"],[\"progressive metalcore\"],[\"progressive post-hardcore\"],[\"progressive power metal\"],[\"progressive psytrance\"],[\"progressive rock\"],[\"progressive sludge\"],[\"progressive trance\"],[\"progressive trance house\"],[\"progressive uplifting trance\"],[\"proto-rap\"],[\"proto-techno\"],[\"protopunk\"],[\"psalmen\"],[\"psicodelia brasileira\"],[\"psybass\"],[\"psychedelic blues-rock\"],[\"psychedelic doom\"],[\"psychedelic folk\"],[\"psychedelic folk rock\"],[\"psychedelic hip hop\"],[\"psychedelic pop\"],[\"psychedelic punk\"],[\"psychedelic rock\"],[\"psychedelic soul\"],[\"psychedelic trance\"],[\"psychill\"],[\"psychobilly\"],[\"pub rock\"],[\"puerto rican folk\"],[\"puerto rican pop\"],[\"puerto rican rock\"],[\"punjabi folk\"],[\"punjabi hip hop\"],[\"punjabi pop\"],[\"punk\"],[\"punk 'n' roll\"],[\"punk blues\"],[\"punk rock italiano\"],[\"punk rock mexicano\"],[\"punta\"],[\"purple sound\"],[\"qawwali\"],[\"quartetto d'archi\"],[\"quatuor a cordes\"],[\"quebec death metal\"],[\"quebec indie\"],[\"queens hip hop\"],[\"queer country\"],[\"queercore\"],[\"quiet storm\"],[\"quran\"],[\"r&b\"],[\"r&b en espanol\"],[\"rabindra sangeet\"],[\"radio symphony\"],[\"ragtime\"],[\"rai\"],[\"ranchera\"],[\"rap\"],[\"rap chileno\"],[\"rap conciencia\"],[\"rap conscient\"],[\"rap cristiano\"],[\"rap dominicano\"],[\"rap kreyol\"],[\"rap latina\"],[\"rap metal\"],[\"rap nacional antigo\"],[\"rap napoletano\"],[\"rap rock\"],[\"rap underground mexicano\"],[\"rare groove\"],[\"rave\"],[\"rawstyle\"],[\"reading\"],[\"reading indie\"],[\"rebel blues\"],[\"rebetiko\"],[\"recorder\"],[\"red dirt\"],[\"redneck\"],[\"reggae\"],[\"reggae en espanol\"],[\"reggae fusion\"],[\"reggae rock\"],[\"reggaeton\"],[\"reggaeton colombiano\"],[\"reggaeton cristiano\"],[\"reggaeton flow\"],[\"reggaeton mexicano\"],[\"regional mexican\"],[\"relaxative\"],[\"renaissance\"],[\"rennes indie\"],[\"retro metal\"],[\"retro soul\"],[\"rhode island indie\"],[\"rhode island rap\"],[\"rhythm and blues\"],[\"riddim\"],[\"rif\"],[\"riot grrrl\"],[\"ritmo kombina\"],[\"rochester mn indie\"],[\"rochester ny indie\"],[\"rock\"],[\"rock alternatif francais\"],[\"rock alternativo brasileiro\"],[\"rock andaluz\"],[\"rock baiano\"],[\"rock brasiliense\"],[\"rock chapin\"],[\"rock cristiano\"],[\"rock drums\"],[\"rock en espanol\"],[\"rock gaucho\"],[\"rock independant francais\"],[\"rock kapak\"],[\"rock keyboard\"],[\"rock nacional\"],[\"rock nacional brasileiro\"],[\"rock pernambucano\"],[\"rock progressif francais\"],[\"rock steady\"],[\"rock urbano mexicano\"],[\"rock-and-roll\"],[\"rockabilly\"],[\"rockabilly en espanol\"],[\"roda de samba\"],[\"romanian classical piano\"],[\"romanian electronic\"],[\"romanian folk\"],[\"romanian pop\"],[\"romanian rock\"],[\"romantico\"],[\"roots americana\"],[\"roots reggae\"],[\"roots rock\"],[\"roots worship\"],[\"rosary\"],[\"rumba\"],[\"rumba congolaise\"],[\"rune folk\"],[\"russian alternative rock\"],[\"russian ccm\"],[\"russian chanson\"],[\"russian choir\"],[\"russian classical piano\"],[\"russian dance\"],[\"russian edm\"],[\"russian folk\"],[\"russian folk rock\"],[\"russian jazz\"],[\"russian metal\"],[\"russian metalcore\"],[\"russian modern classical\"],[\"russian orchestra\"],[\"russian pop\"],[\"russian post-punk\"],[\"russian punk\"],[\"russian rock\"],[\"russian romanticism\"],[\"russian shoegaze\"],[\"russian trance\"],[\"rva indie\"],[\"rwandan traditional\"],[\"ryukyu ongaku\"],[\"sacramento hip hop\"],[\"sacramento indie\"],[\"sacred steel\"],[\"sad rap\"],[\"salsa\"],[\"salsa choke\"],[\"salsa colombiana\"],[\"salsa cubana\"],[\"salsa international\"],[\"salsa peruana\"],[\"salsa puertorriquena\"],[\"salsa venezolana\"],[\"samba\"],[\"samba de roda\"],[\"samba moderno\"],[\"samba-enredo\"],[\"samba-jazz\"],[\"samba-rock\"],[\"san antonio rap\"],[\"san diego indie\"],[\"san diego rap\"],[\"san marcos tx indie\"],[\"sandalwood\"],[\"sarod\"],[\"saskatchewan indie\"],[\"scam rap\"],[\"scandinavian r&b\"],[\"scandipop\"],[\"schlager\"],[\"scorecore\"],[\"scottish electronic\"],[\"scottish fiddle\"],[\"scottish folk\"],[\"scottish hip hop\"],[\"scottish indie\"],[\"scottish jazz\"],[\"scottish metal\"],[\"scottish new wave\"],[\"scottish rock\"],[\"scottish singer-songwriter\"],[\"scratch\"],[\"scream rap\"],[\"screamo\"],[\"seattle hip hop\"],[\"seattle indie\"],[\"second line\"],[\"sefardi\"],[\"serbian electronic\"],[\"serialism\"],[\"sertanejo\"],[\"sertanejo pop\"],[\"sertanejo tradicional\"],[\"sertanejo universitario\"],[\"sevdah\"],[\"sevillanas\"],[\"shaabi\"],[\"shabad\"],[\"shakuhachi\"],[\"shamanic\"],[\"shanty\"],[\"sheffield indie\"],[\"shibuya-kei\"],[\"shimmer pop\"],[\"shimmer psych\"],[\"shiver pop\"],[\"shoegaze\"],[\"show tunes\"],[\"shred\"],[\"shush\"],[\"sierreno\"],[\"singaporean mandopop\"],[\"singaporean pop\"],[\"singaporean singer-songwriter\"],[\"singer-songwriter\"],[\"singing bowl\"],[\"sitar\"],[\"ska\"],[\"ska argentino\"],[\"ska chileno\"],[\"ska jazz\"],[\"ska mexicano\"],[\"ska punk\"],[\"ska revival\"],[\"skate punk\"],[\"skiffle\"],[\"skramz\"],[\"sky room\"],[\"slack-key guitar\"],[\"slam poetry\"],[\"slamming deathcore\"],[\"slavic folk metal\"],[\"slayer\"],[\"slc indie\"],[\"sleaze rock\"],[\"sleep\"],[\"slovak electronic\"],[\"slovenian electronic\"],[\"slovenian metal\"],[\"slow game\"],[\"slowcore\"],[\"sludge metal\"],[\"small room\"],[\"smooth jazz\"],[\"smooth saxophone\"],[\"smooth soul\"],[\"soca\"],[\"socal pop punk\"],[\"social media pop\"],[\"soda pop\"],[\"soft rock\"],[\"solipsynthm\"],[\"son cubano\"],[\"son cubano clasico\"],[\"son jarocho\"],[\"sophisti-pop\"],[\"sotalaulut\"],[\"soukous\"],[\"soul\"],[\"soul blues\"],[\"soul flow\"],[\"soul jazz\"],[\"souldies\"],[\"sound\"],[\"sound art\"],[\"sound effects\"],[\"sound team\"],[\"soundtrack\"],[\"south african alternative\"],[\"south african choral\"],[\"south african country\"],[\"south african hip hop\"],[\"south african house\"],[\"south african jazz\"],[\"south african pop\"],[\"south african pop dance\"],[\"south african rock\"],[\"south carolina hip hop\"],[\"south carolina indie\"],[\"south carolina metal\"],[\"south dakota indie\"],[\"southampton indie\"],[\"southern americana\"],[\"southern gospel\"],[\"southern hip hop\"],[\"southern metal\"],[\"southern rock\"],[\"southern soul\"],[\"southern soul blues\"],[\"soviet synthpop\"],[\"sovietwave\"],[\"spa\"],[\"space age pop\"],[\"space ambient\"],[\"space rock\"],[\"spanish baroque\"],[\"spanish classical\"],[\"spanish classical piano\"],[\"spanish folk metal\"],[\"spanish hip hop\"],[\"spanish indie pop\"],[\"spanish invasion\"],[\"spanish metal\"],[\"spanish modern rock\"],[\"spanish new wave\"],[\"spanish noise pop\"],[\"spanish pop\"],[\"spanish pop rock\"],[\"spanish renaissance\"],[\"spanish rock\"],[\"spanish synthpop\"],[\"spanish techno\"],[\"speed garage\"],[\"speed metal\"],[\"speedcore\"],[\"spiritual hip hop\"],[\"spiritual jazz\"],[\"spirituals\"],[\"springfield mo indie\"],[\"spytrack\"],[\"st louis rap\"],[\"steampunk\"],[\"steel guitar\"],[\"steelpan\"],[\"stl indie\"],[\"stomp and flutter\"],[\"stomp and holler\"],[\"stomp and whittle\"],[\"stomp pop\"],[\"stoner metal\"],[\"stoner rock\"],[\"straight edge\"],[\"straight-ahead jazz\"],[\"street band\"],[\"street punk\"],[\"streichquartett\"],[\"stride\"],[\"string band\"],[\"string folk\"],[\"string orchestra\"],[\"string quartet\"],[\"strut\"],[\"substep\"],[\"sudanese pop\"],[\"sufi\"],[\"sufi chant\"],[\"sunshine pop\"],[\"supergroup\"],[\"surf music\"],[\"surf punk\"],[\"svensk progg\"],[\"swamp blues\"],[\"swamp pop\"],[\"swamp rock\"],[\"swancore\"],[\"swedish alternative rock\"],[\"swedish americana\"],[\"swedish black metal\"],[\"swedish choir\"],[\"swedish country\"],[\"swedish dancehall\"],[\"swedish death metal\"],[\"swedish doom metal\"],[\"swedish electronic\"],[\"swedish electropop\"],[\"swedish eurodance\"],[\"swedish garage rock\"],[\"swedish hard rock\"],[\"swedish hardcore\"],[\"swedish heavy metal\"],[\"swedish house\"],[\"swedish idol pop\"],[\"swedish indie folk\"],[\"swedish indie pop\"],[\"swedish indie rock\"],[\"swedish jazz\"],[\"swedish jazz orkester\"],[\"swedish melodic rock\"],[\"swedish metal\"],[\"swedish metalcore\"],[\"swedish pop\"],[\"swedish post-hardcore\"],[\"swedish power metal\"],[\"swedish prog\"],[\"swedish progressive metal\"],[\"swedish rock-and-roll\"],[\"swedish singer-songwriter\"],[\"swedish soul\"],[\"swedish stoner rock\"],[\"swedish synth\"],[\"swedish synthpop\"],[\"swedish tropical house\"],[\"swedish underground rap\"],[\"swing\"],[\"swing italiano\"],[\"swing revival\"],[\"swiss black metal\"],[\"swiss classical piano\"],[\"swiss country\"],[\"swiss metal\"],[\"swiss pop\"],[\"swiss rock\"],[\"swiss worship\"],[\"sydney indie\"],[\"symphonic black metal\"],[\"symphonic metal\"],[\"symphonic rock\"],[\"synth funk\"],[\"synthpop\"],[\"synthwave\"],[\"syrian pop\"],[\"tabla\"],[\"tagalog rap\"],[\"tagalog worship\"],[\"taiwan campus folk\"],[\"taiwan classical performance\"],[\"taiwan hip hop\"],[\"taiwan indie\"],[\"taiwan pop\"],[\"taiwan singer-songwriter\"],[\"tajik pop\"],[\"talent show\"],[\"tamaulipas indie\"],[\"tamaulipas rap\"],[\"tamborazo\"],[\"tamil hip hop\"],[\"tamil pop\"],[\"tamil worship\"],[\"tampa indie\"],[\"tango\"],[\"tango cancion\"],[\"tape club\"],[\"tech house\"],[\"technical death metal\"],[\"technical deathcore\"],[\"technical groove metal\"],[\"technical melodic death metal\"],[\"technical thrash\"],[\"techno\"],[\"techno kayo\"],[\"tecnobanda\"],[\"teen pop\"],[\"tejano\"],[\"tempe indie\"],[\"tennessee hip hop\"],[\"tennessee metal\"],[\"tex-mex\"],[\"texas blues\"],[\"texas country\"],[\"texas latin rap\"],[\"texas pop punk\"],[\"texas punk\"],[\"thai folk\"],[\"thai folk rock\"],[\"thai idol\"],[\"thai indie rock\"],[\"thai pop\"],[\"thall\"],[\"theme\"],[\"theremin\"],[\"thrash core\"],[\"thrash metal\"],[\"timba\"],[\"tin pan alley\"],[\"tipico\"],[\"tolkien metal\"],[\"tollywood\"],[\"tone\"],[\"torch song\"],[\"toronto indie\"],[\"toronto rap\"],[\"trad jazz catala\"],[\"traditional bluegrass\"],[\"traditional blues\"],[\"traditional british folk\"],[\"traditional country\"],[\"traditional folk\"],[\"traditional funk\"],[\"traditional rockabilly\"],[\"traditional ska\"],[\"traditional soul\"],[\"trance\"],[\"trance mexicano\"],[\"trancecore\"],[\"transpop\"],[\"trap\"],[\"trap argentino\"],[\"trap chileno\"],[\"trap dominicano\"],[\"trap latino\"],[\"trap mexicano\"],[\"trap queen\"],[\"trap soul\"],[\"trap triste\"],[\"trap venezolano\"],[\"traprun\"],[\"trash rock\"],[\"triangle indie\"],[\"tribal house\"],[\"trinidadian reggae\"],[\"trio cubano\"],[\"trip hop\"],[\"trival\"],[\"tropical\"],[\"tropical house\"],[\"tropicalia\"],[\"trova\"],[\"trova mexicana\"],[\"truck-driving country\"],[\"tuareg guitar\"],[\"tucson indie\"],[\"tulsa indie\"],[\"tuna estudiantil\"],[\"tunisian pop\"],[\"turbo folk\"],[\"turkish classical\"],[\"turkish classical performance\"],[\"turkish edm\"],[\"turkish experimental\"],[\"turkish folk\"],[\"turkish jazz\"],[\"turkish modern jazz\"],[\"turkish pop\"],[\"turkish psych\"],[\"turkish trap\"],[\"turkish trap pop\"],[\"turntablism\"],[\"twee pop\"],[\"twoubadou\"],[\"tzadik\"],[\"ugandan pop\"],[\"uilleann pipes\"],[\"uk alternative hip hop\"],[\"uk alternative pop\"],[\"uk americana\"],[\"uk contemporary jazz\"],[\"uk contemporary r&b\"],[\"uk dance\"],[\"uk dancehall\"],[\"uk diy punk\"],[\"uk dnb\"],[\"uk doom metal\"],[\"uk dub\"],[\"uk experimental electronic\"],[\"uk funky\"],[\"uk garage\"],[\"uk hip hop\"],[\"uk house\"],[\"uk metalcore\"],[\"uk noise rock\"],[\"uk pop\"],[\"uk pop punk\"],[\"uk post-hardcore\"],[\"uk post-punk\"],[\"uk reggae\"],[\"uk rockabilly\"],[\"uk stoner rock\"],[\"uk worship\"],[\"uk82\"],[\"ukrainian choir\"],[\"ukrainian classical\"],[\"ukrainian classical piano\"],[\"ukrainian electronic\"],[\"ukrainian pop\"],[\"ukulele\"],[\"umbanda\"],[\"underground hip hop\"],[\"underground power pop\"],[\"underground rap\"],[\"university choir\"],[\"uplifting trance\"],[\"uptempo hardcore\"],[\"urban contemporary\"],[\"urbano espanol\"],[\"us power metal\"],[\"utah indie\"],[\"uzbek pop\"],[\"uzbek traditional\"],[\"v-pop\"],[\"vallenato\"],[\"vallenato moderno\"],[\"vancouver indie\"],[\"vancouver metal\"],[\"vancouver punk\"],[\"vapor pop\"],[\"vapor soul\"],[\"vapor trap\"],[\"vapor twitch\"],[\"vaporwave\"],[\"variete francaise\"],[\"vaudeville\"],[\"vbs\"],[\"veena\"],[\"vegan straight edge\"],[\"vegas indie\"],[\"velha guarda\"],[\"venezuelan hip hop\"],[\"venezuelan indie\"],[\"venezuelan rock\"],[\"veracruz indie\"],[\"vermont indie\"],[\"vgm instrumental\"],[\"vgm remix\"],[\"victoria bc indie\"],[\"victorian britain\"],[\"video game music\"],[\"vienna indie\"],[\"vietnamese bolero\"],[\"vietnamese pop\"],[\"viking black metal\"],[\"viking folk\"],[\"viking metal\"],[\"villancicos\"],[\"vintage chanson\"],[\"vintage chinese pop\"],[\"vintage classical singing\"],[\"vintage country folk\"],[\"vintage dutch pop\"],[\"vintage french electronic\"],[\"vintage gospel\"],[\"vintage hollywood\"],[\"vintage italian pop\"],[\"vintage italian soundtrack\"],[\"vintage jazz\"],[\"vintage old-time\"],[\"vintage rockabilly\"],[\"vintage schlager\"],[\"vintage spanish pop\"],[\"vintage swedish pop\"],[\"vintage swing\"],[\"vintage tango\"],[\"viola\"],[\"violao\"],[\"violao classico\"],[\"violin\"],[\"viral pop\"],[\"viral rap\"],[\"viral trap\"],[\"virgin islands reggae\"],[\"virginia hip hop\"],[\"virginia metal\"],[\"virginia punk\"],[\"visor\"],[\"visual kei\"],[\"vocal ensemble\"],[\"vocal harmony group\"],[\"vocal house\"],[\"vocal jazz\"],[\"vocal trance\"],[\"vocaloid\"],[\"vogue\"],[\"volksmusik\"],[\"warm drone\"],[\"washboard\"],[\"washington indie\"],[\"wassoulou\"],[\"water\"],[\"wave\"],[\"welsh folk\"],[\"welsh indie\"],[\"welsh metal\"],[\"welsh rock\"],[\"west african jazz\"],[\"west australian hip hop\"],[\"west coast rap\"],[\"west coast reggae\"],[\"west coast trap\"],[\"west end\"],[\"west virginia indie\"],[\"western americana\"],[\"western mass indie\"],[\"western saharan folk\"],[\"western swing\"],[\"white noise\"],[\"wind ensemble\"],[\"wind quintet\"],[\"wisconsin indie\"],[\"witch house\"],[\"women's choir\"],[\"women's music\"],[\"wonky\"],[\"worcester ma indie\"],[\"world\"],[\"world fusion\"],[\"world meditation\"],[\"world worship\"],[\"worship\"],[\"wrestling\"],[\"wu fam\"],[\"wyoming indie\"],[\"wyoming roots\"],[\"xhosa\"],[\"xtra raw\"],[\"yacht rock\"],[\"ye ye\"],[\"yiddish folk\"],[\"yodeling\"],[\"yoga\"],[\"yoik\"],[\"york indie\"],[\"yorkshire folk\"],[\"yugoslav new wave\"],[\"yugoslav rock\"],[\"zambian pop\"],[\"zeuhl\"],[\"zhongguo feng\"],[\"zimdancehall\"],[\"zolo\"],[\"zouglou\"],[\"zouk\"],[\"zurich indie\"],[\"zydeco\"]],\"hovertemplate\":\"x=%{x}<br>y=%{y}<br>genres=%{customdata[0]}<br>cluster_pca=%{marker.color}<extra></extra>\",\"legendgroup\":\"\",\"marker\":{\"color\":[1,1,3,0,0,1,3,3,0,0,2,2,3,1,0,0,3,0,2,2,0,0,3,0,2,3,3,1,3,3,3,3,3,3,3,2,0,3,2,3,2,3,3,3,0,3,3,2,3,2,3,2,0,2,2,3,2,2,3,3,2,2,3,1,2,0,2,2,3,1,3,2,1,1,1,1,1,0,2,1,0,1,2,1,1,2,0,2,1,3,2,2,2,2,0,2,2,0,0,3,0,1,0,0,2,0,1,0,3,2,3,0,3,3,3,3,3,2,0,3,2,1,2,3,2,1,3,0,3,1,2,3,3,3,2,3,1,2,3,2,3,2,2,0,2,3,3,3,2,3,1,3,1,1,1,3,2,2,3,3,2,2,2,2,3,2,2,3,3,2,2,0,2,3,3,2,3,3,3,1,1,1,2,1,3,0,2,1,1,2,3,0,3,3,3,3,1,1,0,0,0,3,0,0,0,2,0,1,1,0,1,3,2,3,3,3,0,0,0,0,0,1,3,0,0,0,1,1,1,1,3,1,1,0,3,2,2,3,3,2,3,3,3,3,2,3,3,0,3,0,3,3,0,3,3,2,2,2,1,1,2,3,3,2,2,0,2,3,2,0,2,0,0,3,3,2,1,0,3,1,0,2,2,1,1,3,3,2,2,2,3,2,2,2,2,2,2,0,0,0,0,2,2,3,3,0,0,3,3,0,3,3,0,0,0,3,3,3,2,3,3,3,3,0,0,3,3,1,1,1,0,1,1,3,1,1,1,3,2,3,0,0,2,0,0,3,3,3,3,3,2,2,3,0,1,3,0,2,2,2,3,2,2,3,3,1,1,3,1,0,2,2,0,2,2,2,3,2,1,1,2,2,0,3,1,2,0,3,3,3,3,2,2,3,2,3,3,3,3,3,2,1,0,0,0,2,0,3,3,3,1,0,3,1,2,3,0,3,2,3,0,1,1,1,0,3,0,3,2,3,1,0,2,3,2,3,0,0,3,3,2,2,2,3,2,2,1,2,2,2,3,0,1,0,3,3,0,2,0,0,0,0,0,2,0,0,3,0,0,0,3,1,1,1,2,3,1,0,1,2,3,3,0,1,0,1,1,0,1,0,2,3,3,0,0,3,2,0,3,3,2,0,0,3,2,3,2,2,2,3,0,2,3,3,3,0,0,3,0,3,0,2,3,2,1,0,2,0,3,0,2,2,0,1,1,1,2,2,3,2,2,1,0,2,1,1,1,3,1,0,2,0,0,2,3,2,3,3,2,2,2,2,2,2,3,1,2,3,2,1,0,3,3,3,2,3,2,3,0,0,3,3,0,3,0,0,0,0,0,2,0,3,3,3,0,0,2,2,2,0,0,0,0,2,0,0,0,0,3,0,0,0,3,0,0,2,3,3,0,2,0,0,1,3,3,3,0,3,3,1,2,1,1,1,1,1,1,1,1,1,1,1,0,1,1,1,1,1,1,1,2,1,1,1,0,0,0,2,3,3,3,3,3,3,3,3,3,0,3,2,0,2,1,3,1,2,2,3,1,1,1,3,0,2,1,0,0,1,0,0,0,2,3,3,3,2,0,1,3,0,0,3,0,3,3,3,3,0,0,3,3,0,3,3,2,3,2,3,3,3,0,3,3,3,3,3,3,3,3,3,0,3,0,3,3,3,3,2,3,0,1,1,0,2,0,3,3,3,3,2,3,2,3,1,2,1,3,1,2,3,2,2,3,2,2,0,3,0,3,3,2,3,2,1,2,2,2,3,2,2,2,2,2,2,2,2,3,2,2,2,2,3,0,2,2,0,3,0,3,3,0,3,3,2,3,3,3,0,3,2,3,3,2,3,3,1,0,2,0,0,2,2,0,3,3,3,1,2,2,2,3,3,3,3,0,0,2,1,0,3,0,3,2,2,3,3,2,0,3,3,3,3,2,3,2,3,3,2,3,2,2,3,0,0,0,3,0,2,1,3,3,3,3,0,3,0,2,2,3,3,3,0,2,2,2,0,2,2,2,2,1,3,2,1,1,2,2,3,2,3,1,2,2,1,3,0,0,2,3,2,2,0,1,2,2,3,0,3,2,0,1,2,3,2,3,0,2,3,0,0,1,1,1,1,0,1,3,2,3,3,2,0,3,0,2,1,0,3,2,3,3,0,2,2,0,0,3,2,3,3,3,2,3,2,3,2,3,2,2,3,3,3,2,2,2,3,2,1,2,1,0,0,1,2,2,0,3,1,2,0,3,2,2,0,1,0,2,3,2,3,3,3,3,3,0,0,1,1,3,3,1,2,3,2,1,2,2,0,0,0,0,2,3,0,3,2,2,1,2,1,1,2,2,2,3,2,2,3,0,0,1,3,2,2,3,2,0,1,3,2,3,3,0,0,0,0,0,0,2,3,0,0,3,0,3,0,0,3,3,3,0,2,3,3,3,2,1,3,2,3,2,1,1,3,1,1,0,2,2,3,2,3,2,0,2,0,1,1,0,3,2,3,3,1,2,0,3,2,2,2,3,2,3,1,3,3,2,2,0,3,3,3,3,2,2,3,2,3,2,3,3,2,0,2,2,3,1,1,2,2,3,3,2,2,2,2,2,3,2,2,0,3,2,2,1,1,1,0,3,2,2,3,3,1,0,2,2,1,1,3,3,3,2,3,1,2,1,1,1,2,2,2,3,3,0,0,2,3,2,2,2,3,2,2,2,3,3,2,2,0,0,0,3,3,0,3,2,2,2,3,3,2,2,2,2,2,3,3,2,0,1,0,0,2,1,0,0,1,3,2,2,2,3,2,2,3,3,3,3,3,2,0,2,1,1,0,0,0,1,2,0,0,3,0,3,3,3,1,0,3,1,2,2,0,2,2,3,2,3,2,2,2,3,0,0,0,1,1,1,1,0,3,3,1,3,3,3,2,3,1,1,0,3,3,3,3,3,1,1,1,1,1,1,1,0,0,0,3,0,0,0,0,3,2,1,3,3,3,3,3,0,3,1,1,1,1,2,0,0,0,2,2,3,3,1,2,1,0,0,3,2,2,2,2,2,0,0,1,0,3,3,1,3,0,0,3,0,3,0,2,1,3,0,2,2,3,0,3,3,3,0,2,2,3,2,2,3,2,2,3,2,0,2,3,3,2,2,3,1,2,0,3,2,2,2,0,0,0,3,2,2,2,2,0,2,3,2,3,3,0,0,1,0,2,0,0,3,1,2,3,0,2,0,3,0,0,1,1,1,3,2,3,0,0,3,3,1,1,1,1,2,1,1,2,3,2,2,3,1,0,1,2,1,2,1,1,0,2,0,2,1,1,1,1,2,1,0,3,3,2,1,3,2,3,2,2,2,3,2,2,3,2,2,3,3,3,3,2,0,3,1,1,1,1,2,1,3,2,0,3,3,2,2,1,0,3,0,0,2,2,2,2,2,2,2,2,2,2,2,3,3,2,0,1,2,0,3,0,0,0,3,0,0,0,0,0,1,0,0,0,0,0,0,2,1,0,0,0,0,0,3,2,0,1,0,0,0,0,0,0,2,1,3,0,3,3,3,0,3,0,2,3,3,3,3,3,0,0,3,0,3,0,2,2,0,2,2,3,0,3,0,3,3,0,1,3,3,0,3,1,3,0,0,0,3,1,1,1,0,0,1,1,2,3,3,3,3,1,1,0,3,3,1,3,0,2,2,1,3,3,3,1,3,2,0,3,3,3,0,2,3,3,3,0,3,3,3,2,3,3,3,3,0,1,2,0,2,3,3,0,2,1,0,2,2,0,2,0,3,2,0,3,0,0,2,0,0,0,3,0,2,2,2,0,0,3,1,0,1,0,3,1,0,3,0,2,3,2,2,0,1,2,0,3,2,0,0,2,3,0,2,0,3,0,0,0,3,3,2,3,2,2,0,1,0,2,1,0,3,3,3,3,2,2,2,2,2,2,2,2,2,3,2,3,0,0,3,2,0,0,3,3,3,0,2,2,2,2,2,3,1,3,2,3,2,3,0,3,3,3,3,3,3,3,2,1,1,0,1,2,2,0,3,0,1,2,2,3,0,2,1,3,2,2,3,3,3,3,1,2,3,2,2,2,2,3,3,2,3,3,3,3,1,1,3,1,2,3,3,2,3,3,3,1,2,3,1,3,0,0,0,0,3,1,3,0,0,3,1,0,0,0,0,3,3,0,3,1,2,3,3,2,3,3,1,0,3,0,0,3,0,0,3,0,0,0,3,0,3,3,0,0,0,3,2,0,2,2,3,1,0,0,0,2,2,3,0,3,2,2,0,1,3,1,3,1,0,2,3,2,0,3,3,3,1,0,0,2,2,3,0,2,2,3,0,1,1,2,3,3,0,0,2,2,2,3,2,1,1,0,3,3,0,2,3,1,3,2,2,2,3,0,0,3,3,0,3,2,3,2,3,2,3,0,2,3,1,2,3,3,3,3,2,2,2,0,3,2,2,2,2,1,1,2,3,1,2,1,0,2,3,3,2,3,2,2,0,2,3,2,3,2,1,1,1,2,1,3,3,1,2,2,2,2,2,2,2,2,3,0,0,3,3,1,3,2,3,2,2,3,2,0,0,0,3,0,0,3,0,0,2,2,3,3,3,2,1,0,3,0,3,3,2,0,3,3,2,3,1,3,3,2,3,2,3,0,3,3,3,2,3,2,0,1,3,2,3,3,1,1,2,1,1,0,1,1,1,2,1,2,2,2,1,1,0,0,1,3,3,3,3,3,0,3,0,0,1,1,2,3,2,3,3,2,0,3,0,0,2,3,3,1,0,3,3,3,0,2,3,0,0,2,3,3,0,2,3,3,3,3,3,0,1,0,2,1,0,3,2,2,2,0,3,2,0,3,3,3,3,3,2,2,0,1,3,1,1,1,1,1,0,2,0,3,3,0,3,3,1,3,3,3,2,3,2,3,3,3,0,3,3,0,3,2,3,3,3,3,3,3,0,3,3,0,3,3,1,2,0,3,2,0,2,2,1,3,3,2,2,2,2,1,2,2,3,1,1,2,3,2,3,2,2,2,1,3,0,0,0,2,2,2,2,2,2,2,2,2,2,2,2,2,2,2,0,2,3,0,0,2,2,2,0,0,3,0,2,3,0,2,2,3,3,0,3,3,0,3,3,2,2,2,3,2,3,3,0,1,1,2,2,3,3,3,3,0,3,3,0,1,0,2,0,3,3,3,3,2,3,3,3,2,3,1,2,3,3,2,2,0,2,3,0,0,3,3,3,3,3,3,3,3,2,3,3,3,0,1,3,2,3,0,3,0,3,2,2,3,2,3,2,3,3,3,3,2,2,2,2,3,3,2,3,2,3,3,0,2,3,2,0,3,3,0,1,3,1,3,0,0,3,3,3,2,0,0,0,0,2,2,0,1,1,2,2,0,0,0,2,2,1,1,3,2,0,0,1,2,2,3,1,0,3,2,3,3,3,3,3,3,3,3,3,3,0,0,3,3,0,3,3,2,3,3,0,1,0,3,3,3,0,1,3,1,0,3,2,0,3,3,3,3,3,3,2,3,2,3,3,0,1,3,0,0,3,0,3,3,1,1,1,0,2,3,3,3,2,2,0,2,1,3,2,0,2,0,1,1,3,3,3,3,3,3,3,2,0,0,2,0,2,2,2,2,2,2,1,0,3,2,3,0,2,0,0,3,0,3,2,3,0,3,3,0,0,3,3,3,0,0,0,3,0,0,1,1,1,3,1,3,0,3,3,3,0,3,3,2,3,0,2,2,2,3,0,3,2,3,0,3,3,2,1,0,1,2,1,1,1,2,3,0,3,2,2,3,2,3,3,1,3,3,2,3,2,0,3,0,0,0,0,3,3,0,0,3,0,2,0,3,2,2,2,1,3,2,1,0,0,1,1,1,3,2,2,0,0,0,2,0,2,2,3,3,3,2,3,0,2,1,3,3,2,2,0,3,2,3,2,2,0,0,2,0,2,3,1,0,3,2,2,3,2,2,2,2,3,0,3,0,1,2,2,3,0,0,3,2,1,1,2,3,2,1,0,2,2,2,3,3,2,0,0,3,0,0,1,0,0,0,0,0,3,3,3,3,0,0,0,2,0,0,2,2,2,3,2,2,2,2,3,3,3,3,3,3,2,3,3,3,3,3,3,3,3,0,0,3,2,0,1,2,2,3,0,3,2,0,1,0,0,3,0,0,0,0,0,0,2,3,3,3,2,3,2,3,3,3,3,2,3,3,3,3,3,3,2,3,2,3,0,0,2,3,3,3,0,0,0,0,0,3,3,3,3,3,0,1,3,2,0,0,0,0,0,2,0,3,2,0,1,0,0,3,3,0,0,3,3,3,2,2,2,3,2,3,3,3,3,2,3,3,3,2,2,3,3,2,2,2,1,1,1,2,3,0,0,3,3,3,1,2,2,3,3,2,0,0,0,3,3,3,0,2,2,3,3,3,2,2,0,0,3,0,2,2,0,3,3,3,3,0,1,2,3,1,0,2,3,3,2,2,2,0,0,0,1,0,0,2,0,0,0,1,0,0,3,0,0,0,0,0,1,0,0,1,3,3,3,3,3,2,2,1,2,1,0,3,0,2,2,3,0,1,0,3,0,1,3,1,2,2,2,0,3,3,3,3,0,3,0,3,0,0,1,1,1,1,2,2,0,2,3,0,1,1,2,2,3,3,3,3,0,2,3,0,1,0,1,1,0,2,3,3,3,2,3,3,3,3,3,0,3],\"coloraxis\":\"coloraxis\",\"symbol\":\"circle\"},\"mode\":\"markers\",\"name\":\"\",\"showlegend\":false,\"x\":[5.910268108221802,2.7870931528085965,-0.7575375383744641,1.0205214866168157,0.753910514279142,1.7971062652419436,-0.46204960544893636,-1.3116722595637267,0.5984179553898571,0.5982012013950387,-1.1656525385277154,-0.07118124655695991,-2.1717115858284024,3.6732966630297708,0.832785588982603,0.0014059392111349608,-0.9273057420077755,0.6796203745139368,-1.4878005371777183,-0.25016976307256605,0.9541894103960766,0.8894938464845352,-0.9349244756981563,2.4352422167029126,-0.57940968480787,-1.6872704870086688,-1.0665290759030295,3.743308758581934,-2.1543016574456955,-1.0808503055522525,-0.954963264521894,-3.235872651592803,-1.711975534173558,-0.4336563737020198,-0.6062336832001026,-0.9441629326199643,-0.21897352791236982,-1.5617667209055155,-1.3458348880477147,-0.6937048482628616,-1.6190405446647,-1.533327685835035,-1.6988335792571174,-1.8093965083506103,1.0018621405554728,-1.5505557919539068,-2.616201799535105,-0.7218561265706738,-0.9358284356998546,-2.321719004377391,-2.1698597717064207,-0.11704076484140127,-0.17798254163413843,-1.3770978627884978,-1.2775706484489118,-1.668908222933661,-1.4330066722916894,-0.8812940272849344,-1.933727851085025,-0.991956176952392,-0.8554408012501137,-0.45004862859253486,-1.0642892702634439,3.462606271585079,0.6998427652454098,1.0246979229312394,-0.853551391960864,0.650479260929853,-0.47748776932747067,3.6547368585169053,-0.5680284493815142,1.2275685578826758,6.308184544302046,3.3947572178066747,4.909954292792236,4.521497311111671,3.436840226679442,1.7065111212663067,-1.9949213104070929,2.8835226719022264,-0.049240415763695214,4.251881907817702,1.5205339090003154,2.757827476352554,3.8188688418188868,0.5222233385124372,0.6640664570007114,-1.8377265384972319,4.307369932725613,-0.9793272008623104,-1.7532546732907164,-2.255179190561469,-2.2904415664218307,-0.28007894163165387,0.22291185347269354,-1.5101821955287538,-0.6192845089796346,-0.07420986987072407,1.6728243374303768,-1.943353014657051,1.0149766128732853,2.7195576686454244,0.9057166961074982,-0.21837300691801126,-0.2625665565621549,0.8449080453819631,2.8327794759317677,1.4614957709996284,-1.5842602988284025,-1.8856176787118508,-2.3938664259095863,-0.008422928392726091,-3.078642085622773,-1.6438199733026309,-2.0393729844155724,-0.9968674357840726,-1.9809887425444197,-1.973609970676475,-0.21426030082171013,-2.320158888094008,0.6288114935083476,5.262718544641119,-0.1216653640882381,-1.0121054754613963,0.03526096300568474,3.4926105143427897,-1.2753710449014175,0.328264688136683,-1.695178911986083,3.728617793312957,-0.6107015592017124,-1.903289326084942,-1.8874273931826755,-1.478758810347129,-1.687927343644113,-2.160665941591212,4.65808820750692,0.6998427652454098,-1.8094474553131537,0.6443884999442749,-2.8182814169138877,0.6443884999442749,-1.4716926838801558,1.878175301629752,-1.133843484776815,-0.7702516670886769,-0.5221138504004783,-0.9270989547196362,0.59313789348218,-1.384325162668835,5.271177784407821,-0.9642170705834145,3.754319584280467,2.9926527080734315,4.167831601809076,-0.3896280793317459,-1.6424751435576148,-1.1675433931298078,-1.738152496930646,-1.938338440805135,-1.675752945490251,-1.1873372651487162,-0.3541927469754768,-1.9748930162104514,-1.4332166640427928,-1.859962127993921,-1.6285081252103317,-1.261627542204429,-1.2397362810749408,0.18868288124372742,-1.2018029791688296,0.07754390698956957,-0.43606997058020874,-1.2727953385235422,-1.0274090397486308,-1.8617821657705744,-0.8788683358223199,-2.6221998744781327,-1.6576596345415076,4.075563099476097,4.894322340584223,4.158854712674679,0.3441558565252692,3.252965531703462,-2.014666324606976,0.19335161691421332,0.5398747178532833,4.407656001383201,2.359553565217616,-1.0134812826832027,-1.4775598253498061,1.7516550987332933,-1.9813204401207754,-1.592114847773862,-1.8603543986322122,-1.6438683942628747,4.743511527342344,2.164611199122907,1.9271058748133256,0.24867553257171046,0.2640495888153446,-3.1062145776446393,1.0069292318079592,0.7363487998666417,0.013770393933028764,-0.9862592055897743,-0.010758925244005997,5.381249937095061,3.031134078256739,2.1219579799750283,5.3768250548850185,-1.8715344938197171,-0.8257044500186868,-1.8050999520940791,-1.596574706317141,-1.3903620518490438,2.381784988233928,0.3267105421940255,1.1855448365432073,2.23079523330735,0.18273407852012574,4.81981338611359,-1.8931190472758406,1.0877277036361277,1.239002854832121,2.3940366677464056,2.576594196723722,3.7581250644676363,3.603387921723094,3.0892966317647037,-0.2978414883711011,4.138457045658255,2.6839649557379297,0.9951124914788201,-1.6409269228190297,-0.10733653159368232,-1.7242942774158059,-2.2972037194660833,-2.1511737708624032,-1.5759181415763408,-1.3487051914956152,-2.026548482080459,-2.1206904747689896,-1.9307654535976817,-0.9234066530601979,-1.2516471860681753,-1.9113516620063327,0.7812550919890983,-0.5237497338668542,1.5258122967139596,-1.4815229037775166,-0.8608015003990191,2.066445088869665,-0.39181100273553854,-0.8627420859305035,-1.7244851503949108,-2.4519764221514806,-2.4519764221514806,4.9110940863506665,2.1284228776298386,-2.026227680053005,-1.7259688400927669,-1.7612462995881777,-0.3294248445373817,-0.7167812722224325,2.3599126557972525,-0.41095162447510636,-2.07249906783173,0.4941512548817781,0.39473675784610546,0.5011147455994418,-0.15019477310741192,2.264366565829925,-1.3540154536804467,-1.4700532554453174,-0.39148658961174904,2.928686830844198,1.5627344941817922,-1.8046533953228472,4.421919934708999,1.666634125245815,-0.863006946866109,-1.8240161816083953,6.20232983245355,2.700729757114222,-1.9219988731601125,-3.885335156982537,-0.32373523372279106,-1.4830437992216359,-0.6661581305866559,-0.8975313027897467,-0.2715001095859877,-2.0260074964118413,0.03066854822532714,-0.6661581305866559,1.6679376175634033,-0.9628431990032473,0.05229047058608193,1.4342428370670814,-0.07440927214208883,0.3161956897243026,-1.6854348307187532,-1.378373549821596,-0.5302811239602093,-1.9482834157370148,0.4376816653802432,0.46116511270964866,-0.6169217471719339,-1.1400256377059381,1.2533220435925618,-1.80650114236213,-2.105897560651468,0.583415689351992,0.6150431813346551,0.8314068380244767,-1.1677498330947191,-1.879745158025086,-1.5737313828666788,-1.7148709729100602,-1.2187163240425554,-0.9081075934919388,-2.4076385061986567,-2.631247737130893,1.5673168136376292,1.2606761374764386,-1.273136278441534,-1.9933897451720628,6.0783925683313464,6.20232983245355,1.8806471974661003,0.48550384897295157,3.7247868746474664,4.999022851023018,-0.6507019188068323,2.831754032108111,5.157224121091323,3.819290274650811,-1.8812815325483476,-1.0170415780895796,-2.343114277873314,-0.061394194594862096,1.1244973226335095,-1.0170415780895796,1.5499874451851443,-0.23880439879089074,-2.054894883326249,-1.4608536919332904,-1.2511268482027649,-1.432623136909021,-0.8322050040893016,-1.0170415780895796,-1.4771002595731537,-2.628606599334162,-0.2103525565903909,3.7220411064919325,-0.6601937727661522,-0.08898081277070499,-1.3796424287630304,0.8934594009314084,-0.6029963198787508,-0.7120551860400116,-0.7769839379468488,-0.6805758573158139,-0.242798449014036,-1.9562315383510163,4.118042026063586,5.713741031844159,-0.7417411626392655,4.424095099147776,2.327318240629538,0.017763471206449978,0.30149399308499825,0.9650215283895117,0.022468392622498827,-1.219965045969142,0.3417751159053111,-0.5378912868672485,0.8644678960471954,4.004696577326855,4.008320181774838,1.3829663131262582,-2.0574297891427635,1.3094774137593308,-1.2244223547667648,3.3013877478747755,-1.1107604184765902,0.5360702750732713,-0.24744053697254703,-1.9441899850782944,-2.133057653760354,-1.0891187918604015,-1.8302469752259647,-0.15516416449343925,-0.9951653539849209,-1.3596060537015464,-0.6110809564064194,-2.5498154982660934,-0.6067753052647109,-0.728887274846931,-0.6427561202341464,-0.8384661829154169,7.04816053419886,3.086299510078864,1.6499160539143822,0.5039626516959583,-0.7628234779254303,1.909886143097406,-0.738155470358415,-1.210505037533961,-1.6165006411449971,2.9152852845241646,0.7875315395435419,-1.4713066508652934,3.840536654487978,0.818010580992292,-1.5363920461225518,1.50170102487538,-0.8269573928584228,-1.23655379848635,-1.1213910396496647,0.35325357571309335,4.156988672470463,4.181143915852829,5.874241617946341,0.7726737970500185,-1.2384651584229955,0.17391144426442498,-0.2910191568213265,-1.3643289196729789,-1.0013576229512058,2.8143610849320853,1.0152267748235688,-0.8997096472317083,-1.8161225830951817,-0.40691985636643163,-0.6222506022041562,0.9298554236724567,-0.03115887481414341,-1.8953253854100007,-2.0864594737726585,-1.033074036500284,-1.648478835334427,-0.07688967377256144,-0.9626729037514549,-2.0140350530214666,-1.3293413005641412,2.960200102558327,0.3366612973343735,-1.7136150221763615,-1.4322797629514945,-0.9929724146692345,0.3710468481112412,2.63871340596696,-0.02807780164998003,-1.667664865504654,-0.6079060289417972,0.02237747438215913,0.9645203776907145,1.2387761280336025,0.3211546567581569,0.39931016340159836,1.4480493860298338,2.2798976418949346,-0.22663402010361813,0.25316511117440227,-0.21480126217786152,-2.462853233747324,1.3697801765357989,1.7508953452310552,1.3863298495833425,-1.253873710145024,5.1330501699713285,3.526515125883701,6.346033202222227,-0.6161373499207317,-2.3748289472525195,2.2533078147803627,0.8167571253489763,3.653765378813389,-1.8047421918261302,-1.8627951125034812,-0.9242152643491612,0.7066524688936519,4.942598053975869,1.1252336127832716,4.795289250255229,2.4635678490115005,-0.09446247231001624,4.247306482872685,0.2490357613668702,-0.11019294017436494,-1.8060319312706892,-1.4690797127486261,-0.0254259463609665,0.33700374221790025,-1.0272113725970846,-1.1806601610443492,-0.08462383414741177,-1.2131974145350373,-1.5289774319052667,-1.3378086857797182,0.9015460755941905,0.34704130353341217,-1.839103081430008,-1.2105926310370008,-1.3843046322401935,-1.174552389188109,-0.8900534710795271,-1.779252591807676,-1.762901531375015,-0.22626369877920652,-1.3596743740108523,-1.4373298042223683,-1.0505476390009736,-1.2326907154182076,1.3565283499092398,-0.3174215584679029,-0.8073456954282056,0.6294753135461075,-2.0174373591629946,-0.11454795107118991,-0.5797367236830112,-1.8188905101656418,-0.21705098951570048,4.529430260517018,0.3331897153750474,0.9708797436014693,-0.17127054263204242,-0.7941852500264395,0.1589213249972658,-1.1876432241511579,-0.6402858806840847,0.875083845709644,3.608731581729161,5.022988638057471,5.805832447701812,-2.4845855869545885,-0.06723872685756589,-1.81994568028682,-0.16463751050254696,-0.9373426065815239,3.695987464448697,-0.1149906354931043,-0.3119119497426376,3.608731581729161,2.962821117328598,1.9745255543280635,-1.8693347569376908,3.9265835294224676,0.851465596997388,0.25165487338246145,1.506903795247654,0.8765073635953352,-0.8493286256975382,-2.7670422182850563,-1.942678236171652,-1.9404583741889674,-2.3277141531057524,-0.4893008855169196,-1.244808553462056,-1.468188796976153,-0.41977050789702125,-1.1794041820554684,-0.7316519448921259,-1.9934477924940708,2.6589574687484165,-1.8424902425655325,-1.9752037541359402,0.49738213453453733,2.8030142480459297,0.8898853897758189,-1.6997216230484258,-1.118965770026397,-2.2297276153308543,-0.7369155743144529,-2.88605797276724,-0.047731207982746396,-1.2455077589325845,1.5812933821637336,0.3862402573486091,-1.3826420603119796,-2.4775829776870513,1.1497627661579248,-1.0859697564578683,0.6207099620941161,-0.07313623450419085,0.002695886147723425,2.1700272297685474,0.3671862771709773,-0.9314426872002073,2.3532485455974825,-1.0597890934720628,-2.276109855694127,-0.703178091386713,-0.2926633824128881,1.0280402330301823,-1.16482213767772,0.4511604577525464,-0.5491172599185639,-0.6751459147216378,0.29979688154291034,2.683412912626815,0.5984074638508641,-0.54988790580049,1.5305789710549687,1.6719273733102398,2.365034188094587,0.5073760258805255,-1.3539098259275273,0.5151319213344536,1.0608289232294796,0.5729789672192854,-0.7152407495550099,-0.0431781929522114,1.621725874645386,0.367515856840452,-0.7640261804664338,-0.5419837729171585,1.015600427668295,-1.010490103971869,0.3474543065382498,-0.28074619404286955,3.187703134852317,-0.5452603790317774,-1.6326205624300465,-1.181568236061592,0.4831617885888119,-0.46624827532572455,-0.6461748391001956,4.245475571774246,-0.1703279404176011,3.4798674918083137,3.8409758809403707,4.963938781947003,4.408080150824802,4.1394962969338644,4.031285308102275,3.9363214242193965,4.187078489713528,4.917808163601022,4.959531607032034,5.491363812178904,1.5324624690552506,3.7860049701944334,4.224405197605614,3.8134457247031825,4.269047290947432,5.355886276386327,5.63452531725032,5.1313660242134755,1.5778734844665685,3.6283998048062998,3.3748679584004284,3.1366409364731798,1.5464616640991649,1.7734555001668146,-0.573698138408345,-1.3474769379185065,-1.4095676969430255,-1.7902349574504646,-0.9599392716314974,-2.3378502090707274,-1.921923256338632,-1.4554683365959475,-1.9072262876723378,-0.6716795002770629,-2.0046562231551013,0.3251566625513807,-1.1523860720717645,-1.4557044571067244,0.1805907136268421,-1.9079350595148394,3.5236590611379066,-2.049118693479206,3.6180834062291516,-1.737484514657711,-1.4392948516572364,-1.5714083380161565,6.308184544302046,5.008294840003467,5.403265664257093,-1.4853710029965548,0.33114376729517725,-0.46419951317278074,2.793778628069707,2.229327145953379,1.389333400921568,4.269223510110596,2.1474447251427837,0.762968616376857,0.531388064953959,-1.1115207404332899,-1.8204209333872419,-2.1921376455691473,-1.6730626775637123,-0.5625611286937755,0.45191804574874006,1.919573857543195,-0.8702170708257277,1.0741748437685992,-0.227181365695979,-0.8526204872249918,0.43098339581021944,-1.5594414900234004,-1.7883857649490373,-1.2843690828034708,-0.3289293614603022,1.0518143755809581,0.5340816012176933,-1.1097151949345359,-1.9685741228713425,1.3526971314440261,-1.108095159093284,-1.108095159093284,-0.786258132344948,-2.1866569882184588,-0.7966028054395348,-1.8418411545862143,-0.7800250543797587,-2.4784838201281776,0.25976035564036404,-1.3550297693817044,-1.617755799327203,-1.8260772103567122,-2.304690502949197,-1.723555396848578,-1.376194964792646,-1.021875743285251,-1.7791379054828058,-2.656622572909875,1.029114625510054,-3.094666351260063,0.2724699225082944,-1.7900071853916164,-2.479383087771243,-1.8871690235505925,-2.6430738121785367,-0.3573801366614918,-2.567193649556244,1.379483512866361,4.525123553936601,4.716885186699747,2.595025591971072,-1.1366165372990897,1.9842254319975148,-2.428139142503912,-1.3561754011404556,-1.6507557002712347,-0.991677368829773,-1.4614838432330983,-2.1097261247542556,-0.5491172599185639,-1.985274255033779,4.386572613899497,-1.1101722919442198,3.377600294793803,-2.4344247833985975,3.593493867103376,-0.4964313208292123,-2.442010816809562,1.039396772835218,0.02417263635028346,-2.5360436014647667,-1.4224961761214596,0.02417263635028346,-0.2612995615269709,-0.9108428135470141,2.0940424856091564,-2.5645649137076543,-1.23862218531499,-0.3084219235875954,-1.5155895125722447,-2.031298614678038,3.8631048897343323,-0.10838299594407616,-0.602255264416073,0.5177509655213377,-1.709069723149362,-0.2761452223050102,-0.7551372548019907,-1.376306476042357,-0.5312260392016573,0.2371719517248246,-0.30260817294211984,-0.5065280021147445,-1.2055895512885533,-0.8204348260187276,0.2660650637100638,-0.29884421461537475,-0.8728012554034769,-1.7175667292646402,-1.5155528888804224,0.8864093485671756,-1.676646874745968,-0.46943459661423326,0.8710775895722576,-0.8644705676615123,-0.7144561741353855,-0.4406885569491485,-2.790270900922429,2.8904146176546694,-1.1507276718314714,-0.8031773216691,-1.9473824019540245,-2.162963617094737,-1.472365498550098,-2.689312140284418,0.9240011933509127,-1.7474528809598429,-0.14576653368649606,-1.898358690244529,-2.669347847935737,-0.5221693744493322,-1.4548434949416966,-1.0283096381666232,2.3622397711804504,0.543639586281367,-1.8689304368530797,1.1710036212559023,0.6999040042938864,-1.7044471429551544,-0.592054699002687,0.44986497282074156,-0.32957451480891503,-1.6376693914418616,-1.4572609901665476,2.4660708696178206,-1.2095953675949749,0.5254555899481621,0.07547147484810907,-1.5847134393643685,-2.9080619282235425,-1.1765084408048716,-1.9119343526634283,0.935603682929055,-0.3608660025696732,0.9679635861196809,4.6998166753688375,-0.47233140556173386,-2.005630532214277,1.5727472398500448,-0.946408931833472,1.4686267276229221,0.5011147455994418,-1.3537495043623873,-1.843412047612339,-0.6537657414667487,0.8902655962892349,-2.816259125058931,-1.2235095886351686,-1.5127849605175305,-0.9684779368006287,1.1487058582651968,-1.0984469249325663,0.5022377972137845,-1.4812543999862995,-0.543566534160995,-1.2909649366086218,-2.1628333074786092,-0.8354743294354067,-0.03314856246124696,-2.01492656924932,1.7960332420843474,0.7846163460118225,0.3211437615970804,-2.190137139222609,2.5971373640646997,-1.6127967117375037,3.026053028947752,-2.0657056457669625,-1.5210993374175876,-0.9258655178346515,-2.0743795323201732,0.7511849781136244,-1.716483360522905,1.319945573060843,-0.2996749088548953,-1.060159278317094,-1.5793861632167498,-1.692465651475793,-3.1331777327955406,-0.037246232862971435,-0.08421121464129942,-0.7467746719958056,-0.16470824566879175,1.4022482201741084,0.4677989764236734,-1.3373216840889643,0.08110278845448683,-1.3779265458413688,5.031107844903644,-1.8983922147789338,0.5995552083481104,3.5252046394474563,2.2683191496362336,0.9096299592015593,-1.0264189143478968,-1.0690904627080786,0.6556631320797386,-2.023769019412259,2.195920999905061,-1.9202674340983548,0.6521268829335811,5.262718544641119,-0.6974112188432164,0.7820338260369194,-0.20904323278860948,0.6998427652454098,-2.0224335239758724,0.4712071639952837,-1.2604802866831246,1.8271454550885446,6.0833183286093115,-0.8508696332442778,-2.0825048372647568,-2.224336625502373,1.4014298850676408,-2.722829529958681,-1.6085417664418022,1.6013054390496693,3.3170485154906753,-0.8936287712527982,-1.04595397270904,-0.7263218841932996,-2.943648169892282,0.06221403756445236,-1.166386556396755,-0.51324835628549,0.652517874046072,2.213623428481489,4.157689233042857,3.9952644486572755,3.74414413434359,3.334036129265216,-0.6706922862361612,3.7210836024692715,-0.722019915077442,-1.5037488884709551,-1.8208063443174318,-1.3092499530556863,-0.5828274996029211,1.8767430181001143,-2.3135721971896452,0.7099128201293106,-0.7812682277707911,3.394927981868262,0.9032880273730487,-1.5365804542172723,-1.6283452043117534,-1.7022684814942104,-2.435285435228312,2.018654282616747,-0.31661555156393434,-0.8941954290264565,1.104760978472736,-0.19612740703368478,-1.3280200419065076,-1.8704463127127657,-0.7325588346573656,-2.4322104556325077,-1.0631051517428245,-0.9018458559798219,-0.5690495861384959,-1.7303866732825885,-2.100771809255367,0.1206240525104175,-1.5280973319537652,-1.9108022973619911,-0.21031089609908807,-1.7943548127338866,-1.5361213058279382,-2.216000136727968,-1.4955985695299725,-2.550058975169802,-1.098226216720645,-1.239327734038692,-0.8577092210584598,3.660395664513197,-2.660151441663604,4.225043041397308,0.4150807814857086,1.1880597387996008,2.753189107588194,-0.29049845972908866,0.5136929486352008,1.879218880668545,-1.665774549979445,4.166293634806012,-0.5221693744493322,1.0434337104662186,-1.8730996534974442,0.8500285353730032,-0.33185038438281456,0.27442997513218736,3.4812762404541298,2.3317755006466876,-0.07084590733890399,-1.20928374340631,-1.3631427295039154,-2.4502227813858064,-2.0884769934788587,-1.8057549808143702,-3.399583731082443,-1.69982258913753,1.5209018222443886,0.7646308800896892,4.478609512834526,2.4661133198039726,-2.2354904599284433,-0.8246614851720236,3.4324506450763277,-0.48823623226826807,-2.0813223551309634,0.14989400405551928,1.8973889528910968,-0.13683775308019483,0.45025923423541886,2.0957686662777864,0.9153914685653907,0.5857264273779645,2.2333595333061385,-3.0450765877715438,-2.329150871431178,0.45432202704512503,-1.630120735089728,-1.4143229884606339,0.244354568700283,3.210799648564412,-0.9304532954544277,5.1500357539848505,5.004281707388853,-1.3148675759101836,-0.7597385878813305,-1.6628375487419667,-1.890230329783115,-1.5328467352522683,-1.2536233695640076,-1.230235225523596,0.10461162581345558,0.5222047642496481,4.431045401922306,-1.1896884868417064,0.3826515107286249,-0.7773625634585372,-1.495295918987517,1.6675267223984012,1.4852428780681362,4.356729544123442,-0.9108592533331858,0.18164272293418693,-1.8732582454237798,-1.6946786996734702,0.43583143175887495,0.4879910198583233,2.765858150220444,1.95408766817973,-0.17613599599091678,0.42279312293853244,-1.611735936982191,-1.0419915528465544,-0.12021237473150627,-0.1114023380185065,-0.3443427862674367,0.6672750904822239,-1.2131974145350373,2.5136903101093657,1.1845545043666192,-1.7553890311473135,-0.6992418306210522,-1.0580195579562393,2.311940378611575,-0.13688948178293062,-0.8741749815567246,-0.930442208823629,-0.9840382097343738,-1.3564305630785594,3.39662872879295,-1.768816066207472,0.2532494653975696,-0.5625432966733263,0.13894980838009433,2.9951823246963127,2.3219296947796306,-1.4964895263633484,3.274369314931621,5.335536638163785,1.1970948667173489,-0.9325106706495218,-1.0348098358027797,-2.0251481991515763,1.0657747825801056,-0.38574105649317164,-0.6253799907794826,1.547990068286159,-0.9325106706495218,1.181020052840215,3.6809276424008903,3.7570147332726576,0.012415187357943395,-3.030569719031828,-0.9098410453161855,-1.5191912139342898,-0.9195814288618515,3.8284561838288966,-1.1117133103932149,2.267337362057982,-1.515072130973404,-1.3925033257613082,-1.2995846666732833,-0.1226615150275352,-1.8668753039071249,-1.5018729408205689,-0.5700160017381591,3.039882270510462,-1.8005405433301183,-3.663231559968172,-1.4679455092351457,-1.08006146963036,0.8055109936842504,-2.820267239135905,-3.452971033776212,-1.1110635172556054,-2.791897090464664,-0.6542529218710753,-1.2316328350265473,-1.309238317676978,-0.44699410320141025,-2.114793859435531,-0.8486770478305616,-0.9409778444685298,-1.8320832439959556,-1.4789288509342482,-0.2603117476767195,0.7062856706652374,-0.9472312383775642,-1.8280677033103947,2.8968869857554753,4.20959320166084,-2.754870819905933,-1.545945924038413,-1.8925052109960365,-1.7067784255245109,-1.6774539508660646,-0.4563518583717411,-1.334604345373531,-0.3216295003543689,-1.5006475935961934,-1.4595938170239808,-0.824334154486017,-0.6580875903276747,0.28642701434719314,-1.279613445897851,-0.3704970587555011,-1.2343513887207473,3.996300547145879,3.3395779158555365,5.384016484346953,0.21837706806185864,-2.306768848291025,-0.5021981388206944,-1.0068978534182287,-2.1476944439402628,-2.3968637435576943,2.709606964693458,1.7560435745437548,-0.9443973872998472,-1.139643098815127,3.557863814296518,3.8535198201214174,-0.8855858941782229,-0.9829651653205778,-2.320125421270592,-1.2569492976214978,-1.7231498462043997,5.961074281238084,-0.9304306817837589,3.7923096640832363,2.533893924578385,2.4003469329064786,-1.7878372257776938,-0.23352895324163525,-1.8863702813551426,-3.0007847223145756,-2.0888534256576934,1.0430639994862412,1.4753691607777766,-0.7167812722224325,-1.8241639760866637,-1.0939818264875394,-1.4173759806756026,-0.9227672156589178,-1.1044280464120817,0.0673526847473595,-0.7895365930463443,-0.07072149456798743,-1.851763021318621,-1.8601271467736311,-0.08828355973957538,-0.2554410311634319,1.8793807339843198,0.9116853878805047,0.10012379315177714,-0.6039439779725398,-2.9298175854967075,0.19839714092277558,-0.449186730336042,-0.7937960986538561,-0.6206510300666294,-1.4459240490094973,-2.336906125358006,-1.4633820680402194,-1.2208847510985519,-1.129654620745942,-0.1778733037171463,-0.69607520284339,-1.3678339527436492,-2.344688244689032,-1.599435550174289,-0.6953135901672168,1.6229388520328976,2.7823998445336766,2.285874428736388,2.155550798796949,-0.2647829444104708,2.8276062488980176,0.6100656850450612,1.3174805042783122,2.746800775169635,-2.252375407578722,0.7036343124900798,-0.001183760249146231,-1.4829619080699727,-1.1075232058518318,-0.6971997960267918,-1.956862020873559,-1.1054970278095262,-1.326483193570151,-1.784902560038934,-1.2811371791205044,-2.88605797276724,-1.2418348568152906,-0.15427203546753432,0.5668302283795734,3.163873829531569,5.047031224564759,1.2487075452916359,0.6273736799906419,0.07539853780510467,4.04642335398865,-2.0948414895359453,1.7704705061504278,1.3428053485486438,-0.6281159028604074,2.700757100788001,-2.896459582461674,-0.4890714865795589,-2.415360371635472,3.3505970687397966,0.11785838188577162,-2.0818315040779076,3.383381376861087,-2.0288683703444135,-1.9296895864420223,1.9624352875108135,-0.11473781767402284,-0.8976185323361072,-0.6162589382614433,-1.3398506344220276,-1.8605094581925594,-1.1256165151572646,-1.3471905127214159,-1.6634667301389148,-1.793717221224365,1.7116070792188423,0.6875307868210198,2.3599126557972525,3.4077455863709982,3.4201634173555138,3.170408043356185,4.189709436743145,0.8861883023723545,-1.2041336806401504,-2.4332660384219986,4.3962577292640095,-0.9943458450544889,-1.664078600965618,-0.6530120732992514,-0.7024160963306579,-1.6162721975405994,2.700067123399994,3.1332303142138076,2.6230336450209113,-1.7234064226917925,-2.8800245580393935,-1.8011679111545573,-1.636987104349849,-1.8914809660644956,4.618935780161165,4.050843042184682,4.352663051268991,5.122067061563877,3.906816410033583,3.9866789809149896,2.785223409389509,0.9999800069643603,0.6799719491218102,0.014298306941483386,-3.156152761147991,0.022755347441268815,0.022755347441268815,0.16215521835046479,1.884824936440656,-1.6357883699260116,-1.440536809239621,1.959586255259377,-1.9643963626404668,-1.5973738646502855,-2.0894463149704254,-1.802665818906082,-1.2917710621025642,1.6122957977964258,-1.0597890934720628,4.601631831528847,4.450568176559054,5.210196579660407,5.77739976990329,0.20076562572775863,2.1326120989580457,1.7459968094343283,1.7459968094343283,0.20076562572775863,0.345466843927742,-1.5154226810918991,-1.6922378597241028,4.310681878249162,0.469268947239109,2.324208231380987,0.9381121233998014,1.1841252442734738,-0.37430669765646235,1.0133098935057998,1.0103085340590097,0.7875315203113399,-0.5858043284252908,-2.643227313951729,0.7454678649645955,1.043743896138428,4.839564142521275,2.2896581436047994,-1.302533341046244,-1.3212499387413412,4.033258007856049,-0.9054653279761942,1.4077154542863601,1.8197767618637946,-2.0266801412988698,0.40697399193667555,-0.17898853073046248,0.48476181187359557,0.2637378078660123,1.9490472897705742,-1.261784182150272,0.14921514800553562,-0.21755040086465094,-0.7624724066787733,-0.9387029953969083,0.2794997792688248,-0.7588630483770616,-2.1527959857986363,-1.5357814618078698,0.829015428588906,-0.9817137056298613,0.0007320463538193743,-1.0590701782309837,-0.7529011708788531,-2.517514521755165,-2.3199405171221925,-0.2347149166477501,-0.22120729624415475,-0.681030571993421,-1.3423911334200629,0.932909943322974,-0.3313859860091326,-1.3663419235685057,-1.0192775239661638,-0.5491172599185639,0.053066294991843184,-1.2567107324055808,5.259661506974291,-0.296563430511033,-0.2019259178706999,-2.024602339850487,-1.4443686593542007,-0.975183918236509,0.054527146408119904,1.4523524534217265,0.8192739231873549,0.07698261684037516,-2.4241133476805645,-1.0499396836036339,1.359348166175825,-0.8437018248035694,-0.405438647431204,0.6101227140817006,0.12017397103912081,-1.0084097097668365,1.222997472045643,-1.10316829379947,-1.4083418571679758,2.5756303060219774,-0.1586483454548375,2.9154589235875883,0.014968192928109369,1.408880672599905,0.8082967149746657,0.4464945802762554,-1.2795600059785806,2.827260081154487,-0.42771336379759783,-0.8837451046928392,-0.23093094143364765,-0.5371447045574773,1.3880784370526698,-1.0597890934720628,0.879532444809647,1.4764147298242962,2.765001627237034,5.637075618753224,3.500235764018908,-1.5104184002125949,-1.2334843591545108,-0.7529405029218761,0.08511187324309077,0.3205109851451507,-0.9120762581936719,-0.2785807002941416,3.08843362476748,4.143247777999697,2.3997163163978628,3.1769579298468993,-0.6044283440694063,5.574219688203974,5.33372789664073,-0.1703279404176011,-1.4427210612478678,-1.3399879370214884,-1.3399879370214884,-1.080245898570194,3.9166593931872034,1.133353987991857,3.1319240633605445,-1.3399879370214884,3.135171724665465,0.05296106361417057,3.824228685300257,3.3139603610314206,0.6376433975357709,-1.3678276494516475,1.479594968952716,0.507539811410648,4.025163763893031,3.3976341754496984,3.3025291157013457,2.8311288224741102,0.42987039872092814,2.6526038200999005,1.9894395187425358,-2.4451348377062514,-1.9828992824413243,-2.908813880378371,4.910713009747104,-0.6498036654322957,-1.5303444494937988,-2.715389745415454,-2.068754415796765,-2.2542542997003827,-2.0100526796115545,-2.109909957315346,-2.223632607515601,-2.3132103064829797,-0.9502346814249345,-2.1364027095393254,-1.0065335489460208,-0.5635117535932606,-0.5452437114590941,-2.2698090988609714,-1.2016336137926897,-1.3117714960738538,0.11607867116484699,-1.1573319711835897,2.844261208468641,4.816971047050104,5.3885021378864515,4.9022340214782565,0.17804007974110886,3.1296296239009425,-2.6715653444756344,-1.4732881003033527,1.2109456547170137,-0.6283268472049909,-1.8232159852586614,-2.761626719266498,-0.8038412941572943,3.1296296239009425,1.2775355899569316,-3.4999871537663028,1.3589483043899584,1.738555446280321,-0.225734491187768,-2.274067346388715,-2.7222920271687396,-0.566571472819475,-0.7245547433332944,-1.8992419894110675,-2.8397395979008895,-2.0779173370881687,-0.8771721526876279,-0.4066838677898659,-2.462682444077485,-0.9502346814249345,-0.8848052512508249,-1.4759715630515944,1.0340563390737691,3.926653088228389,1.3504189491626406,0.4022811443833149,-0.788343321756895,2.027965414020065,2.040217954687528,0.897991007385601,-1.370362281983276,2.195947876785934,-0.325715110743896,2.1667905160060243,-0.10849963879625116,0.5555801926793543,2.6855272350918455,2.062971850274052,1.9327789730120886,0.5823874663723921,1.4280076694700536,2.227950207798834,2.014111723724462,-1.7548260472472808,3.145271157736506,1.8851878311394756,0.5461741363291335,2.35639662820332,0.8590333940405677,1.5750036225782391,-1.4254079176047512,0.13229505704734992,1.6585341861753564,2.633080100731386,1.291985896710181,1.5307731412375452,1.8030112846657078,0.0670694267604583,1.8045403505981696,1.3745874347744307,-0.08395614302769205,4.049749172711463,-2.127550029030416,0.5273523375187054,-3.0914737893276936,-0.9291176379098606,-0.40155489571023434,1.198781194173005,-1.4489486989802915,0.42164195837834406,-1.0348098358027797,-0.6337420572126486,-2.1834965098510475,-2.1758672952105025,-2.824356856047123,-1.5657851439064705,2.4888524869873816,1.7069952938522626,-1.769952541362466,2.0944287535894532,-2.538940561074889,1.7757562576013008,-1.367381381578481,-2.321719004377391,-0.07145510003716185,-0.12953515656081985,0.01705652057736749,-1.6918615662065624,0.24788898634041862,-3.3719490056920596,1.8109439725347125,-2.956316710280408,-0.932657651394537,1.5453563721904235,2.0175676302543035,-0.9777384825203529,-1.8088045851480514,-0.19764938933701656,-1.7360045350795774,3.6842201989297236,-0.6847094485509624,-0.2603117476767195,1.5422988888047628,0.5930026646121621,-1.7912959670136794,3.1180214989226323,3.358014491875234,3.509930965088284,-0.19461924016161955,2.480527963790226,4.51777681091401,6.091867137337178,-1.3864258127587967,-1.6590894291934803,-0.8451615089399581,-1.0417192548785017,-2.212632844114007,3.904762418566284,2.35765829715202,0.03992601661587191,-1.1004953247578726,-1.3293394373721148,2.417923441713888,-1.8494158071698894,0.6194589894389148,0.7007141496868083,-0.2213109957661933,4.069805840259911,-1.6915198589429608,-1.6480326701342518,-1.62667572624095,5.07059849010972,-1.2012069430765244,-0.2016148315962885,2.2123779499001266,-2.46492483970089,-1.9249814682117188,-2.4080164096721766,-0.39816065469449086,-1.1481127843950474,-1.2373304643909686,-1.4628181365509456,-2.6429915346372566,1.9533017033003968,-2.119572558061233,-1.0140421857817663,-1.8430894155768578,-0.1743434158047833,-1.807906374375227,-1.077009866773889,-1.4905481769240276,-1.2980784897176671,2.365034188094587,2.8056902680785316,0.4847235106188625,0.8549288236322986,-1.501392214950879,-1.3673565615888006,-1.578662330929086,1.9460913874910197,0.03174403073604841,3.518987096487811,-0.12194207361813178,-0.8643826427197118,-0.3431640158084612,0.14879956982851594,-0.7021345155769464,2.5268907301930454,-1.590742895701246,-0.04081922184563153,0.7899298288307433,-0.9108592533331858,0.5345492960066749,1.711864051424775,0.3291372387869494,1.1931202253106965,1.095868990708862,1.2545681987114257,-1.6454912421714345,0.06998303323160361,-0.6562708849308347,-0.802584484256162,1.0288670632622714,1.550314814959789,0.7522544149888797,-1.359475279504688,3.0180003913879467,1.071295741294713,3.2217287372984575,-0.09309152149855257,-1.2985779973467588,3.218628062553705,2.1326120989580457,-2.3446730016825588,0.4052933124022663,-0.5726023021440048,-0.8831651240421449,0.2864992879018391,-1.160289146827436,0.715849615465707,3.510753435620001,-0.20646597214665507,0.1389363915921852,-1.805818815917159,-1.769051266009556,0.8116576480875326,0.3375246919062724,-0.01039477591061363,-0.8944573785036691,0.2138747361762302,0.23100452434814012,2.0308782271879826,-2.299520470423305,2.464111119546669,2.1192178617213586,0.03900046465196397,-0.653875924082231,-2.508627218880722,0.8123565472634452,-1.5787530557618952,0.21465726009403893,-1.8370165087569896,0.9229565319598536,5.656350818133164,1.2758796109944488,-0.5087977010750417,4.278428722085264,0.6992100078765244,-2.3841364242986853,-1.7777308426945038,-1.7803898860126568,-0.41675396826810807,-1.1894418289754771,-1.3168814365839523,-1.3415980593024461,-1.9057076077566901,-0.9399967293329494,-1.6808685152004792,-1.1904065555534988,-1.4119055620195082,-1.9190223555873616,-1.6818203902001205,-1.435902700417143,-2.011230902479245,0.09121406890156447,0.5055869622129658,-2.399124947771616,-1.4878005371777183,0.09012877718788201,0.3101465274982121,-1.4468211063157423,-1.8879364766330258,-0.4308099759040475,1.9127398992549007,-0.9340739420096681,-0.09245424702742897,-1.0170415780895796,-1.4337106390703658,-1.1513085587600578,-0.3505327260134428,4.8917286124850445,-2.262035465700969,-1.1646239535239478,-1.4194876518446786,-2.1789826747725143,-1.7048467653411066,0.08723516303489688,-1.5513713971895973,-1.1305919329747038,-2.0086014603024753,-1.9719849087291323,-0.7603552441700433,-1.7081845936205502,-1.4526447883764575,1.0936536290838432,4.707297316935381,4.066416551661851,0.8449080453819631,2.0175676302543035,-0.5221029502555894,-1.0819030183511784,0.936360349541087,-1.6901930633720723,-0.06734437755377408,3.1284096100847667,-0.013372924890361881,0.9315488370480717,-1.1078988413689923,0.9836845171357776,-0.6216384167307965,4.176384153224835,-0.8174650647916109,-0.9844049327521096,-1.9340208521383073,-0.9150586306583651,-1.9024375077661249,-1.5991191899978705,-0.3979122673442814,3.189010773438728,-1.3604505665769024,-0.7141034047337278,-1.5914938986038454,-0.2698179011474339,-0.3205716019590926,-0.9748467556979397,-0.6346112423952773,-1.4852467869909072,-0.6488361413093117,-0.6875208972982045,-0.5235210522524474,-1.2997644179330254,-0.3937474251797396,3.492407798994575,2.5763577232711783,-1.2550502056471344,3.8527580670263855,-1.3963654042352835,-1.5970419948490957,-1.6886328758157645,-1.3774550293604098,-1.3690729524620988,-2.0826181995813413,-1.1954018276570268,3.4027511525664975,-1.9587229941745241,-2.646314841291693,2.335312795097438,-2.3458247510817456,1.395742623948653,0.3091765784289811,0.3091765784289811,0.04825874689567994,-1.0823520722647517,3.049088181041764,-2.097576909584194,0.25316511117440227,-0.15427203546753432,-0.41240181977992557,2.8948856676427672,0.99257001768373,-0.10380387445274519,1.8938195243268825,0.9398182903443821,-2.2190070001920614,-0.40289995088326647,0.4855598419464201,-1.6946786996734702,4.45326383337146,-1.7698042251004993,-1.2917710621025642,-1.8456441547473599,0.09262464006245262,-1.8537718049763496,-0.32412406221746143,5.699030304877435,2.381784988233928,-1.5609102360473261,-0.2799174074815644,-0.5542550572699033,-0.6637454999146568,-0.32926983060965304,0.666343546948915,-0.814572054315037,0.6939265197491384,1.4162075885952434,0.5778186477553646,-1.2584741789017175,-0.1877236587907238,-0.8836013757068107,-1.6875506785986965,1.5211340327985503,0.21959081948294853,0.28850205362560943,-1.4926217671802828,-0.21175692447557948,-0.1758102049616342,-0.8875625801717637,-1.2556219866206972,-1.2269361604283768,4.618935780161165,1.3552239026426232,1.933616409353558,0.3436840728473251,-0.56903763994076,-1.8919920103002277,-0.5841890549176639,0.33276996189999614,-1.9175550818936067,-1.2392356281844938,-0.09546520325791774,0.5577786585832484,3.0028015739045224,-0.5753522125886539,4.161022525837936,-1.9988770057703376,3.7468909865289732,2.224478260333408,-2.0601769600585,-0.7651747940113189,-0.8818233752987557,2.200828587032449,-0.5335105742105527,-0.5913765417068707,-0.8686121365386255,3.1269291911696304,1.5727472398500448,1.8241788630931584,0.9487631695800605,-0.7979632686424222,-1.5274385093734075,-0.04031006817489403,-1.4688940844932505,-1.5189484652220908,-0.3336390303841259,-0.287418465325376,1.9173914860919672,4.217793257754893,0.8123565472634452,-2.0268228760359754,-0.9888603025879964,1.3505978175446582,1.3505978175446582,-0.22448253695649184,-1.5599823753878839,-0.9445110188851539,-0.9687374941369981,-1.9473824019540245,3.262619580896011,3.335750201236277,-0.08400104548677043,-1.835301661847436,-1.0147768860330937,0.6805879787852311,-0.928895240498611,-0.9673631567290879,4.168363339147137,-0.8950461905575414,-1.6554978350332146,-0.6736705457075536,-1.569479403445227,-1.6619836307825162,-0.15889958107504287,0.6637508483382953,-0.8307561706234647,-2.283315635946639,0.8752453390642222,-2.427740105884187,-1.4224065981480551,-1.1037662140332816,1.5650671095135895,-1.0895612371376298,-1.1687147925779526,-0.9946974720841747,0.7352426388393161,0.056850559292938106,-2.364909879579425,4.90475113087814,-2.8030403909571473,-2.2525620808187843,-1.8959245730757293,-2.0917516052011518,-2.5083171311632495,-1.0932669094952763,0.2300271283486484,-1.7664024000158316,0.6845546448708257,-0.9024606571237713,-0.47940453613652784,-0.7455458630228238,-0.9013326790547905,-0.7150579071819955,5.521484025398484,4.33078075838172,1.0507517772310704,-1.67348091683272,4.236594177348256,-0.27450214919145755,4.055818049656478,2.13576691328172,-0.833002108167391,-1.8279298926842624,-1.7462095781463178,-1.4292748016739305,-1.8043356480433588,-0.03892607223898069,-1.3609492642096948,0.4479854069546501,-1.688196619742153,-2.260555498082258,-1.6032958665289638,-0.5719868279724871,0.2268062184392589,3.0007464182467123,5.2620586181406335,2.885869948160054,-0.6661581305866559,4.647416850813506,-2.3259805083008875,-0.874941835106935,3.4358447536432446,-0.18592056996047995,-1.3252577961419492,-1.6454826504708158,-2.2743637727692687,-1.1375489854458374,-0.30594649082110353,-0.2632103614648384,0.3682343908784772,-0.774991959841608,-0.1711919996199083,-0.06981557094042555,-1.2072588326020268,-0.6241021127308295,5.419874741023523,-1.5972222455784257,-0.3638951753809365,-0.3445021725092958,-1.6165697131635017,-1.1021594097961747,-1.2273516660222625,-2.0452140986874645,2.018654282616747,0.4298289927167251,0.60526827944708,-0.44235378658709706,0.022947141944435794,0.0015944771473505525,-1.823884607656973,2.23175416819827,0.7642748141635702,-0.8433282919666283,-1.3230875790813394,-1.3298929349932966,-1.2267220894847892,-2.149994931085678,-1.216392087713245,3.4634847114667835,0.4539412166357167,-3.061338303198416,0.2272961451813852,-1.1344768325631749,-3.061338303198416,-0.7072963438992372,0.341843380414305,-1.5671182591234905,-0.8696666900612374,-1.5795590761486482,-0.8772502462786007,3.5825006834571194,-2.226834278061472,-0.2012611533110378,-1.6675215191123844,-1.1676869386410902,-0.0959440563615272,-2.3820664249846044,-0.12872264422547558,-1.5822498519629946,-1.63874346177603,-2.0251481991515763,-0.6993509873931982,-1.8764670933076564,0.35443256089681113,0.5717167306430485,3.1019647144481817,-0.5188294035461433,-1.012674121933812,-0.709764104672592,-0.7276269751785637,3.3634624924175145,2.975222681710795,-0.8219366599034371,2.208962871622313,2.785064005343368,0.2981463520357143,1.8664884741638694,4.1404114883537915,4.133048817017733,0.5282838272987572,2.6055721017645643,-0.2647829444104708,-0.17832420764440762,-1.9380303715726257,2.9039050390292234,3.6496770215064642,-0.012929923744354047,0.9703843368446681,4.840030364876464,-2.382120428766228,-1.544168977234578,-1.3888697809804087,-1.9542613765865022,-1.5849819030822285,2.4466955357895825,-1.3666480483746388,-0.2676245317046503,0.40230341805213815,2.37457056620416,5.050054496026235,-0.9053180429942428,-1.269841984644333,0.5398747178532833,-0.9479576954954892,-3.032449981392289,-1.1121517547583082,1.054364222254827,-2.1748260590504627,0.878339188240546,0.8449080453819631,-0.28380427510568823,-1.80836474502545,-3.202470459196676,3.3215521054488235,0.8539122759964448,-1.052707983543191,-1.6233526075106723,-1.495184271623784,1.7519453777759315,-0.8298967446281692,-2.1873335437017483,-0.24944080664634902,1.1074723601112286,-2.085935541408213,-2.4125115180318635,-1.2499990583699134,1.2918669581773625,-1.480860486175658,-2.0144429700235014,-0.541348129667004,-1.6534058002388419,-1.4317917003045728,-0.9871359024336306,1.1655411567729186,3.000235685866882,0.15000872558749007,-0.521917766434192,3.0474287586662046,0.8524577565344749,-1.8419708771379117,-1.4212505387436192,-1.5990912760966645,-0.09245231702928389,0.7589239174389383,-0.388617536762927,-0.4886912992334434,0.18601744652391758,-0.5767423202391144,-1.0445259856521216,-1.410342501775072,-0.9467174638564457,-1.557090757749283,-2.0316565223762755,-1.5050207141774,2.033041433841413,2.9972411903138925,-1.113190371205719,3.414345747692766,5.320867729182728,4.085991435509487,2.127442535834885,4.9472697542847275,0.4726197924305066,-2.2016868255719317,0.43167185305864075,-1.113190371205719,-1.6057702396471836,0.8312197050104065,-1.7642479233188495,-1.1590732070276353,4.08144709943776,-1.1266837590924172,-1.2919547680535053,-1.772331172307609,0.021900563903480337,-1.8333368443589537,-1.7602758888628416,-1.8693460615922193,-2.046542277096345,-1.0561390468606335,1.177051678970372,-1.876299096028809,-2.425224032256409,-0.12210277573933523,-1.6260066325782991,-1.844549491208007,-0.3033082971030345,-1.2048764587975178,-1.818276597506005,-1.4422094887527552,-1.0947009976647617,-1.9236465210710896,0.06349215750229645,-0.7967643032374759,-1.3089600393569711,0.5354649061742405,-1.1538421770428806,-1.1326586912829246,3.105698982407422,-0.5655314564562376,1.6711847582607378,-1.6903592808965613,-0.1728241122606236,-0.15342344242621833,-1.1213935734132465,-0.3560114892032391,4.264393263445872,-0.970208733123113,-1.4795207011403098,-0.01916393802213677,-1.6262673095858824,-1.0729349066364673,0.6594213427915596,4.066995385985657,-1.7593947139165307,-0.6148631774543113,-0.5328443733186657,2.195131016648978,4.211073384228151,-2.095193683193586,-1.712677312219175,-1.317622605279382,-1.2398389440352924,-0.6365159443123235,-1.86807183658703,-0.2077489898443962,4.663158190213198,-0.7172902492876063,1.412637536211511,-0.05348159629165212,0.12258449104649223,-0.6930082747630666,-1.6842462616801213,-0.9997143462304252,-0.9925277416519355,-0.4055455246851506,-0.7943307030855623,-1.417976688202369,-1.5077618691738783,-0.11864752625193795,0.065132515143301,0.4479061806002196,-0.5905352698295544,-0.6656940772015779,-0.12568353651020495,-0.29682397832757684,-0.3020850369503305,-0.4431538767660765,-0.8497568273164449,1.506903795247654,0.4803661333128788,-0.6970804646138757,-0.10347402499997102,0.42611844118291414,1.7181988956708991,-0.14880872420562777,-0.8608961760184048,-0.21186655948989586,-1.2074405624776139,-0.24447286527723072,-0.11108361445809388,0.4331828913071643,-0.46666599304565737,-1.8413507629642512,-1.0214066744382941,-0.4975884880865209,-0.6844849178178248,-1.6697028500088267,1.9435278334052584,-2.5904012105039667,-0.9832888022778719,-1.5102450456487504,-1.577267283444884,-1.3747547479445201,-1.2001953198664042,-2.550058975169802,-1.5609102360473261,-1.8902776392732576,1.658754391001417,2.793143587037335,3.3936697303588175,-0.30781971693868015,-0.5170085720229922,-1.9380674914976441,-0.8915763547993787,-0.9886668262046711,-0.5696178874425266,0.879532444809647,-1.1447334158703664,-2.0065454067291424,2.8205742097621744,4.028986191210218,1.7372253796499766,1.5655853810053777,0.07802122878736915,-1.8274876886852274,-1.9502075389529863,-1.7354065296445793,-1.8699631356031994,-0.5644354650111927,-2.0061121385605523,-1.76341407841388,-1.8723008941323522,-1.8639932204222431,-2.105897560651468,2.9575397143169195,-1.9232812200626481,-1.7291945028487068,-0.33946039336051015,-1.4817947434057146,-1.3648272900680085,1.6184380633196094,0.6731669759445253,-1.398152579711439,1.4897707598582146,1.0157432689846015,-1.0568509529743562,-1.7518249634932705,-1.2421958404602669,-1.9336938727708388,-1.7598217040333757,-1.4555523482943338,-2.1082944798688468,-2.0606660439063953,-1.490419418939703,-2.0734945064138413,-3.993754718462851,-1.7804503009224821,0.4188013767860364,4.074252866889354,-1.6540996021001368,-0.8706935586305716,-1.231104530128857,-0.07788453537429951,-2.4434013956713954,-0.07625660353628312,-2.1318590249117157,-0.16461671372417602,-1.7771222855258437,-2.2929023354570393,-1.2277075421191315,-2.4270031251579995,-1.0198781946837483,-0.6385744256983865,-0.6162589382614433,-1.5903114999670274,-1.1226867924008361,-0.7780117610925484,-1.2418348568152906,-0.418772248702199,-0.5887610453578068,-1.4255157505699634,-1.9236465210710896,-0.8321122702871239,-0.7103155395647769,-0.45457897450550977,-0.500646967361813,-1.34338601651701,-0.5586881735072369,0.7183670596719596,-0.8757146430848198,-1.0684891129569067,-0.37919072063458914,-0.5255270518176567,-0.4899308370179336,-0.1597267102618857,4.813777021504077,-0.8690009426865847,3.3215521054488235,-2.579204212530708,1.5603981597326735,0.8888968989143617,-0.4769077058258347,-1.317398016401202,-0.49625704700887907,0.3375764127658355,2.148755017920207,0.5205896223390919,0.002390378671264638,1.4438543702229807,-1.7722920756714393,-0.2113876577507537,0.909715803231977,4.844601565033676,5.666384156661317,-1.941710896705663,-2.1065509824092183,1.1407962580835311,0.23103463786948492,0.42561757819746354,-1.565711492393082,-1.565711492393082,4.244480994355995,5.176708744973618,-0.8596027093370094,-1.0270738870476317,0.3751242769202258,0.05181137151232423,4.582553845204491,0.5168944033678455,0.060574269729906816,-1.778492725569421,5.408174041012422,2.5327757019918757,-1.5302866131478006,-1.0610339222842116,-1.0947736380529194,-0.9227741339323364,-0.9605533109182793,-2.132240077056638,-1.668900179300279,-1.4351673016485864,-0.7169772246162474,-0.9568264963416662,-0.9416875707314999,-0.4133385047052849,0.16883070258110036,1.4322493420169788,-0.7813213297476471,-1.1271281147595338,0.6524595908390045,-0.6927403014042206,-0.6732878229230725,-1.1414799926170118,-1.4892770702646916,-0.3553585485210679,1.8294487165805162,3.6560772718222307,0.7261799401622574,-1.8969714198549825,-0.41939395144300967,-1.273066331883836,0.10397499296520865,2.096483641589663,-0.8776788935290596,2.5299097893625855,1.0082003519061757,-1.8902776392732576,-0.42207825344761174,2.109005714349949,-2.371561218751931,-1.0444388347634854,-1.2311316155798782,-1.177697080054639,-1.03453273120643,-2.723466640316103,-1.7104420113557293,-1.9914059300228164,-0.6226927475906401,-1.04685276232343,-1.290024838233274,0.12309112973266245,4.652403689691263,-0.4046236413406742,0.44300179735362044,0.7869224265474061,-0.5605651851159855,-0.12843809243295445,-0.5314028806277068,-1.0238290888621415,3.174879734132036,3.8595387667647425,2.6026231331657748,0.15833263461928088,-0.7710403655798262,-0.4995419530279294,-1.2938074605601013,-0.35805426889126396,-0.8371847600040477,0.2332762265516238,-0.0885213858559189,-0.6084691009396395,3.879862859303176,-1.6480835900823725,-0.079206288177612,0.18122554674263464,-0.7235894288501389,0.38067681393629804,7.226544609014925,3.401539713522079,-1.4159279091453283,-1.9127960305645075,-2.0174373591629946,-0.8956325749527954,-2.26034960431119,-1.9407337361195267,-1.4539395308420229,-1.9899331345222513,0.5563608894958327,1.3655741274589217,-0.6778354788931378,1.4872586279570363,-1.4237008451336222,-1.274810419849744,-2.5524611671940147,-1.7375662708101345,0.8903585804759299,-1.351406689579027,3.6734951616390217,0.23893979548550676,-1.8009380597154065,-0.6930082747630666,-1.1302346153383862,1.0424609969554552,-0.38549302852157824,0.4808026898470219,0.36960151506622396,-0.24312431299061146,-0.3142989666133033,-2.1229905425409297,-1.7729246995643386,-1.617369675471302,0.23810845387496724,-0.483391669993742,-1.7273711551849706,-0.10198804553304786,0.5055144803084022,-0.7131430817527236,-0.8951228201123652,-1.0597890934720628,0.36743215471166646,-0.327552479995821,-0.15392290335129158,-1.0079751959068284,1.331226750839261,0.14879178398842074,2.5937576493924204,5.280198100270837,2.612540123623397,-1.2429187294667823,2.8834607480253345,-0.8454958932986628,2.1255631796368917,-1.2848447129982992,-2.3335290439494853,-2.3874608455512805,0.4708102218623848,-1.870365409130011,-2.604864563143927,-1.5249585479981818,-1.9311352130461594,0.15925914311312825,-0.33685427467472506,-1.7238132206500618,-0.14523173932935948,-1.151332474438792,0.5329054203221855,-1.9612249102027282,-1.2399292163761024,-0.9213520425348981,-0.2934493481289045,-0.7878251517409002,-1.9817641589624007,-1.7244851503949108,3.9255172860697387,1.5942931299634597,3.186335317997051,0.9775969311537862,3.5867432508255224,2.6477450497993624,5.270217759644974,-1.708248597738552,-2.199803980460221,-0.06578081779005411,-0.8368706284559654,-0.7854677175050845,-0.2091640274211784,-1.7085754585994828,-0.2091640274211784,-1.3997320777127071,-1.0909590554136068,4.1694664715057215,-1.3684630603624215,-1.9324283671873033,0.11061706995923677,-1.8318071541194527,-0.9598571387641516,-0.2019259178706999,-2.322482104084647,1.2956242638589628,2.439938968042469,-0.0034299770508507254,1.968987870792327,-1.8110394558681613,-1.2760228016973993,1.7512646091908477,0.047354842508028176,-1.4262864308855523,0.8119245867926469,-0.33516147313772576,-0.28854191440586174,-1.9135217129716564,-0.4450657468956552,-0.38980135923955833,-1.0965604946490628,2.8632445586955475,-1.006436653664148,-1.6679956265557825,5.037072097193789,2.307251668789421,0.9817234747421206,3.0232908871047814,4.117010734472985,4.113361444554917,-1.7640887933065448,0.15200397301154714,1.0100574747776074,-0.09826825918659772,0.7454678649645955,-0.07912913968776658,-0.5869929672815051,0.06137656758641609,-1.249318554441787,-1.162532956966598,-0.5446464357178717,-0.525735941116994,-0.6973969041449739,-0.9719600477668986,-1.7113924337417716,0.6626099536052522,0.37990667046115645,4.353172762386838,-1.7505111883218227,-2.60828191479524,-0.7744430956484714,-0.29049845972908866,0.19347918400083897,-1.500564841771933,-1.3802231760043517,-2.5201491133096106,-0.6742590697690066,-1.2280633296074597,0.4229742125954438,0.19347918400083897,-1.6139893679672435,0.24592070134157043,-0.9320241203449572,-2.029188215364681,3.086164823529947,3.289630235628948,-0.8430280926050705,-1.0191080260121508,-1.2581311719443322,-1.429384714532381,-1.2280633296074597,-0.8918518314853027,-1.162532956966598,0.332009402466396,-1.400615775117921,0.4749551626010546,-0.32853831112165666,1.2317234135229216,1.8982351464781353,-0.8272044736771346,-1.1182953375910354,-1.214097999997427,1.4102809155728917,1.1162558244140928,-0.9625261685035059,-0.2277434288391713,4.820483671447006,2.806672678167793,-0.8910597762575779,-1.419710022543955,-0.6373053624231056,2.6678110759629465,1.3709647550842827,-0.850992762037041,-1.134936953231042,0.3083139857621753,-1.4183221756409607,-1.1093252736015087,-0.7858824490959333,2.143356564904712,1.699803481395566,-0.5767423202391143,1.1753290502836982,0.7683249437917382,3.067247968624569,2.1713827731880713,0.09109228763953096,0.17424196049511934,0.3190799364008096,0.5277083757468606,-1.589141834011744,-1.807906374375227,-3.0009494117127997,-1.5683430554100033,1.2531320966526056,0.480078806957734,1.1470176346512186,-1.3095170917389245,1.5929388159834155,1.0710420132491285,-0.6277790692076225,-0.7049891902633254,-0.36609949043409173,-0.4871764094606709,-0.7621598571323498,-0.09005428008472864,-0.14868520555968798,-0.2507783494082099,-0.704322495506221,-2.109018269583261,-1.8793340708111226,-1.4483273104314531,-1.6855200932596468,-1.8814813682552236,-1.4090316369170115,-1.8761815210993233,-0.41135347671405975,-0.8662032598582589,-1.584362410576006,-2.442834751812608,-1.0024189493957547,-0.7470110613107921,-1.2099907754251198,0.8179688501593764,-0.32126428074581115,-1.139852234731844,-0.8437018248035694,2.0422528852061306,4.763938610263664,-0.8284168584098432,-0.635257044727502,-0.8515059856345198,2.24617673416468,-0.3982392926568291,0.640498780556577,1.2643075804942294,5.199354627810798,1.8583829004360752,0.7197917125418749,-1.810091848086665,-0.0514358947703247,0.3738921019551168,0.7611727109350749,0.8241113127768861,0.5550844565870723,0.7400410988074462,0.4304758860098773,-1.1913376013534485,-2.0196290838920716,-1.0362298519507231,-0.6266858975965715,-1.761743557811232,-1.9484506333422846,-1.000808035812245,-1.946560939940712,-2.476175635292686,-2.657580092427618,-0.7988177186083173,-2.132364305711081,-2.5641686556704397,-2.1305638358695553,-1.0271095058981734,-2.271182762073556,-2.995567970719324,-2.013777147378139,-1.5437600629004629,-0.5641657478210649,-1.9539615900671432,0.1353117746209386,1.5240830508840995,-0.3897913275356999,-2.1472490541110067,-1.7165767230653324,-1.7102416567782461,-0.2945681091475036,0.6183200167275006,1.105052316821267,0.013477089149455793,1.3552239026426232,-1.4987842085344656,-0.8367365709615118,-1.0892869241340006,-1.181568236061592,-0.8359986265401654,1.8064229455207184,4.573522285535854,-2.389547203958502,-0.8875625801717637,1.5623932472527673,1.6129921406346883,2.378287010706775,0.2481472564120745,0.8731453432239887,-1.764764526742546,-0.13139150759423346,-1.612977308128734,-0.5758965096135344,0.07342012773008683,5.9483102527002005,-0.2603117476767195,2.3439529774231596,-2.0317748746875974,-1.3422308343188227,0.5257049943117347,0.22042439977145004,-1.423153330750531,-1.9680325183749658,-2.490004187789633,-3.6403170139945344,-0.7100689834528804,0.18037744575466622,-2.7307792390101318,0.6051493269356291,-2.0122268085743857,-2.9882377865906755,-1.9881226567087893,-1.1001811056752322,-1.6322560102481376,-1.5585212785368732,-1.2003769056176083,-1.1518035655172463,-1.5626575408762537,-0.7030185679656775,-1.5109878564250239,-2.094976256405372,0.21820803727112215,0.28102092564734654,-1.5999015985109128,3.636437671895396,4.377634569812745,5.5178326207774475,-0.15593220469833133,-2.7823545006812167,1.7058186045512944,-0.33256344644116265,-1.5606335978828187,-1.466616672945466,-1.672037749395683,5.050054496026235,-0.4211302351958688,-1.4156805781784692,-1.0310175317531443,-2.0594619338254345,-1.1993121002513585,0.8418391167498284,0.5277083757468606,3.200054060466448,-1.0918956593169205,-1.6640321370290707,-1.794037951933162,0.2675915444468303,-1.1761461616742328,-0.923660880093343,-0.7383878592737928,-0.7370115676562271,-1.7260061487881728,-0.8276749826467554,-1.0981889258275144,-0.06860373314219244,-0.19842300499808974,-1.725288288425196,1.902704125064269,-1.2041377469319994,-2.1467615740377144,0.5675226390225941,-2.7378605856359584,-2.3646735229993046,-1.5159051852544076,-1.1991820155424173,-0.23901879110390287,3.7555101009976433,-0.917218752460373,-0.6027578678703455,4.365128553031848,1.357052659263263,1.0610805001881747,-1.0918956593169205,-1.0918956593169205,0.37990667046115645,1.0507517772310702,-0.8347222062997997,-0.4362902449973949,1.8393460147500826,0.974932326238851,3.599847460359528,1.3878500421641151,1.8808998932641354,-0.24102161445379244,2.5242881418413674,1.822645487978486,2.3824054687967253,2.7160711465674647,1.3400521098127425,2.0675085711905994,-1.3774147805614507,2.1169017128094114,0.4725370812856798,1.7005090330279198,1.0124138734776402,1.4638489861406854,4.517415285770569,1.6062390664664283,1.5090985483914165,3.328173071321645,-0.7586867391814035,-1.971089378520747,-2.6279453478185073,-1.0959217221133752,-1.7330340393361574,-1.5509421569582746,-1.9153264230825688,3.286543067630069,-1.8853012598366485,4.031929446383436,1.0917032949632033,-2.0995891751226226,1.607751513817955,-0.7338996331495032,-2.329923166852287,-1.67149940138042,1.3227936929233708,3.224578804871138,0.8493078136160143,-0.8991050041159995,-0.259636978311056,2.48784598968852,-1.005738107458144,3.7826527020996896,-1.9157679231230462,-2.0026233957398754,-1.669644827233121,0.35150546256900733,-2.4460483692044015,-1.7619019356353514,-1.6517774567678392,-1.623754762123404,0.8957766323986617,-1.86422867432706,0.05337344824099853,-1.6425344618411393,1.3552239026426232,0.14624608874565156,5.858209721616872,3.71803126096079,4.9937935901750965,1.8999455539621681,-0.812785459766311,-0.9882751706880359,0.6321516301100977,0.013416667960795846,-1.2772504087424374,0.5751095293838524,1.8650579113698986,4.510568593122149,-0.08449905553375527,-0.2416463803129784,-1.9830682310610874,-1.8494850568377141,-2.507249276942517,-0.3120875385222829,-0.19799516276388052,-1.913240682495195,-0.4667570855707593,0.5301321114835887,2.8059892371366972,0.6503978876248558,4.008015267389637,3.0007464182467123,0.30328525020158387,0.7826398955578467,-1.4792219052824114,-1.3563827742337011,-0.9660709260830582,-0.05259932417507785,-1.3776523091749278,-3.072525663599119,-0.4751356317600318,-3.0267560599545082,-0.8325111872744718,1.7747900310136344,-1.0280691588067072],\"xaxis\":\"x\",\"y\":[-0.011146290126823246,4.498483040491558,-1.2584950530912424,-0.9316902391794393,-0.999860557569931,1.4491987952161316,-0.15349105666351717,-1.097694828591706,-1.202951196361187,-1.6720710185825896,0.6245816077119474,0.3542795183340952,0.621886259504117,-0.7257260770647138,-1.7533744258913726,0.09456002264657729,-0.760776541685909,0.0902332407052301,0.6354891072036866,0.9549247299482796,-0.8173396601849978,-1.2470979651002108,-1.0384504583107161,-1.8477530524364005,0.3664056587919285,-1.0939423326821627,-0.5130725914703952,0.19285191038163496,-0.40850583478902325,-0.4019127768691335,-0.5390360868356452,-0.5093297116411039,-1.555182306520193,-0.3275202482615793,-0.11881659332814463,0.6359085300784654,-0.5876810821821713,-1.6234813101233727,0.9261554472362559,-0.002583714634442402,0.9482384115361038,-0.43252723603061066,-1.0477234546789853,-0.5884127949167762,0.10962376719394862,-0.17631562638303272,-2.231310852520514,0.34217595688040603,-0.13393724871445542,1.8282937839211026,-1.5586608599510294,0.39413770702294587,-0.168995559806592,0.6402870848131602,0.7535261568595853,-1.007197920200854,1.251381544732152,0.7283795254050481,-0.31558709207069147,-0.3743084277381306,0.6971582660739031,0.4907815022846546,-1.449631329393615,1.402223715478254,3.182515407806576,-0.13343620635138187,0.7231412843907872,2.4356732324127703,-0.6624452959667966,0.8828610649268513,-0.4539974243368517,1.2895652026945401,0.7021569500086039,-0.03212034941795691,0.15589311833335023,0.044837405588017167,0.7644853720457687,-1.8700830086717875,1.9424014130733946,-0.5355532328520204,-0.710191652249407,0.682134081437851,1.509604288913733,1.067712524849245,-0.20319345565050348,1.9000703759917121,-0.9569272319374191,1.7957948181498582,-0.5045512816835341,-3.035114235492887,1.185874329517807,0.8760206158908876,1.0658710831443392,0.8982598530428664,-0.10984688935739552,0.7719022721632358,1.1990816803218631,-0.052756160150403235,-1.8569894900465944,-0.32643552532892134,-1.69394818406683,-0.1043879637646201,-0.14531043781235348,-0.49969689446459425,0.3260647888357176,0.5077876996618916,-0.050481471812170844,0.4746966598255546,-0.38797355248059967,0.9981145621078839,-0.06458868577411364,-0.16680607960513907,0.618361293025876,0.3466789772890118,-0.8498816694047531,0.028285354530940707,-0.43098808762267043,0.9716433758065657,-1.0005494442087883,0.5665290125385668,1.1465811195268016,1.3964744337563033,0.4331926430237956,0.09286868670805351,0.2827170296635816,-0.46751195464354195,0.3005906656279907,-0.25683121926391483,-0.7082299299146092,1.9653556872423246,0.5402660920588392,-0.4733052245128069,-0.4590570749385392,0.17712840735323698,1.3226057430132452,-0.18364572119185582,0.5715418725763872,3.182515407806576,-0.22520769265871068,3.3372777729058622,-1.1787016560533636,3.3372777729058622,0.8919286352285131,-1.6621229341015167,0.9126518916872723,0.045442205047156174,0.15799090914534736,-0.38811167466529434,0.7693841067862306,0.3165200353751113,1.589997735343134,-1.9047868000468373,-0.9570850389300136,0.22303451284726214,2.1053849872447747,-0.6995465461225077,0.7111076327776109,1.0092401714194619,0.3238118826696467,-0.16319434873238,1.0404375904923149,0.6564793989659161,0.39517415148942237,1.2410104338213066,0.376959093226406,2.4618886452370736,1.2357005578886235,0.2634743406935108,-0.3149803062308416,0.5105081730241825,1.1597876950391846,-0.15864705407278684,0.2960584459910374,0.08484118937578784,-0.7467089182464842,2.211413217937467,0.08320541248182346,-1.04434417849207,0.1912344681748856,0.6089226265344285,0.7789952619638939,0.9523723915944727,1.029639140542469,-0.3626701596053872,-0.9711390263760872,-2.642486423345228,3.103331962225935,0.21619308773179474,0.01495761974098113,3.9190384728573626,-0.5723148273970231,-0.9986452552999858,-0.9516486023188412,-0.6906988660514811,-1.184084181842626,-1.3006189908905754,0.5947979963623239,0.08054162638613757,-1.8790387512323217,-0.33885212574193085,-1.6309491743985565,-1.0941715165686374,-2.4464617479279043,-1.1407059930266377,-1.845328678666049,0.6507379346285529,-0.4711808757008182,1.0197325913084692,-0.2733651563736527,0.01736778019528409,0.7744178910726971,-1.1653490752846118,1.5829275370760416,-1.284553040192645,-1.3462327707720667,-1.19245869121708,-2.35522098291951,-1.6350920282524657,-0.7943134394819928,-1.5948015187911329,-1.0367744163767707,0.23834202586569353,-0.9150329918104061,-1.6791143643828967,-1.11400818377878,-0.42641535088457966,0.1972031517007013,-0.7675781583836271,-0.6634064026910828,0.018494863427139564,0.03239395742923462,0.5429849610833272,-0.5502293308844964,-2.587755947082533,0.0700375558859317,0.7387646468178287,0.8517448089595108,-1.0045392123559653,0.022744918930618252,1.1028840070236048,-0.9711482695074377,-0.5747759434969198,-0.7041665708533764,-1.2590290776964834,0.5110837248386946,-0.447392930274672,-0.777098757288503,-1.5128098061317299,-0.01011907228130092,-2.656517044283655,-1.857853765349958,0.029678348751540892,-0.48811766008404994,-0.46263501008077124,-0.6323213193002075,0.868964826704902,3.2404775080304855,3.2404775080304855,0.023892287317250755,0.6703963948146907,0.799662743159946,0.5833737164149404,-0.11689578549234869,0.7123683209024178,1.5310948073312356,-1.6069800221607173,1.855994257066206,0.04437539980395574,1.2105451052359504,-0.6133121765032451,1.080928379556001,-0.21205336988886225,-1.181891002333825,-0.7775444494726199,-0.6234088227383858,0.5694778943370093,1.717518937021363,-1.0189490622171722,-1.1180976339575932,0.5457794249420201,-1.2203204394225369,0.8906898331423557,0.9608276029309007,-1.2672613034227604,1.6835784222938996,-0.7047166607825147,-0.6445389710374171,1.711806720312135,2.070033591790966,3.774095350032425,-2.526402043882354,3.0277051545857097,0.7863022708009528,2.8536627519810085,3.774095350032425,2.0513570557630834,1.4012277428553157,-0.9266969511957182,-0.632647691995329,-1.1279563071617378,-1.181038381027571,1.9575377687744173,1.9979683623798503,0.06784792539787092,0.5362425827548237,-1.4777415250203856,-1.9777901671231997,-1.1096645491064117,-0.7895282956595094,-1.4068333771286485,-0.8359585182991239,-1.5475653090429042,-1.2046762480700817,-1.6143833336086209,-0.5314998546403829,0.18027712010472205,-0.7320794166920246,-0.03506686939659764,1.9807742361710299,0.42232942329204265,0.2836067607286721,-0.625593263936543,0.7112353207108737,-1.1077101885611724,0.48824908011310625,-0.22795730447657614,0.19717824977674264,0.3150319980462696,-1.2672613034227604,1.1177165541627052,-0.4457172777483628,-0.8138693535483443,0.3178642790899858,-1.146466302455804,-0.1771416100932789,0.34844421110532003,2.4064049724463223,-0.00035252177764437506,1.8873203415832402,-1.3725204164548317,-1.2657688377536693,-0.6949733179444154,1.8873203415832402,-0.8101213187323113,-2.918341516468286,-0.9151402576715387,-0.989486937361541,-0.2992327208272392,0.4760198718631105,-1.5094498562717862,1.8873203415832402,1.1113603909961733,-0.37497601475158804,-1.2545771481814072,0.9048464943469009,0.14491983213610354,-1.0798413560153637,0.895807051213809,2.0607557633872746,1.3380694906666437,-0.7927850799344965,0.7801239402947844,2.3890026316786566,0.010923878415341324,-2.7011628810914043,0.30716006665628637,0.40601777210735623,-1.7931461706698155,0.6582528726690444,-1.5634644260717676,2.415054241488728,0.5843336029259837,-0.6038418556220861,2.282537677712433,0.5348228328720835,0.44349978495395964,-0.6515118089357845,1.0533504658934278,-0.05684593511018266,0.7667072369066992,1.9924299245585104,1.6650019235103015,0.09891338575271925,-0.21030445971977985,1.4049591878689247,0.657298713180155,-0.7572609888099859,-0.42897885501636557,-1.1663827255438763,-1.0375737857811491,0.3177602599695219,1.1770272825990251,2.522013302298844,-0.355656971754716,1.27391594711119,0.12552664107296202,-0.04443688853521283,-0.959882679569586,-0.9994617694103674,-0.1719223856015658,2.082504766964754,9.808615665275749,-1.9109995363880048,-1.5953448853504648,-0.2077204607835263,0.3837984365774655,-1.662233872687948,-0.5449138158015007,0.3926042114015598,-1.0816366373679889,0.25331032353654387,-2.393874721053963,-0.47150127593609803,-0.1756116728172234,0.745144043008628,-1.6873495018786009,-0.2038045167524317,-0.6772495315786097,0.4515441159027954,-0.47274860646605493,-2.612478894522989,-0.5263262266185563,0.8079535533547775,0.11383168486562885,-0.8406691236039708,-0.07662975110137525,-0.513263948108014,-0.5820581328286756,1.4966189151479754,0.21591294181917337,0.8749333087385134,-0.49583472433259385,1.2667969389178957,-0.6352214968617698,1.71168624844909,-0.05981311705813843,-0.6497724736162315,-0.6584021042342937,-0.11984531532774435,-0.6498927216938687,1.6583247694069465,2.0021393264062293,0.10467094944933251,0.12593071239530598,0.92118428085053,1.1566985880876244,4.137971827721909,0.4510339910091274,0.7392753979079739,0.7802223761612858,-2.0010115300907683,-0.5462424385825614,1.2886913072683863,-0.4138934852797085,0.5142060333389612,-0.19834002790450103,-1.1325191168425943,1.0888335146592354,-0.8852774981108714,-0.2595736667103264,-0.3365596012460393,-1.4383020605948782,-0.8553689297851287,2.0374156634903384,-1.084980509930823,-2.6249725104295516,-0.29118493718810623,-0.9406771827196878,-0.8619638727305534,-0.7446552433346834,-1.5806404300447314,-0.2454019965262032,0.1661323479809524,0.2552234665149247,0.8974807722274418,0.6208671719375582,0.2805925306926607,-0.6340873085014079,1.0661851762831869,1.5503964871266396,-0.7612398420860175,-0.06922749235527281,-2.1577156365998027,2.1872713095153986,-1.3215548520622251,0.735623832652374,0.7673642510824716,-0.06979929244775916,0.48866766504332276,0.2669812198875678,0.7328123563979604,0.586121487506144,-0.9953858151396143,-0.17759522520563878,-0.6764116893753349,-1.2989213224117382,0.8921496309187886,-2.2675364797362856,-0.6406026434243615,0.08160718107044414,0.7976536903440764,-2.531916305770233,-1.0799014176355546,-0.19615586969321278,1.1384170320766427,0.28707549080251443,0.42268510345319305,1.580405897300449,0.7663364597659543,-0.6146786963745637,-1.1175193421862724,0.6785761172927771,-1.1806363394390682,-1.2359788765089321,-0.31955324249624656,-0.3744071069079035,-1.864070874914772,-1.7773287436540237,-1.9813608548146222,0.2570733598340725,-0.615542657437489,0.2429255993826805,-1.1616324224085013,1.895862279855882,-0.3356606365168575,-1.0694624857178252,1.7513158520768173,-2.436794523799688,-0.7722764505011068,-1.1810989500449751,1.9317052289038243,0.5716358610330153,-0.46669574977910266,0.7085487574433705,0.28161800267875936,0.39077968913995714,1.8664572644859498,1.2570515395744706,-0.025989927797270072,0.08292369316000932,2.212558250703968,0.32506176456087377,-1.1703087112108852,0.27426832099095105,0.7085487574433705,1.1437392895821437,1.3752645944313222,-0.5836498678916449,0.1982321423674615,-1.6148947810199705,1.06208648105679,-0.9361637998069982,-0.022866776118987197,0.6613537913076039,0.38530631843082697,1.2299781646381982,-0.07782348751577067,-0.15923645755136406,0.46279131029195625,0.867270453683647,1.58548357181916,0.7367549070529656,0.7140682739125953,0.9688369678118367,0.2512680239153447,0.5132039117659933,0.8372222203501735,-0.3573670748157758,0.7717816493277027,-0.6074502986415969,-0.2694611797895198,-0.8556227790287779,-1.1068158657389355,0.18685711887944628,0.6816277954199108,0.97888425365943,0.4520838728502245,-0.7983021441809094,-0.13385525664813003,-1.3796314186286864,-0.21078138640284116,-0.9811799170595032,-1.3319948163180741,-0.19328093980775127,-0.2770836557895622,-1.9783775271564628,-1.3738927533892695,-1.2024447361796216,-1.3080694576617187,1.7650475397544325,-1.1229156368814164,-2.7309258321583543,-0.8706224842112561,-0.5243173469086182,-1.1097479863616224,-1.2308039831949469,1.1494624022273854,1.9641977657477745,2.1785293823189726,-2.8135610607731643,-0.4446860762774545,-1.3634716348410454,-0.6220149462494264,1.041680037069989,-0.39521771665801986,-0.19449469553583884,-0.38526083549147233,-0.06318642030526937,-0.06793988912861024,0.04752527244375115,-1.2880149374051078,-0.4742245086831727,-1.3815311599721705,-1.499128273457778,0.10597497457687896,1.2977230389711807,-1.4864565185645984,-0.043092712418068564,-2.3328311797700807,0.9425352116267051,-0.9782852103707469,-0.8375933378434275,0.24182119457517467,-0.8490077081291277,0.06737530831032247,-1.1745357862551722,-0.6271315392818467,-0.5770669957486689,-1.3448712697469207,0.23196544102466685,0.844519739090322,-0.4029009897872104,-0.005736214361116723,0.4499143340358739,0.6750056141422723,0.2826921428424717,1.269607218037028,-0.4871801805221613,0.6108104896236386,-0.4948587314914111,0.11817817238234526,0.7334875142917915,-0.5180917961506758,0.18106416040857753,0.7146230917208726,0.7428997971628282,0.5593656303835153,0.4849053310827841,-1.0171259983707666,0.387810490554711,1.6226377843395512,-0.17809704794335043,-0.12476503646774295,-0.29617796041093886,-0.27379892263627337,-0.9268841480713087,-2.0380101122304404,1.4506337137912273,-2.0579085201675222,0.033027310562338416,-0.6887356962529679,-0.5190815328898658,-0.7472663186110928,-0.8682390206907894,-0.23433916561783466,-1.4053392824479498,-1.2981861098399994,-1.1127467506287034,-0.9768526143068139,0.6741636247927271,-0.9814765781246875,1.0934127148953323,1.1383910108144233,0.06965396958828377,1.99598010675562,0.9755122541602335,0.662384870019934,-0.8861233320777778,0.7021569500086039,0.7363870858767156,0.2330089649067178,0.1553283747858451,-0.715133568391191,0.45346230447625896,0.5953873912830427,-0.12083862405770152,-0.7904677532103987,0.7442943549477128,-0.5173945461923832,-1.3671815537397136,-2.1647606862810402,2.4065757701891553,-1.2491142295755027,-1.7138057454863618,-1.1199854719256759,1.601971055773224,-0.729805234506004,2.6962725990358902,-0.35149643953172754,-1.7024709074298867,-2.6028083441033263,-0.0018618573810399905,-1.6785787472575255,0.17100843015583986,-0.26644865112001015,0.07288441826828293,-0.5148061391081223,-3.6521473312229347,-1.5229955970088473,-0.3615044442366959,0.3320991460197004,0.06386128061297663,-0.06798773550581377,-0.06798773550581377,1.6600878927881164,-0.5499230709138878,1.1657589760111908,-0.5731714708818112,-1.6661836834923491,-1.4165624627850497,-1.430832818093604,-1.1943971753589009,-1.4274095208739341,-1.1511209970770346,-1.4869190971071566,-1.522871347395058,-1.451638209153421,0.17590165038654823,-1.2007541057312012,-1.1574513304114842,-0.8775905383634283,-0.575377726746667,-2.0477466943732647,-1.261201967711879,-1.6578915972040704,-0.9738377876979697,-1.3021828325620148,2.0304286520410284,0.735429388663367,-1.4150905188260012,0.5545644883197907,0.4961085640844201,-1.4305639637987206,1.607580280841641,-0.8012284798287451,0.6747351899313617,0.12194654885889768,-0.0990212425660373,-0.0692492588792311,0.671553659668955,-1.1968649079150142,2.1785293823189726,0.7120396547541838,1.0719117293828995,1.1478520740596851,0.6481283190597529,-0.5960966025054157,0.22109387579757608,1.9766866328626054,0.06676449711305356,0.9143713972798132,2.846770826534305,0.14701877091226126,1.2816469698098116,2.846770826534305,-1.940794020637527,0.045940278560431466,-2.106243615014697,-0.7473077818496981,0.38133053707087233,1.1563480223931892,0.09832857235024103,1.319545064555079,0.683850221106296,0.9286327150239224,1.2197449477602849,1.1812618877138925,-0.24626779839356955,1.0543507232367983,1.634624948268462,1.1208526375187802,1.1665004006106938,0.3592048896803267,2.9368444395740787,2.3594110153431482,1.5909270645632698,-0.21910571865285164,2.2780569687552243,2.6215188359867785,1.5149446421866521,2.1521154668475497,0.3527371550411662,-1.5239595469806992,0.8283125934152256,1.4516358923430017,-0.07205021415422895,-1.1760735761202983,-3.1982178651250863,-0.8201818438122834,0.6486029919662075,-1.8391905524002905,-0.29583327844079443,-0.08593625358313013,2.1616477161589405,-1.5566511731330417,-0.19148102107685755,-0.7299870431004426,-0.7726676252422116,-0.8789815373159123,2.5965949403301245,-0.9684721849669088,-0.0124159227737673,2.7776317992507438,0.00814624004937622,-0.12915323542917853,0.6678652880289535,-1.5107021703796664,3.0731493555380642,-1.4438610416065307,-0.5025097048772121,1.3242077355585746,0.5827095805282636,-2.1973568753736146,-0.14753873569748535,-0.4880953525546382,-1.3450083943612765,0.3268532613083845,0.8459249238174448,2.2524644820303994,3.304993154608961,0.038395247395703956,0.9816545686601079,-1.746105375396725,-1.4139744288995422,0.10598670322736327,-1.1229631780375924,1.3844106892201398,-0.16167197298893787,-2.2544696238792805,-0.68692534093343,0.7902407593582276,-0.14973732308850804,2.02844567036484,1.080928379556001,0.253282434856015,-0.13986980407637645,1.5193532518080055,-1.5507576235702536,-0.8088935101256436,0.15044670458467443,-0.045002340189137756,0.1872013257608103,1.2968594264079594,-0.4626240158171023,1.0988180711853763,-0.4246271861727901,-0.8185606053174714,1.1197926281004666,-0.6119842950529549,0.29474561896679363,1.4551038711161852,-0.41001794748550136,0.5691942254362464,-2.590599150048012,-0.18202951374809262,-0.8607013036745819,-2.2960756072603266,1.3167076465878833,-0.27251690398117345,-0.5566738862995999,-0.7152170885868805,-0.7028362760612343,0.06303033231618475,-0.9902208730061528,0.01972410670453023,-1.5601392302159753,1.2645522348952956,1.7383022229355845,-0.24957322851933672,-1.070252884350567,-1.2844295150086948,-1.2464356433071093,2.2993299862982304,1.1641245992756315,0.7015448503931614,-1.5291054878331398,1.2451125043197095,1.263139916968035,2.2103714360060196,0.8690317957680909,1.7953295321679044,-0.22799795098332054,1.0354966936301424,1.7471850168622898,0.6393512413680981,2.7322746057581977,1.9385695616987764,-1.4797811365083338,2.6268932317139058,-0.9871339708869402,1.5030130287038046,1.0529794513877149,1.2377964378668702,1.3964744337563033,-0.4050203930043898,-0.9982484808587202,-1.5468837439767478,3.182515407806576,-1.5412634785360066,0.8001407315361067,1.6262958353849484,-3.438988591761617,0.5753938621894711,2.212216389479003,2.4836772733523023,0.5885938945441717,-4.12118339270243,-1.3940325838598695,0.7540240214844234,-0.9321725445352348,3.028110069143327,2.2881131630279694,-0.4078631192511266,1.118236966044159,-1.304592313992258,-1.01147150543045,1.4550998217037512,-0.11640318223676047,-2.416110659060031,-1.9796288927708452,0.1621336129995392,-0.4682875272625702,0.5913167294180837,-0.3108898220591156,-2.520090736976856,-0.0943154244917977,-0.13783072116580333,0.644405198842411,-1.1620644660524448,-0.5610637779327742,0.23168889026858025,-0.5581193468046423,0.2153890923015146,0.3865471295851928,0.988941659579539,0.7515095953074552,-0.23329405373395593,-1.229747887102897,0.8201643769410959,-0.15882043442039182,-0.756538885311568,-2.1120286151716208,1.84053696698079,0.5764743024800898,-0.6914969477991723,-0.31577070586742384,-0.8810996699177827,0.8021470798848587,0.19347997695700805,-0.4260196653524391,-0.594341656304824,1.429187287610041,-0.1640924591100451,0.8120993643015327,-1.502649842253862,2.5987795097546704,0.5293587436794349,0.7783608326259308,0.623813669058094,-0.12191949193504432,0.26791616106380817,0.4237906487477501,1.0686408169382258,1.4026574288018099,1.3879816561431058,-0.21462188479536431,1.5320826718596152,-0.6503647631977209,1.3022033030346305,-1.3393116405859735,0.09681015173227692,-1.3155880062177108,3.283644768299001,2.799421051795824,1.3470804164822876,-0.18101845690861584,-0.17543690178551988,0.6064345226532625,2.7776317992507438,-1.823061749328643,0.13057729102599008,1.2313845008696003,0.34660452160359,-0.09832938999495884,-0.09436777659232544,-1.841897072198435,0.5570265612360651,0.3387411601865391,1.0151455031556111,0.764350641692916,0.08291424450270479,-0.10603512351487192,-0.04999871550889658,-0.8471965335775001,-0.7625426989529597,0.44949717893278396,1.1125741175253254,0.6084618967296075,-1.254127843863856,-0.6314035129261327,1.296284905765052,0.24621207217738206,0.05394140392632625,1.4956554144984187,1.7899910019342091,0.47066581613318165,0.5196573621206032,-0.09702344877198427,-1.628982703675946,-0.1476210353558331,-1.0538483392871951,2.575473897310143,0.32698270084520636,-1.0584835530918615,0.2810292146864925,1.4795346263809035,0.8726252657977538,0.019121467791144542,0.8287698711128361,1.1378368096175666,0.26354457909269896,2.2707965426279646,1.3077206199092635,0.8185767880870034,0.6650768549335069,1.7874380723812977,2.066405130723684,-0.3463926836305305,-0.8577415633782175,-0.3466429693933365,-1.0922817043651087,-1.3118166173906032,0.8976326080505252,2.5385277673135573,-1.1870387717949162,2.7869826184936723,0.25451437231873336,0.38936147667520266,-1.1071412055199361,1.6107705074878247,-1.1739525088554206,-2.061682013256682,-2.805394596387117,-0.8831663371685481,-2.0633678994235893,-1.7987616717190236,-0.4207314753269823,-0.6148024213290779,2.2743934499220617,0.1859934865096017,-0.5898593904191544,-1.2018199465962687,-0.11050871698376878,-0.5749320975573824,-0.6406026434243615,-1.3543005202399965,-1.5725660924038996,-0.6421207488010777,-1.76579365034066,-1.400959628516295,-0.5103533356941555,0.3136669597306114,0.10148720546280528,-2.2277616611461637,-2.166398930590745,0.9798370766144204,1.293339715641766,-0.18737478514681108,0.3543719949788695,-0.49404574101390536,0.4082024146126564,0.07545889725107964,-0.020097489442545698,-0.5232755081075587,-1.1151845701111442,-0.035245472188085734,-1.7256356053318518,2.565355550971349,3.7855980781445595,-0.519696912431914,2.0225229491030867,-0.3273361120999735,0.9020944113643293,-0.9310219539819894,2.565355550971349,-0.9971014093097109,-0.29762929933797255,0.3241034095638716,-0.397296582743532,-0.29185280304219663,1.258970406007545,-1.1152716845022295,-0.6068327709989877,-0.01960871852509193,1.8576890270533728,-0.44601320040822723,-0.08888667464901398,1.2226267391788168,1.3180419447934675,2.8347796606319786,-1.6881739103057372,0.8702582499121678,-0.601632959087163,-1.6520216682288384,-0.6742172913753631,-0.16801077379186674,0.6829368856863999,1.0166141420885235,-1.157351370083181,-0.9920311725425526,-0.3094075954101746,0.27314354771894633,0.015838701558659993,0.7240235934694036,0.8707080592041285,0.2160197797955828,0.41830866017892665,-0.7748456390260184,1.6700907754335639,0.2147123427348226,-1.1733447838065598,1.070746086260501,-0.5757347764161665,2.791480637215215,0.8073484220482433,-1.0511858033336992,-1.163890600220105,-0.932378300038325,1.433845222952858,1.548251766752399,-0.8243053696849114,-0.21727761748933241,0.7408819707686034,0.7766444874755658,1.2466074522256259,0.7996077501042803,0.7098984500909353,0.15738238233608862,0.829198160016493,0.4115211848400102,0.18507012194701375,-1.0699889202336412,0.5477835991559181,1.0667926679701103,-0.8775491680441377,-0.41127717743982745,0.09562702241928545,0.07627133581846486,-0.4121154042046878,1.2651376595429604,1.1350518360935873,-0.06337771493283531,-0.4354620140625719,0.7196787549342664,-4.402578912524456,1.968720868368259,0.6555126013851365,-0.056040088055315206,0.36014843924403384,-0.3393310530515702,-0.05618864061894507,-0.7620360756541432,2.276584436476022,-0.1809785248737513,0.04741030706685218,0.9977781862139025,-0.10368604875802775,0.08477651925558341,0.8612425944740137,0.790610789206615,2.22215316889803,0.927113757282785,-0.9330765738277936,-0.89880298065201,-2.313794695898907,-1.2620312997889225,1.5310948073312356,-0.46980024727535413,0.8215286852076017,0.7262953082237064,0.3474608869182139,0.19331601407251972,1.4030209257013282,1.4136472750859457,1.484689988498163,-0.31071788634395897,-0.10512270723039244,2.7885881960637877,0.6942665279067872,-1.6221205168196695,-1.5358891258969734,-5.390230091324025,-0.053827145838086336,-0.2898665417593316,-1.2603822989769273,-0.7803224545641393,1.5051495770311563,0.5803112501175962,2.0866649366493695,-0.18161001740644309,-0.6501600677716766,2.8005081295505807,2.0106846318145077,1.0261929757046147,0.8826209995591437,1.4018861885732565,-0.1621962289177561,0.25599546097227666,0.8691497060902617,-1.5011848488732102,-0.32005972773275315,-1.2944994042026126,-0.545617884014488,1.888824320869691,-0.5729396178889062,-1.4908371626662968,-2.1898217107727236,-0.6979816378653614,-0.23905295474811564,2.409294352998538,0.9257675849876758,1.5566745603483774,-1.0069374967242823,1.0084966732206204,0.9323963957092453,-1.05273032767528,-1.2373064742887565,-1.0619565111290714,-0.5555449222733302,0.97888425365943,1.040825929876671,-2.8428263971497616,0.5180488529611272,-1.6905110652741526,-0.32628851114170193,-2.130031613612813,-1.127816890727589,-1.2815634859617244,2.468497036072903,1.0838583358054033,-3.1349782903342973,-1.6413306810627117,-0.45250278470661237,-1.9522743211029703,0.483622910751915,-1.456342568741429,-0.10987314385041545,0.6158576137099446,-0.5868950184257311,0.5769079407121165,0.9088328834540117,0.974054360965435,1.405540222780346,-0.45150411441299815,0.8918181728173363,0.8975360796648455,-0.6621999979037603,0.9635875557455963,-1.2252005169240623,0.8707039875644622,0.8253771930222115,1.0561426926150885,-0.9405407931339553,-1.8287828386842497,-1.3540124493050338,-1.6069800221607173,0.34601176774672404,-0.48224370036170294,-1.0797421576520254,2.049442378801733,-0.6863589864441052,-1.2312058155561356,-0.4408077734631756,1.910392882739905,0.03270583740353491,-0.20996796039133558,-0.6289580764774875,0.51053594409058,-0.9591936739663612,-0.6258817633061433,0.06520142346467502,-1.782299884598342,-0.8405755615134083,-0.6824369774306212,-0.3050667357507043,-0.6683855409374183,-1.2952094103434573,4.826559931350411,-0.33603727332859507,0.5404265351754686,-0.12259444631687398,0.404050310958111,-0.43068633033445064,-0.24231908854981224,-3.746303915498802,0.39035402921086093,-0.3559583563930896,0.0600188626122279,-0.8933600247286152,-0.8933600247286152,-2.086516395357704,-1.7010795872307358,0.2606769403008016,1.092259393392989,1.2345506751356474,-0.4882407877851701,0.45241863132259696,-0.8399721363552352,-1.5610763688475235,-0.5750562636036326,-0.8381301731828613,-2.7309258321583543,0.787493975628425,0.4911950927440076,0.377448737521016,-0.9967827441174426,1.2010413815187742,-1.6818591537753709,-1.4601155094272058,-1.4601155094272058,1.2010413815187742,1.0670428479199021,-0.4567946599848608,-1.2245378851001365,0.647540047345934,1.719433738758042,0.4721520501796551,0.1351467155885515,-0.2806337788637898,-0.3541260846265738,1.0318573930800454,1.7208456743530538,1.3009344093014221,0.4789975912632359,1.8697348981141582,-0.591482861428705,-2.0590376645165502,0.2675743062137761,-0.9853266239471637,-0.4604816004754507,-0.5391510807840073,0.9443175429761828,-0.25995302986961377,-1.0649853089126011,-0.23905742054502446,-0.7345811253619406,-0.08720400421957726,-0.048942049376885885,-2.865759634712716,0.6414594616910255,0.6520037893508129,0.2747868787312047,-0.08784013708631029,0.6768356895737325,0.3592067485852695,-1.3101377947307855,-0.0695641011868136,0.21875627038953002,-0.1065864426828124,0.32576837086844057,-0.29243541414911894,0.633654757656537,0.3133456930887142,-0.5032505939465264,0.5371220456325413,2.374337714272007,0.2790429935717453,3.192275068124048,0.08380126477325663,-0.3451750248005204,0.6167098993104884,-1.0792900548148572,0.14936143468670218,0.44470993270299547,-0.5114790901334056,2.1785293823189726,0.4572206020731504,-0.25556123260532604,-0.8074208670098907,0.9472386308757953,-1.2426905814373945,-0.3364176185262628,1.073665137318417,1.1904782212570602,0.7623681292410857,-0.673269647219517,-0.6440393410699308,-0.4569795729109604,-0.9355214742832655,2.992943722669241,2.7260040104125682,0.5718932501658412,1.5889260213849838,-0.2064734849848293,2.50383474895769,0.2961501475715466,1.084618979639963,-2.202209531135049,-1.4404515406505765,-1.282157258364376,-1.0392645050027904,-0.8359784282430541,-0.30479871560060084,2.0729705769748663,-1.8586859035534307,-1.204947563453309,-0.5032153485091907,0.33624312056904765,2.564961981122826,0.3017574318527004,-1.766792729143784,0.8235435410088728,-0.2255132979823883,-2.7309258321583543,-1.6613392304245795,-0.5014512201902217,-0.6092820716180196,0.8458223801724142,-1.977398517839234,-1.0538519726242692,1.860797620854679,-0.3395686494139333,-0.9174984834704685,-0.8125754547368464,0.14301701527301403,-0.4362737933068565,-0.9044991715514378,-0.2767892181150556,-0.2457930742265079,-0.8244011946355039,0.9298124473763024,-0.595066435475405,0.4412507041863313,0.844519739090322,-0.4650701320324801,2.1319338498127394,2.1319338498127394,-0.33139835788935956,0.4415323021122163,0.07998978375631968,-0.39632114260764273,2.1319338498127394,-0.8155413081291485,3.1718734757847757,-0.5190281872867506,-0.04992336453818396,-0.5719527809990353,1.4382986039502847,1.090066968473881,1.7843626906751455,0.10095590734267924,-0.6444052078607352,-0.6061843984291302,0.5550883374467266,1.5481209530840518,-0.781705170667408,-0.638848642377903,-0.17090223401107552,-0.3261121819132919,2.301222596672422,1.735744276911854,0.0469256316392898,1.3344903152923007,-0.3115125472162567,1.5407603460529935,1.508579927316922,0.8075604130275318,-0.44106858959038925,1.1461892091104087,1.0750781640158045,-0.02528769687673412,1.035995677349094,0.7940371917879288,0.010298079972030536,-0.23136664446222263,-1.1263578380899066,0.3482735683073861,0.7188007759804218,-1.200668586601679,-0.4887491938537937,1.0511329441517374,0.7337050641208355,0.5801340207770208,1.7465185489496917,1.5845399675575014,1.229362757056718,-0.06943785397606705,1.3142245990799333,0.3466877992177158,-0.3224727914058871,0.29009240219454396,1.2744631039301564,1.9501468899176144,1.229362757056718,-2.3742008151056493,0.8097924046763032,0.32574938288037986,-0.11367229774894362,0.5239443339764672,1.6637469576513064,1.745347174782656,0.19832259823786905,1.7258681710226254,1.4745753880275576,1.6228113586987147,2.1264928384127173,0.3083705907543942,1.1642030880653806,1.1415398106539223,-0.02528769687673412,-0.6942782995410695,0.6062441505324662,0.8056575915427348,-0.9718696038331126,1.1846475025888168,0.2226039312098787,-1.1380333885721854,-0.42294171070276987,-0.9603842841299478,-1.2655864882815995,-1.674309468276215,-0.95923256966766,-2.2082757823500128,-0.761431112746129,-0.9283602915772424,-1.0003872778034182,0.33305942804359523,-0.19978661479337212,-0.09779050727088574,-0.32732316638661857,0.3299914922454795,-0.17328787315154265,-0.21810390747021366,2.0778770647655023,0.025489112912356168,-0.9418507803283735,-0.480494029930669,-0.4777960559294724,-0.5236326235491895,-0.9163671842424641,-1.2884126387002186,0.7256755059981262,-0.5361754770471586,-0.2000483183469521,-1.5613522001109874,-0.61421212038373,-1.1941311908090264,-2.1123758191296758,-0.7475462109839732,-1.0862550094175365,0.607292177975293,-0.3597777472887275,-1.5821085055818642,-0.1387686947914646,-0.003982163539605665,-1.7721004542251821,-0.10800633824615984,-1.7184551482442976,-0.7220600773571347,-2.0084981311726877,3.7855980781445595,-0.6245323153977052,-0.1811411093788333,-0.02280029214200234,-0.152630255607763,-0.18879500559028345,-2.3234479758534663,-1.6129585756299751,-1.9259738186536415,-1.4099877285403841,0.1066186020779662,-3.205538486710097,0.5323072652927338,1.8282937839211026,-0.6155007542491485,1.3122550950150023,0.6822192108782628,-1.0354897180880467,-0.45676528942886446,-0.845313101007241,-1.9210975153315737,-0.6527180829080157,0.02426250545143727,-1.1247553043951939,0.40145569484540267,0.05346625837849042,-1.706580520738776,-1.9235702921852227,-0.6810658577223927,1.6164448236652196,0.09441690780118649,-0.5757347764161665,-5.324849710991176,-1.8070057827169659,-0.021224692335780757,-0.817981281543173,-1.3805997531516445,-0.425255225157528,-1.1523424561828004,-0.6194712237286698,0.27354114752552083,-1.2756162640421735,1.777061965927175,-0.4548824173651332,-0.42176108068622425,-0.6384313705147698,0.3983427053701477,-0.18775644327673413,1.697306992647035,-1.5495981205691753,0.1937997624785219,0.4813935019603193,-0.20512310302811174,-1.0982469509351969,-1.508139029815269,1.4235176038388113,0.8841847068181843,0.20932951138073586,-0.5197990686970061,-0.7780011535498247,-0.0847733901420275,0.7143393983015882,0.13736835214689805,0.7007718477066577,-1.0091976515141252,-1.0020222624106248,-0.7434581785609011,-0.7805593020332076,-1.3122341658827248,1.0170344495471029,-0.3040733125345648,0.08946315030054527,-0.3123068127017138,-0.164568014419158,-0.20494956985883167,-0.07991557811552671,-0.4800402335682099,1.0418746296709644,0.41832376286280615,-1.0277443701394164,-0.6611049658549448,-0.6489680497255791,-0.38526083549147244,0.1744841053717788,0.5248339009637628,-0.4352913993616476,1.1609463777718718,0.25898520090417587,-0.42691453943558405,-0.6464046362867745,0.428150317525211,0.43273884603382223,-0.10281476747520138,1.7409198864727387,0.5389720184815601,0.20213755898732277,0.7995084254451723,-2.2233358551456566,-0.2981841698859285,0.4103470932355614,-1.183936702847157,-1.1071412055199361,-1.1559737393615028,0.44715157638806957,0.7108677100843083,-0.4873342819660015,0.6078594827312358,0.14936260868723938,-0.5306247834551331,-1.4600986525329198,2.158879972144931,1.4175724059415635,2.323474646233734,-0.7264340924704067,0.5380051620704812,-1.555140179519786,-0.23681909680485608,0.4830988146821099,-1.6654053221269038,-0.7714833608045454,0.43587842058410853,-0.9528768477392697,-1.6818591537753709,-1.185353298489281,0.03981564058481259,0.42768027326641145,-1.1439320101672574,0.48812003926868386,1.066662585650465,0.011626124047279822,0.5060631780243204,1.4863001605179254,-1.2844967685177475,-0.3713389048807107,1.9640017001666545,-0.16778180715887048,-0.6040355782456602,0.29178307745410015,-1.4741218575235375,-1.112022211570131,0.30596236372108426,-0.4379365403910006,-0.5672204471636564,-1.489832811794993,-0.436773171536552,-0.9923148417845826,-0.20902437743052318,-1.065456770627404,0.7770097252992109,0.334017017143829,0.5252445248516958,1.8155609678787479,0.5081082583965733,-1.71176264102256,0.4959448449737476,1.7418772023653086,1.4017740558582388,0.28192218743011604,0.13536712504467702,0.07841349962985597,0.6245229490939141,-0.3594263708981444,1.740676276274564,1.7810790132391263,1.614011358962186,1.6826908295445566,1.2215784649122412,0.9220277790772221,1.76173952869635,1.5690767467252886,2.723356457630175,-0.4776370803199369,2.123302287001611,-1.1063612328204997,0.10993501322158102,-1.6569223971159341,-0.7710263136821061,0.6354891072036866,-0.9350760961442324,-3.1540523613575253,-1.2137938729879838,-0.8438981481839068,-0.9125375098004525,0.23681176346469904,1.784584203047948,1.9879280654500107,1.8873203415832402,1.3890820852305379,0.525057776042806,-0.6949754865209051,-1.6187760969086642,-1.001906597455531,0.46327213127598066,-0.16280340377950475,0.9104905958323078,0.42987233925511237,-1.1802309291515338,-1.101178115156838,-2.409564022889257,-1.1367904663450703,-0.48103855836933934,-1.2429177650114909,0.6135342320569055,0.06955499887095258,0.8825057082452501,5.661064469750127,-0.16173252619485243,0.5077876996618916,0.40145569484540267,0.6099267306357663,0.7221971732916749,-1.1482497042279056,-0.3069504230571482,-0.7545499809956918,2.327751738173502,0.24686911448379967,2.4368300251600585,0.34348520895982815,0.5893342154021552,1.0175082866881124,0.6428230485845242,0.08601275154033032,1.3216325337985853,1.7160008601508676,-0.571595689621778,-0.8386394424269146,-0.37632737319680065,-0.004324987100123774,0.8203433536037081,0.916166751087148,-0.1494127167046736,0.6042109943935772,1.0137097562146569,0.13603763028618573,0.5283163487891245,-0.7549928952607777,0.16600454255353453,0.9505098176612302,-0.12126743768402024,-0.27660102442963796,0.28234405241929084,-0.650534021633638,0.5842145967287788,0.5598043266791897,-0.4591874361420237,1.183565927521229,0.7476109366159924,0.09042435986383765,-1.1641913972188538,0.5884791515413874,-0.9406279038400512,0.18524942989997523,0.19004799950629886,0.8947453894033429,1.505150653634186,0.8918238940497784,2.913545690631474,0.19535040548850968,-2.1347042752673895,-1.0963441427170595,-1.0963441427170595,-0.1798493552588947,-0.8950542673028736,0.4247555799804483,0.5831053065264428,-1.084980509930823,-2.8428263971497616,-0.9306059402806283,-1.23612842384265,-0.9994364223214955,-0.8532624380946271,-1.2052063378789568,-3.0064137891182594,-0.7091852339985232,-1.0871716684012818,-0.5411080761057503,-2.061682013256682,-1.8606143982219352,1.0730684436328803,-0.5750562636036326,-1.4422160971020823,0.18867895860109057,-1.3758920059641677,-0.5901899611195248,0.914053600005957,-2.35522098291951,-1.1982458217627998,-1.4354924459885972,-2.282372401763111,-1.4495411317022113,-1.396164610657435,-1.2322459853919876,-0.6873446047620447,-1.3331003309856062,-0.3457065151016674,-1.6510206389647353,-1.2550499258583405,-0.607943890266063,-1.376175104825969,-1.5947288333897751,-2.7568151461037638,-2.0975174481531917,-1.7890453009986336,0.2693814055156046,0.6810389452681597,-1.4846548825159858,0.7411803149126394,1.9235878436744343,-3.1653627866074636,4.826559931350411,-0.08741851902060169,-2.0674106916733943,-2.968734440754028,0.9064658020706716,0.7987656364710357,-0.5571382455449454,-0.2985993159826209,-1.1430498587646851,0.48171047250429627,0.24316610774922656,-1.2805711408949854,-0.5518033813859748,-1.1406132411762948,-0.6281451448687273,-1.86509876701421,-0.07153712703738054,-1.5947560608544458,1.4829391941009848,-0.03041744399149785,1.9025446924993938,-0.6947868184198235,0.14542983433201517,-0.7902420934319357,-0.49582170715308393,0.42339057899310467,0.7902407593582276,-0.3263511848736121,1.1445857085486657,0.8799311581112474,-0.9439438340615492,-0.4296076407966231,0.6670912404694664,2.293376654437111,-0.4854428229005888,-0.7261160220215082,0.6223149471238171,0.16143317928932277,0.7770097252992109,0.44940732397602023,0.29172619989327264,-2.85596603251148,-2.85596603251148,0.6559230533819518,1.4062937358818353,1.0147877716635718,-0.25782567626502073,2.1616477161589405,0.9725077360054156,0.5566877659983659,-0.12451622959309916,0.38684109384886695,-2.2742671474041005,-0.5032745309280631,0.46325743828393195,0.24131108774216245,0.43473066937475846,-0.486081915538849,1.3493684929291585,0.5291162113167034,1.368883238313567,-0.744512082873626,-1.487337348536495,-1.4723501299578943,-0.5094951483576844,-0.662636027799374,-1.0397485474220634,-0.5147913976645254,0.662236102362453,-0.12984942660822196,2.509545265596499,0.03438825382887613,1.6820118145061844,-0.2215189841025383,-0.4154576536923459,1.8643364588341296,-0.6931916182715577,3.3892843225133245,1.6888125651475756,0.7724804102748117,-0.02711420406282488,-0.4415817358862888,0.8066569243264353,1.3009605925765595,0.8036905200841326,1.455185427801065,-0.966841712081996,-1.60112540161448,0.4239634544031931,0.9768693414114809,1.6643262992104402,0.6616282733623539,-0.07493749940942696,-0.05341915052325114,1.5817331684268623,0.25080378322681685,1.4150167553021782,0.9464624614115374,1.7854208091586645,-1.8986513450642615,1.6602819900696792,-1.279703419471329,-1.2278698439781426,1.5382079251100924,-0.9416686159264955,0.2595421804552349,1.0825135388044305,-0.4795650203233543,2.5234170447632356,0.5799128089869479,0.8994140052267778,-1.1652508706177407,3.5410661345301513,-0.6151603064563307,1.2037797236775676,-0.19189490558533914,3.774095350032425,1.4190247050955032,0.46052362278154474,0.19506465400558137,0.8894868952712865,3.492340918964333,0.5095306889194521,2.55803372745396,2.9413296035633674,2.9585376283879423,0.6664854167602087,1.2751122185381902,1.0858549905634807,-1.0223874893828675,-0.4896122311522367,-0.8883453305418859,-1.0527146426813916,-1.5979672130884708,2.420543579808565,-0.018409808694462442,1.3150039075834292,0.05034428153885985,1.2175238766675398,1.4513188974470834,-0.7764384500968159,1.4989831502198436,-2.1120286151716208,-0.8242950319505022,-0.7193176773642309,-0.5324102979469512,-0.7377570441587146,-1.7549264883420448,-1.1175832891565336,-0.8167610018597068,-1.4246076648562231,1.9210094918522964,2.510789089861232,-1.0983810149208868,-0.31907824241307686,-0.7018982279762427,1.111843294972242,-0.439251240429323,0.22403578221356657,0.69094572567442,0.13117975779423108,0.17250022808780707,0.69094572567442,0.8801445212944216,-0.1726494324053832,-0.957184392390106,-0.34187442727366185,1.2354223195199199,-0.47727735997843096,0.6744175097128848,-0.4013353354818058,0.02450269516566752,1.011488834505255,-0.8582289768525599,0.9394174796720548,0.4181213817232735,-0.8914675871467129,-1.5430309314244626,-1.0478864536138885,-0.5196969124319138,2.0933789127353655,0.040953024526694665,0.9543876770247621,-1.2613527108263554,-1.3497698875032405,0.1015521522094897,1.1395224978776355,-0.6224926824437793,-0.29961093997959815,-0.03876120335108704,-0.33284134816921473,2.1948710462685397,0.3926654752334086,-0.7082917138338364,0.2902319832740681,1.392268030544602,0.6626605141152946,0.6693446790274966,3.8268321408784542,1.0358556804491112,1.888824320869691,0.9430672461585756,1.259716397207651,-0.8635581785887446,-1.623692972127176,-1.2939500198084286,-1.6971954084152088,1.9663728384182118,0.5163649992284982,0.5004206553924497,0.14092098116822444,-1.3864965358510828,-0.025169305094828048,-1.1102871922238373,-0.7901974202446453,-0.8316780531167165,-0.6670526559898644,1.4554367646834034,0.9890710951795658,0.92877158994996,-0.5819582864843338,3.103331962225935,-1.254708459737221,-0.5922012386467952,0.4435955306112865,-1.1720025427993501,0.13010784025672623,-0.826309714140059,0.5077876996618916,0.939143923316605,-0.8361202369462652,-0.41710445916982375,0.7424716521704866,0.6133935006749358,-0.6458383516302348,-1.7510201157210281,-0.3198383314567154,-1.4596407954660335,0.3245641073323007,-0.4305756298043256,-1.1280657628897404,-0.46563576744897567,1.2702245745656162,-0.2196527357209796,-0.6328920510936781,-0.6988975412607021,0.7686819591582689,-0.8578855206836911,-0.6751035437408783,-0.48605547778189434,-0.6387093576147173,-2.300355427669754,-1.4089869637399517,0.5329524166170312,-0.5503229283988338,0.2649669251071382,0.16553005113670197,-1.7294067262714847,-1.5577347517846178,0.7672821803529783,1.2004658861734112,1.406140145354592,-2.350193203598048,-0.0862729978393949,0.844655709257435,-0.648785180974832,-1.7149594650926805,0.0013927407355476247,-0.6547324029555972,-0.671649825960534,-0.23597623740894366,0.906418797172989,0.818995493301738,-3.9657535964109196,-0.11703497197782609,-2.2567515427796585,-0.09410452304932518,0.38125867172017974,2.697646336612399,0.5131120537669254,0.9959213711304622,-1.2402689930457078,1.5628972442440001,-1.060741610015732,-2.2567515427796585,-0.9567877399978034,-1.729064874416466,0.2044930518485158,-1.4239004176118444,0.24505719072753285,-0.25033575125748675,-0.056872802905973026,-0.061435918394806804,0.7385669494015952,0.21719128364850118,0.7781800659952602,-0.6563513629989075,0.665173515345914,-0.8660248605849117,0.10023142404119657,0.4355569975397247,-0.204162794448054,-0.23066117701024585,-0.8316304566337243,0.767661498389806,-0.2407920173599839,-0.2615215886055971,-0.4112232069567598,-0.8988800994715375,0.33369412234070567,0.6860578631441899,-0.4951214050625927,-0.059560190095299614,0.12075812107373662,0.4444178437987876,-0.6616514069680481,-1.4117539522982094,0.2781575732523056,1.2439293597589174,-0.23523107582540595,-1.2922767646910287,0.13248114283797885,-0.5926544520710926,3.1162867697322616,0.23782341079723998,-0.6096458997580978,-0.6930003232439991,-1.132313622158646,2.198696819625901,1.1580810480104031,1.2457790474239883,2.390098384649921,0.24373481668966906,1.0924350472162982,0.2903542953149213,-0.2222112872504574,1.8975682273569165,0.02128656045971122,1.3744385074292975,0.01571081049753221,1.9290845928997904,0.1974189949432009,2.316189655961483,0.8430468316977211,0.7314162765751036,-0.715480273159903,-2.20046492501433,0.7920409187021273,-0.5335446105803928,-0.6116306323663964,3.6031821127767216,1.0162723217827374,2.597830637319538,1.010859868927457,1.0938512321728926,2.251323592944938,1.5770042098068626,1.346752702755333,4.185024132169869,2.0897495005941003,1.0383832443919558,2.3508458837380317,1.2583716721302347,0.7401609265457776,2.1602288633856794,-1.7852850671989036,1.0456398874007027,0.028154177287873186,-0.9361637998069982,-0.5220718237448781,3.513969831465875,1.1131804574029105,2.5375564571759477,-0.2901700140672189,-0.5300761897294421,-0.25693064754724826,-0.3142662177413456,2.5566765197541907,-0.03293520236964222,-0.19885795871475218,2.40164542818708,1.0351778267918161,0.6444849876155497,0.028306074933143438,-2.1162902439844733,0.0023635999375400513,0.11962982789439328,-2.347549242540537,-0.9201381858244964,-0.9743563680480027,0.6855028852755752,1.137090114462425,0.557879342789397,0.2654487617243307,1.4026574288018099,-1.1982458217627998,-0.4598399809985954,0.004144946964965121,-0.1238592683778336,0.9074993270322184,2.966117634830429,0.23373058553335369,-1.0639389150223304,-0.4622098125985687,-0.298052671151094,-0.5943153326486935,-1.6613392304245795,-0.36790667229535384,-1.049713460456135,-1.349401683239454,0.7991499058784406,-1.6325913148629343,1.6707445011481428,-0.966054436218666,-0.6556564907066489,-2.060659345414367,-0.9655688502559313,-0.6386814446471732,0.39223597708810704,-0.8850916940287139,-0.37443829851878857,-0.8776851115060553,1.0174448376284786,-1.5475653090429042,-0.34767541953337294,0.747693536214771,-1.71581494734831,-0.10726619418296307,1.1371005994234744,1.1252714892569708,-3.393722940762177,2.0080019600142665,0.3406402701807256,-1.937835895681664,-1.6406240108949195,0.36113796281649485,-0.11848794556724213,-1.385977597210929,-0.8010825313436061,-0.6575570841874511,-0.839436697516078,-0.527153137280294,-0.6114212774880557,1.5845151521137204,-0.4643760537535911,-1.3018832532958353,-1.1516668256705351,-0.87516338212286,-0.8847666158004633,-1.1693233863795673,1.774175905463745,-0.08797624049417573,0.0031216044997833996,-0.219482692717755,-1.4655689988816678,-1.5463730166337208,0.4032761766150061,0.7755578306120943,-0.705965790616282,0.5503898665299514,-1.1182317836598257,0.5624036751698462,-1.4549911125915833,-0.6621999979037603,-0.46814956413727954,-0.48704101382320075,0.3301093954190305,1.040825929876671,1.4738730430602933,0.5156531889061454,-0.015715671755879505,0.6860578631441899,1.2872874286237435,-1.7328518095993375,0.6959769757292257,-0.007669339267966024,-0.026276856447328908,-2.3639641186732687,1.1631494108116496,-1.9638694381659374,0.5622885515036908,-1.1870319739345856,-1.215406142640307,-1.4566505898126192,-2.265914905684871,0.17948450776703642,0.09855330331148712,0.7424716521704866,-0.08219381352159326,-0.8236358611214712,-0.48352969560008846,-0.16310794825620098,-1.3903335627467288,-0.25239003901778295,0.4873161663950995,-0.47860482608152966,-0.31959440173335935,-0.42283836051147583,0.4615724899439211,1.3345949133414938,2.1353388542792655,-1.2603689420633646,0.6396464239450953,0.717437613604611,2.345272967063732,1.373328940618867,-0.59666305804514,-0.8228496570941322,-2.4169422454435994,0.9336350514741266,0.9336350514741266,0.23664873280864984,1.2386911146487685,-0.5418841654097422,0.8575279188846323,-0.7605992017394515,-0.23040106781687436,0.5411367955330899,1.3618413519709773,2.4571862199258585,-1.489821630377476,-1.0689235689502825,-2.046513409718879,-0.9547823761436203,0.8758128302585264,-0.5020453808359168,-0.8450034896699762,-1.1505866051408808,-1.0162719172752006,-0.6633142881216192,-1.6697928510711872,-1.353373890288779,-0.9919352561058689,-1.0803934023175565,-0.64014162998779,-1.302409449839552,-1.5274633223822711,-1.8816369915962334,-0.6241541934765861,-1.1087513872616166,-1.0937437785451838,-0.5769655569107656,1.350116593760213,-0.6835707776461989,-0.21333495891230767,-1.720888166739298,0.6069933473401402,-0.9485578909088195,0.34063800496898206,-0.6728024875104704,0.009588568549992283,-0.3318682072964186,1.2099337331859232,-0.04351653889015079,0.4724973084177478,0.16670061782510065,-0.4598399809985954,0.8379678502770369,-1.866808391639628,0.3913490107035035,0.030032344428861255,0.33346010912390517,-0.41099462855907604,-0.7476281108276703,-0.53279997027666,1.4165753877023453,-0.9778755269931468,0.5343302360287076,-1.1023076661037068,-0.8610990263499393,-0.7747711983975607,-0.14363907758537378,-0.9146586648127374,-0.9765413938527083,-1.7663661393860055,-1.1307289608189772,-0.7087335536763923,-0.5947383472184775,0.07306755370479777,-1.5158796949645654,0.6613108686606776,1.1286274880828178,-2.0581977671877016,1.067705210326923,-0.3012459235234399,0.4257801498878074,-0.40263933571266,0.2989675907068813,1.628563669796177,-0.6663501829263653,1.8664334683739883,2.4203579302843807,-1.1092347492996673,0.320084147517438,0.0316918901269821,1.1160776457145436,-0.4394565205823323,2.089830979623218,-0.7570751399473789,-0.7746598120563284,-0.3865389189137318,0.2570733598340725,0.06329890129218568,0.33736198173459314,0.22643180698531026,-1.3546107260806557,0.8002025039600876,-0.8889081107644095,-0.7286812887095819,1.3078694865346463,-0.6114302591907719,0.5466667600703204,1.8234840719083256,2.251821150301493,1.5327451810884474,1.692037882897693,0.7022921431888587,1.9109285289174855,0.2804484614653227,-1.0498417887903437,3.6031821127767216,-0.5242582112536118,0.7861182653546228,2.0403271912218015,0.16893016132376476,-0.08526345403740453,-0.011024140739626634,-0.7916755386423815,-1.2147270836405064,0.7724463413233442,-0.30374574130359205,-2.333542719980754,-0.3562168495073638,0.12430303586946727,-1.1706210899866958,-2.360627446467737,-1.6367819175495586,-0.5023576395671425,-2.7309258321583543,-1.2423446127955176,-0.8386470327706329,-1.0079198521398582,-0.2276189352739306,-0.42160553228633324,-0.9631389674046102,2.489831978249957,0.7343740197596882,2.11536406340761,0.13724873880508384,1.0125213152896404,-0.3700529157494537,-1.781530089631284,-1.1887304827614904,-0.24042744331689553,-0.6167239342011968,-0.9734476761826596,-0.5688906477444701,-0.4861672206217907,1.0076600514519967,-0.3015057633668324,0.1289729471511795,2.5309300185056167,0.9337858603263688,0.8418091510500211,-0.9333434321358212,-0.19397496311706652,-0.5671126380023026,1.5106561492724921,0.18074855667507497,-1.046362782222971,-0.7333067303892985,-1.024619137581625,0.868964826704902,2.413138762792469,-1.047581484224629,0.9736919192976674,1.7212392934745593,-1.3429003712914231,-0.5792383396463392,1.3474157429635831,1.237826518985617,-0.6277344905438648,-0.46693744531297143,-0.6195438014522857,1.4249282490014086,0.9643381077505953,0.1116572745926787,0.9643381077505953,-0.12094841593244869,-0.4345154977397175,-0.871722813432027,0.15079746470859748,0.2779790895369222,1.1894891272965924,0.13692337593368037,2.2951298743783055,-1.2426905814373945,-0.3485694162350417,0.302764312262811,-0.9565041870588197,-0.03455778115238252,-0.23528215500303146,-0.28771160652307354,0.33490144838208824,-0.5519801147930521,-1.6671675160620285,0.3483655714328153,-0.6829322826912602,0.10279951612120011,-1.9959511402427057,0.2685118467719537,1.9946169248668217,1.8483060822592716,1.05549255886762,0.21879040449048254,-0.13570197581660995,0.9851968861899992,1.0680519747125832,-0.9423944222871239,-1.3267365895545933,0.23792831775974138,1.0906730354380947,0.8260360840052875,-0.11461723951061477,1.8404077114195667,1.0823540919940686,-0.8687738626484454,-0.591482861428705,-0.808906366017505,0.6170449549147405,-0.035800722938188076,1.5913428281037103,1.356067001599568,-1.6287481707392577,-1.2933490428322199,-0.676348585196238,1.1830106693009677,0.6030493268732678,0.3823904837157788,3.024148516645296,1.4320445004928828,0.3422829734150233,-1.4187000715910434,1.6814999864821367,2.799421051795824,-0.045492387639219506,0.4657414169487385,1.4198239456029442,0.5888953615807204,1.0444386933204297,0.5964434905315017,0.08844995393029538,-0.045492387639219506,0.8977977758332223,-0.16885058170457698,0.5983088128366484,0.6667441748139548,0.11485247399156084,-2.5769252053016807,0.239096407558056,2.248756190662394,2.538734024943241,-0.056325911547830676,0.5964434905315017,1.978302081168273,1.356067001599568,2.9160689759183787,-0.6225797561996642,0.25594206718460455,-0.2907244207600336,0.37573869502044305,1.5556309456722197,0.45063092760922646,0.7757854374142339,0.07431941987263534,-1.3080925230982425,-1.3524345982935717,0.2936091768199941,3.3099155081569425,-0.5551636406866741,0.5675987166081075,2.6461398776378844,0.03399799833090132,0.6786040056615527,0.14923360423841545,-0.4559136008402356,2.946557942362356,1.948601535631255,0.6937156146030232,-0.6479161411275293,-0.16832643560406577,0.9206331889506515,-0.45076135107728427,-1.6238548107932502,-1.7149594650926805,0.824693734867421,-0.6046810983191575,0.9951455987502084,-0.49439614316897346,-0.19789301436615073,-0.17763361203952568,-0.0811359416283304,-3.591928184508256,0.015192898637178383,0.41832376286280615,-1.3430396251065224,-1.1533387805480773,-1.5144988077562616,-1.5909581557697048,-2.345699961945222,0.5187929455099779,-2.0068878431165396,-1.5610744785887525,0.4027243215517694,0.38857174117138316,2.4711907619370574,-0.21414035832918296,3.00204295813908,2.43113899034092,2.882281167231521,0.9642980521378577,0.007995287376183303,-1.4448575644382036,-0.21558652585747345,-1.0494337432873815,-0.16881431329935398,-0.7392065333258847,2.1790993577352347,-1.0820263567320554,-0.5618613817516007,0.05919103367562593,-1.0420534653157876,0.1232404727332146,-0.06624184533439369,-1.5632894769170895,-0.2045551733815311,-0.28256903175167625,-1.7373472894249395,-1.0465870893288531,0.5718932501658412,0.03184445897223565,-0.012659131268622335,1.0406554362647755,2.0807189773265042,-2.2215790057935036,-1.2942306228088374,-0.923267197308513,1.6648500226504814,-2.2517164433175365,2.227919979383779,-1.493430572233985,0.06759763053874203,-0.4220085249074846,-1.6224994565962794,-0.856849842162743,-1.7156119083516967,-0.40181400052584976,-1.9183111465675242,-1.0284176661154836,0.5662509076481946,-1.9360921290485094,-1.3661970267771604,-0.4790532667477213,1.5323961175618466,0.6372584903149767,1.3733798976383886,-0.5126351469976398,-0.47065776417615324,0.0005851604650584704,0.8136001906911967,0.3899702635827705,-0.3954610481119662,-1.5825523645928816,-0.91786900581795,-0.3820309089909209,0.15708317010830117,-0.9806604314366144,1.2573912397734035,0.5631582113333863,1.1114556668423152,0.19309430754008217,-3.0573576367230775,-2.7964050900954347,0.4441931981329905,-0.5425621727635154,-0.8201583062849631,0.3751431940363837,-1.022378084094238,-0.6070712876472267,-0.9624492068779519,-2.023747135601468,-0.08741851902060169,-0.20462864179538592,-0.08910926007142134,-2.059162839252311,-1.1745357862551722,-0.6346088648189893,-0.5491745735456018,0.5095716897531248,0.8065406104992437,0.7411803149126394,-0.8558821629061253,-0.36576815422793457,-0.5309994855824142,-0.5213994519208943,-0.8095689157079903,1.1265825463110404,-0.20982947444075392,-1.1323946066926893,0.22119401719295248,-1.1950493627964511,1.402539081269541,-0.5757347764161665,-0.7264869106374371,-0.7415878471844198,0.06951336384573498,-0.20446565868520716,-0.018790314063136665,0.03139289071178971,0.35067005623607644,-1.1128956328696045,1.8195868927959074,1.8713013951568778,1.9181525956534924,-1.718668848043764,0.8757893106119172,0.17563027053701372,-0.692918384050894,-0.2872600209762614,0.20809406613317627,1.7764954026041306,-0.40857318509327806,0.029405535122965207,0.3028902959496644,0.9923583707665747,0.43377995483685844,-1.356432955086262,0.5863758368736266,2.923932736424932,1.0230580147774817,0.8397768146241342,2.5716091789550606,-0.3927468362995123,0.3103645893388274,1.212222119936062,-0.9105271986614408,-0.4231354934946316,-1.5022933704705286,-0.39581140385400493,0.11057980583580491,-1.1364627595215102,0.9890710951795658,1.6893322614019661,0.929947908590781,-0.45259687761377587,-0.7448746955627161,1.8574219818393147,0.3162113284328095,-3.591928184508256,-2.77156995198607,-1.0936649608603801,-0.8987367758535366,-0.7144851932041131,0.08471793830475415,3.402325258536716,0.5915376393811419,0.19594602619168597,0.03596508498122062,-0.7572787491134724,0.4800421604906783,0.5277834265150178,-0.07029951988053232,-2.645920314483976,-1.3983743516341618,-1.787507763377892,0.8485646204971744,1.2059329792106632,-1.7241610708089132,-0.4721562361789317,-0.8206980878304442,-0.908384264090437,-0.7454847813329007,-0.7426614340923868,-0.5761116798393022,1.2630604906993128,-0.9648409921390875,0.19368622313439737,0.9996039142658514,1.1575246422378052,-1.0936649608603801,-1.0936649608603801,3.024148516645296,1.581733168426862,1.6452582761714456,-2.4045788380748347,-2.457424990644714,-0.5475715725911342,-1.309837370956774,-2.012652192581363,-2.462051030380861,0.4839182224013321,-1.409148383077862,-1.5557878439244381,-1.7104659017896569,-0.14939377576964868,-2.0027033980752855,-2.220458417816707,-0.9119564427723759,-2.2209031233141783,-1.753655830785114,-1.376443720504269,-2.539680899330995,-1.9288195091233993,0.4586528028759585,-0.7370750659682042,-1.4238717798777527,0.31313785015723283,0.03164626132905804,-0.9437787672941998,0.42203314767341854,-0.19189119093840312,-0.5211679048184915,1.8836076923570355,1.2546259176505086,-1.798007110035973,1.6046581333958079,0.5308244007763769,-1.4677050692393339,-0.07553356999426383,-0.9371300061780334,0.9744129361419285,1.0808327860734204,-1.3498838940521083,-2.6382976097380944,1.1075741810946929,-1.1968544636420655,-0.04985157001773308,-1.33685862369195,3.3802062358742013,-0.9362765548657912,-0.8512302225203644,0.8312994793303587,1.1474159317775212,0.8692814620397291,-0.06373150398819599,-0.45242591189058295,-1.0487895677819898,-0.978662905395083,-1.1203219593181082,-0.6009018213810933,0.418624148693119,-0.30537603096408056,0.1802453542315142,-0.08741851902060169,-2.1446915046004675,0.8614420346143553,0.13071407897492537,-0.22775045896728488,1.1093919174553284,0.5061696894655069,2.511450929046462,-0.3562583850384999,0.2639556727669243,0.2716152626191425,-0.3396231129337261,0.8138121170061825,1.6452114399898927,1.238681856270098,0.805064946653338,0.5777097466141734,-0.7454513238920545,0.7691464789300254,-0.2300995333427969,-1.1625225503153824,1.0967477999866884,-0.7762878624655944,-0.5844671710446084,-0.6061979063641825,-1.4869471807666164,1.7503448743454817,-0.6151603064563307,-1.653134426340767,0.7427151707507382,-0.7054157806980494,-0.03251912330296206,-2.341444922488867,1.8408479769371706,0.41506437622651776,-0.5229064046857343,-0.017125860721715028,-1.304982846245648,-1.0897255704646864,-3.695232752777761,-1.3907085464763504],\"yaxis\":\"y\",\"type\":\"scattergl\"}],                        {\"template\":{\"data\":{\"bar\":[{\"error_x\":{\"color\":\"#2a3f5f\"},\"error_y\":{\"color\":\"#2a3f5f\"},\"marker\":{\"line\":{\"color\":\"#E5ECF6\",\"width\":0.5},\"pattern\":{\"fillmode\":\"overlay\",\"size\":10,\"solidity\":0.2}},\"type\":\"bar\"}],\"barpolar\":[{\"marker\":{\"line\":{\"color\":\"#E5ECF6\",\"width\":0.5},\"pattern\":{\"fillmode\":\"overlay\",\"size\":10,\"solidity\":0.2}},\"type\":\"barpolar\"}],\"carpet\":[{\"aaxis\":{\"endlinecolor\":\"#2a3f5f\",\"gridcolor\":\"white\",\"linecolor\":\"white\",\"minorgridcolor\":\"white\",\"startlinecolor\":\"#2a3f5f\"},\"baxis\":{\"endlinecolor\":\"#2a3f5f\",\"gridcolor\":\"white\",\"linecolor\":\"white\",\"minorgridcolor\":\"white\",\"startlinecolor\":\"#2a3f5f\"},\"type\":\"carpet\"}],\"choropleth\":[{\"colorbar\":{\"outlinewidth\":0,\"ticks\":\"\"},\"type\":\"choropleth\"}],\"contour\":[{\"colorbar\":{\"outlinewidth\":0,\"ticks\":\"\"},\"colorscale\":[[0.0,\"#0d0887\"],[0.1111111111111111,\"#46039f\"],[0.2222222222222222,\"#7201a8\"],[0.3333333333333333,\"#9c179e\"],[0.4444444444444444,\"#bd3786\"],[0.5555555555555556,\"#d8576b\"],[0.6666666666666666,\"#ed7953\"],[0.7777777777777778,\"#fb9f3a\"],[0.8888888888888888,\"#fdca26\"],[1.0,\"#f0f921\"]],\"type\":\"contour\"}],\"contourcarpet\":[{\"colorbar\":{\"outlinewidth\":0,\"ticks\":\"\"},\"type\":\"contourcarpet\"}],\"heatmap\":[{\"colorbar\":{\"outlinewidth\":0,\"ticks\":\"\"},\"colorscale\":[[0.0,\"#0d0887\"],[0.1111111111111111,\"#46039f\"],[0.2222222222222222,\"#7201a8\"],[0.3333333333333333,\"#9c179e\"],[0.4444444444444444,\"#bd3786\"],[0.5555555555555556,\"#d8576b\"],[0.6666666666666666,\"#ed7953\"],[0.7777777777777778,\"#fb9f3a\"],[0.8888888888888888,\"#fdca26\"],[1.0,\"#f0f921\"]],\"type\":\"heatmap\"}],\"heatmapgl\":[{\"colorbar\":{\"outlinewidth\":0,\"ticks\":\"\"},\"colorscale\":[[0.0,\"#0d0887\"],[0.1111111111111111,\"#46039f\"],[0.2222222222222222,\"#7201a8\"],[0.3333333333333333,\"#9c179e\"],[0.4444444444444444,\"#bd3786\"],[0.5555555555555556,\"#d8576b\"],[0.6666666666666666,\"#ed7953\"],[0.7777777777777778,\"#fb9f3a\"],[0.8888888888888888,\"#fdca26\"],[1.0,\"#f0f921\"]],\"type\":\"heatmapgl\"}],\"histogram\":[{\"marker\":{\"pattern\":{\"fillmode\":\"overlay\",\"size\":10,\"solidity\":0.2}},\"type\":\"histogram\"}],\"histogram2d\":[{\"colorbar\":{\"outlinewidth\":0,\"ticks\":\"\"},\"colorscale\":[[0.0,\"#0d0887\"],[0.1111111111111111,\"#46039f\"],[0.2222222222222222,\"#7201a8\"],[0.3333333333333333,\"#9c179e\"],[0.4444444444444444,\"#bd3786\"],[0.5555555555555556,\"#d8576b\"],[0.6666666666666666,\"#ed7953\"],[0.7777777777777778,\"#fb9f3a\"],[0.8888888888888888,\"#fdca26\"],[1.0,\"#f0f921\"]],\"type\":\"histogram2d\"}],\"histogram2dcontour\":[{\"colorbar\":{\"outlinewidth\":0,\"ticks\":\"\"},\"colorscale\":[[0.0,\"#0d0887\"],[0.1111111111111111,\"#46039f\"],[0.2222222222222222,\"#7201a8\"],[0.3333333333333333,\"#9c179e\"],[0.4444444444444444,\"#bd3786\"],[0.5555555555555556,\"#d8576b\"],[0.6666666666666666,\"#ed7953\"],[0.7777777777777778,\"#fb9f3a\"],[0.8888888888888888,\"#fdca26\"],[1.0,\"#f0f921\"]],\"type\":\"histogram2dcontour\"}],\"mesh3d\":[{\"colorbar\":{\"outlinewidth\":0,\"ticks\":\"\"},\"type\":\"mesh3d\"}],\"parcoords\":[{\"line\":{\"colorbar\":{\"outlinewidth\":0,\"ticks\":\"\"}},\"type\":\"parcoords\"}],\"pie\":[{\"automargin\":true,\"type\":\"pie\"}],\"scatter\":[{\"marker\":{\"colorbar\":{\"outlinewidth\":0,\"ticks\":\"\"}},\"type\":\"scatter\"}],\"scatter3d\":[{\"line\":{\"colorbar\":{\"outlinewidth\":0,\"ticks\":\"\"}},\"marker\":{\"colorbar\":{\"outlinewidth\":0,\"ticks\":\"\"}},\"type\":\"scatter3d\"}],\"scattercarpet\":[{\"marker\":{\"colorbar\":{\"outlinewidth\":0,\"ticks\":\"\"}},\"type\":\"scattercarpet\"}],\"scattergeo\":[{\"marker\":{\"colorbar\":{\"outlinewidth\":0,\"ticks\":\"\"}},\"type\":\"scattergeo\"}],\"scattergl\":[{\"marker\":{\"colorbar\":{\"outlinewidth\":0,\"ticks\":\"\"}},\"type\":\"scattergl\"}],\"scattermapbox\":[{\"marker\":{\"colorbar\":{\"outlinewidth\":0,\"ticks\":\"\"}},\"type\":\"scattermapbox\"}],\"scatterpolar\":[{\"marker\":{\"colorbar\":{\"outlinewidth\":0,\"ticks\":\"\"}},\"type\":\"scatterpolar\"}],\"scatterpolargl\":[{\"marker\":{\"colorbar\":{\"outlinewidth\":0,\"ticks\":\"\"}},\"type\":\"scatterpolargl\"}],\"scatterternary\":[{\"marker\":{\"colorbar\":{\"outlinewidth\":0,\"ticks\":\"\"}},\"type\":\"scatterternary\"}],\"surface\":[{\"colorbar\":{\"outlinewidth\":0,\"ticks\":\"\"},\"colorscale\":[[0.0,\"#0d0887\"],[0.1111111111111111,\"#46039f\"],[0.2222222222222222,\"#7201a8\"],[0.3333333333333333,\"#9c179e\"],[0.4444444444444444,\"#bd3786\"],[0.5555555555555556,\"#d8576b\"],[0.6666666666666666,\"#ed7953\"],[0.7777777777777778,\"#fb9f3a\"],[0.8888888888888888,\"#fdca26\"],[1.0,\"#f0f921\"]],\"type\":\"surface\"}],\"table\":[{\"cells\":{\"fill\":{\"color\":\"#EBF0F8\"},\"line\":{\"color\":\"white\"}},\"header\":{\"fill\":{\"color\":\"#C8D4E3\"},\"line\":{\"color\":\"white\"}},\"type\":\"table\"}]},\"layout\":{\"annotationdefaults\":{\"arrowcolor\":\"#2a3f5f\",\"arrowhead\":0,\"arrowwidth\":1},\"autotypenumbers\":\"strict\",\"coloraxis\":{\"colorbar\":{\"outlinewidth\":0,\"ticks\":\"\"}},\"colorscale\":{\"diverging\":[[0,\"#8e0152\"],[0.1,\"#c51b7d\"],[0.2,\"#de77ae\"],[0.3,\"#f1b6da\"],[0.4,\"#fde0ef\"],[0.5,\"#f7f7f7\"],[0.6,\"#e6f5d0\"],[0.7,\"#b8e186\"],[0.8,\"#7fbc41\"],[0.9,\"#4d9221\"],[1,\"#276419\"]],\"sequential\":[[0.0,\"#0d0887\"],[0.1111111111111111,\"#46039f\"],[0.2222222222222222,\"#7201a8\"],[0.3333333333333333,\"#9c179e\"],[0.4444444444444444,\"#bd3786\"],[0.5555555555555556,\"#d8576b\"],[0.6666666666666666,\"#ed7953\"],[0.7777777777777778,\"#fb9f3a\"],[0.8888888888888888,\"#fdca26\"],[1.0,\"#f0f921\"]],\"sequentialminus\":[[0.0,\"#0d0887\"],[0.1111111111111111,\"#46039f\"],[0.2222222222222222,\"#7201a8\"],[0.3333333333333333,\"#9c179e\"],[0.4444444444444444,\"#bd3786\"],[0.5555555555555556,\"#d8576b\"],[0.6666666666666666,\"#ed7953\"],[0.7777777777777778,\"#fb9f3a\"],[0.8888888888888888,\"#fdca26\"],[1.0,\"#f0f921\"]]},\"colorway\":[\"#636efa\",\"#EF553B\",\"#00cc96\",\"#ab63fa\",\"#FFA15A\",\"#19d3f3\",\"#FF6692\",\"#B6E880\",\"#FF97FF\",\"#FECB52\"],\"font\":{\"color\":\"#2a3f5f\"},\"geo\":{\"bgcolor\":\"white\",\"lakecolor\":\"white\",\"landcolor\":\"#E5ECF6\",\"showlakes\":true,\"showland\":true,\"subunitcolor\":\"white\"},\"hoverlabel\":{\"align\":\"left\"},\"hovermode\":\"closest\",\"mapbox\":{\"style\":\"light\"},\"paper_bgcolor\":\"white\",\"plot_bgcolor\":\"#E5ECF6\",\"polar\":{\"angularaxis\":{\"gridcolor\":\"white\",\"linecolor\":\"white\",\"ticks\":\"\"},\"bgcolor\":\"#E5ECF6\",\"radialaxis\":{\"gridcolor\":\"white\",\"linecolor\":\"white\",\"ticks\":\"\"}},\"scene\":{\"xaxis\":{\"backgroundcolor\":\"#E5ECF6\",\"gridcolor\":\"white\",\"gridwidth\":2,\"linecolor\":\"white\",\"showbackground\":true,\"ticks\":\"\",\"zerolinecolor\":\"white\"},\"yaxis\":{\"backgroundcolor\":\"#E5ECF6\",\"gridcolor\":\"white\",\"gridwidth\":2,\"linecolor\":\"white\",\"showbackground\":true,\"ticks\":\"\",\"zerolinecolor\":\"white\"},\"zaxis\":{\"backgroundcolor\":\"#E5ECF6\",\"gridcolor\":\"white\",\"gridwidth\":2,\"linecolor\":\"white\",\"showbackground\":true,\"ticks\":\"\",\"zerolinecolor\":\"white\"}},\"shapedefaults\":{\"line\":{\"color\":\"#2a3f5f\"}},\"ternary\":{\"aaxis\":{\"gridcolor\":\"white\",\"linecolor\":\"white\",\"ticks\":\"\"},\"baxis\":{\"gridcolor\":\"white\",\"linecolor\":\"white\",\"ticks\":\"\"},\"bgcolor\":\"#E5ECF6\",\"caxis\":{\"gridcolor\":\"white\",\"linecolor\":\"white\",\"ticks\":\"\"}},\"title\":{\"x\":0.05},\"xaxis\":{\"automargin\":true,\"gridcolor\":\"white\",\"linecolor\":\"white\",\"ticks\":\"\",\"title\":{\"standoff\":15},\"zerolinecolor\":\"white\",\"zerolinewidth\":2},\"yaxis\":{\"automargin\":true,\"gridcolor\":\"white\",\"linecolor\":\"white\",\"ticks\":\"\",\"title\":{\"standoff\":15},\"zerolinecolor\":\"white\",\"zerolinewidth\":2}}},\"xaxis\":{\"anchor\":\"y\",\"domain\":[0.0,1.0],\"title\":{\"text\":\"x\"}},\"yaxis\":{\"anchor\":\"x\",\"domain\":[0.0,1.0],\"title\":{\"text\":\"y\"}},\"coloraxis\":{\"colorbar\":{\"title\":{\"text\":\"cluster_pca\"}},\"colorscale\":[[0.0,\"#0d0887\"],[0.1111111111111111,\"#46039f\"],[0.2222222222222222,\"#7201a8\"],[0.3333333333333333,\"#9c179e\"],[0.4444444444444444,\"#bd3786\"],[0.5555555555555556,\"#d8576b\"],[0.6666666666666666,\"#ed7953\"],[0.7777777777777778,\"#fb9f3a\"],[0.8888888888888888,\"#fdca26\"],[1.0,\"#f0f921\"]]},\"legend\":{\"tracegroupgap\":0},\"margin\":{\"t\":60}},                        {\"responsive\": true}                    ).then(function(){\n",
              "                            \n",
              "var gd = document.getElementById('263bdf44-4660-48a4-8b91-7bacb230baf1');\n",
              "var x = new MutationObserver(function (mutations, observer) {{\n",
              "        var display = window.getComputedStyle(gd).display;\n",
              "        if (!display || display === 'none') {{\n",
              "            console.log([gd, 'removed!']);\n",
              "            Plotly.purge(gd);\n",
              "            observer.disconnect();\n",
              "        }}\n",
              "}});\n",
              "\n",
              "// Listen for the removal of the full notebook cells\n",
              "var notebookContainer = gd.closest('#notebook-container');\n",
              "if (notebookContainer) {{\n",
              "    x.observe(notebookContainer, {childList: true});\n",
              "}}\n",
              "\n",
              "// Listen for the clearing of the current output cell\n",
              "var outputEl = gd.closest('.output');\n",
              "if (outputEl) {{\n",
              "    x.observe(outputEl, {childList: true});\n",
              "}}\n",
              "\n",
              "                        })                };                            </script>        </div>\n",
              "</body>\n",
              "</html>"
            ]
          },
          "metadata": {}
        }
      ]
    },
    {
      "cell_type": "code",
      "source": [
        "pca_pipeline[1].explained_variance_ratio_.sum()"
      ],
      "metadata": {
        "colab": {
          "base_uri": "https://localhost:8080/"
        },
        "id": "MRaveSDjwEhf",
        "outputId": "c247feeb-37b7-44d2-a69b-6827aa42d230"
      },
      "execution_count": 33,
      "outputs": [
        {
          "output_type": "execute_result",
          "data": {
            "text/plain": [
              "0.49270669947266377"
            ]
          },
          "metadata": {},
          "execution_count": 33
        }
      ]
    },
    {
      "cell_type": "code",
      "source": [
        "pca_pipeline[1].explained_variance_.sum()"
      ],
      "metadata": {
        "colab": {
          "base_uri": "https://localhost:8080/"
        },
        "id": "Uy2SXoOzwQyo",
        "outputId": "7dd6774a-07b5-441c-ac92-326de3d5de30"
      },
      "execution_count": 34,
      "outputs": [
        {
          "output_type": "execute_result",
          "data": {
            "text/plain": [
              "5.421597305805694"
            ]
          },
          "metadata": {},
          "execution_count": 34
        }
      ]
    },
    {
      "cell_type": "markdown",
      "source": [
        "### Clustering by Song"
      ],
      "metadata": {
        "id": "_mwSe2txwZ8D"
      }
    },
    {
      "cell_type": "markdown",
      "source": [
        "Before we have clustered the genres of our dataset, now we want to cluster the songs, so we turn to our dataset 'data'."
      ],
      "metadata": {
        "id": "09w-qluvz2cx"
      }
    },
    {
      "cell_type": "code",
      "source": [
        "data.head(2)"
      ],
      "metadata": {
        "colab": {
          "base_uri": "https://localhost:8080/",
          "height": 0
        },
        "id": "bFpwioswwckM",
        "outputId": "5334093c-eb77-4582-96ea-7051c6dd191d"
      },
      "execution_count": 35,
      "outputs": [
        {
          "output_type": "execute_result",
          "data": {
            "text/plain": [
              "   valence  year  acousticness   artists  danceability  duration_ms  energy  \\\n",
              "0    0.285  2000       0.00239  Coldplay         0.429       266773   0.661   \n",
              "1    0.613  2000       0.14300   OutKast         0.843       270507   0.806   \n",
              "\n",
              "                       id  instrumentalness  liveness  loudness         name  \\\n",
              "0  3AJwUDP919kvQ9QcozQPxg          0.000121    0.2340    -7.227       Yellow   \n",
              "1  0I3q5fE6wg7LIfHGngUTnV          0.000000    0.0771    -5.946  Ms. Jackson   \n",
              "\n",
              "   popularity  speechiness    tempo           artists_song  \n",
              "0          84       0.0281  173.372      Coldplay - Yellow  \n",
              "1          80       0.2690   94.948  OutKast - Ms. Jackson  "
            ],
            "text/html": [
              "\n",
              "  <div id=\"df-e191c075-c96a-4f54-9db9-dae38cb83e61\">\n",
              "    <div class=\"colab-df-container\">\n",
              "      <div>\n",
              "<style scoped>\n",
              "    .dataframe tbody tr th:only-of-type {\n",
              "        vertical-align: middle;\n",
              "    }\n",
              "\n",
              "    .dataframe tbody tr th {\n",
              "        vertical-align: top;\n",
              "    }\n",
              "\n",
              "    .dataframe thead th {\n",
              "        text-align: right;\n",
              "    }\n",
              "</style>\n",
              "<table border=\"1\" class=\"dataframe\">\n",
              "  <thead>\n",
              "    <tr style=\"text-align: right;\">\n",
              "      <th></th>\n",
              "      <th>valence</th>\n",
              "      <th>year</th>\n",
              "      <th>acousticness</th>\n",
              "      <th>artists</th>\n",
              "      <th>danceability</th>\n",
              "      <th>duration_ms</th>\n",
              "      <th>energy</th>\n",
              "      <th>id</th>\n",
              "      <th>instrumentalness</th>\n",
              "      <th>liveness</th>\n",
              "      <th>loudness</th>\n",
              "      <th>name</th>\n",
              "      <th>popularity</th>\n",
              "      <th>speechiness</th>\n",
              "      <th>tempo</th>\n",
              "      <th>artists_song</th>\n",
              "    </tr>\n",
              "  </thead>\n",
              "  <tbody>\n",
              "    <tr>\n",
              "      <th>0</th>\n",
              "      <td>0.285</td>\n",
              "      <td>2000</td>\n",
              "      <td>0.00239</td>\n",
              "      <td>Coldplay</td>\n",
              "      <td>0.429</td>\n",
              "      <td>266773</td>\n",
              "      <td>0.661</td>\n",
              "      <td>3AJwUDP919kvQ9QcozQPxg</td>\n",
              "      <td>0.000121</td>\n",
              "      <td>0.2340</td>\n",
              "      <td>-7.227</td>\n",
              "      <td>Yellow</td>\n",
              "      <td>84</td>\n",
              "      <td>0.0281</td>\n",
              "      <td>173.372</td>\n",
              "      <td>Coldplay - Yellow</td>\n",
              "    </tr>\n",
              "    <tr>\n",
              "      <th>1</th>\n",
              "      <td>0.613</td>\n",
              "      <td>2000</td>\n",
              "      <td>0.14300</td>\n",
              "      <td>OutKast</td>\n",
              "      <td>0.843</td>\n",
              "      <td>270507</td>\n",
              "      <td>0.806</td>\n",
              "      <td>0I3q5fE6wg7LIfHGngUTnV</td>\n",
              "      <td>0.000000</td>\n",
              "      <td>0.0771</td>\n",
              "      <td>-5.946</td>\n",
              "      <td>Ms. Jackson</td>\n",
              "      <td>80</td>\n",
              "      <td>0.2690</td>\n",
              "      <td>94.948</td>\n",
              "      <td>OutKast - Ms. Jackson</td>\n",
              "    </tr>\n",
              "  </tbody>\n",
              "</table>\n",
              "</div>\n",
              "      <button class=\"colab-df-convert\" onclick=\"convertToInteractive('df-e191c075-c96a-4f54-9db9-dae38cb83e61')\"\n",
              "              title=\"Convert this dataframe to an interactive table.\"\n",
              "              style=\"display:none;\">\n",
              "        \n",
              "  <svg xmlns=\"http://www.w3.org/2000/svg\" height=\"24px\"viewBox=\"0 0 24 24\"\n",
              "       width=\"24px\">\n",
              "    <path d=\"M0 0h24v24H0V0z\" fill=\"none\"/>\n",
              "    <path d=\"M18.56 5.44l.94 2.06.94-2.06 2.06-.94-2.06-.94-.94-2.06-.94 2.06-2.06.94zm-11 1L8.5 8.5l.94-2.06 2.06-.94-2.06-.94L8.5 2.5l-.94 2.06-2.06.94zm10 10l.94 2.06.94-2.06 2.06-.94-2.06-.94-.94-2.06-.94 2.06-2.06.94z\"/><path d=\"M17.41 7.96l-1.37-1.37c-.4-.4-.92-.59-1.43-.59-.52 0-1.04.2-1.43.59L10.3 9.45l-7.72 7.72c-.78.78-.78 2.05 0 2.83L4 21.41c.39.39.9.59 1.41.59.51 0 1.02-.2 1.41-.59l7.78-7.78 2.81-2.81c.8-.78.8-2.07 0-2.86zM5.41 20L4 18.59l7.72-7.72 1.47 1.35L5.41 20z\"/>\n",
              "  </svg>\n",
              "      </button>\n",
              "      \n",
              "  <style>\n",
              "    .colab-df-container {\n",
              "      display:flex;\n",
              "      flex-wrap:wrap;\n",
              "      gap: 12px;\n",
              "    }\n",
              "\n",
              "    .colab-df-convert {\n",
              "      background-color: #E8F0FE;\n",
              "      border: none;\n",
              "      border-radius: 50%;\n",
              "      cursor: pointer;\n",
              "      display: none;\n",
              "      fill: #1967D2;\n",
              "      height: 32px;\n",
              "      padding: 0 0 0 0;\n",
              "      width: 32px;\n",
              "    }\n",
              "\n",
              "    .colab-df-convert:hover {\n",
              "      background-color: #E2EBFA;\n",
              "      box-shadow: 0px 1px 2px rgba(60, 64, 67, 0.3), 0px 1px 3px 1px rgba(60, 64, 67, 0.15);\n",
              "      fill: #174EA6;\n",
              "    }\n",
              "\n",
              "    [theme=dark] .colab-df-convert {\n",
              "      background-color: #3B4455;\n",
              "      fill: #D2E3FC;\n",
              "    }\n",
              "\n",
              "    [theme=dark] .colab-df-convert:hover {\n",
              "      background-color: #434B5C;\n",
              "      box-shadow: 0px 1px 3px 1px rgba(0, 0, 0, 0.15);\n",
              "      filter: drop-shadow(0px 1px 2px rgba(0, 0, 0, 0.3));\n",
              "      fill: #FFFFFF;\n",
              "    }\n",
              "  </style>\n",
              "\n",
              "      <script>\n",
              "        const buttonEl =\n",
              "          document.querySelector('#df-e191c075-c96a-4f54-9db9-dae38cb83e61 button.colab-df-convert');\n",
              "        buttonEl.style.display =\n",
              "          google.colab.kernel.accessAllowed ? 'block' : 'none';\n",
              "\n",
              "        async function convertToInteractive(key) {\n",
              "          const element = document.querySelector('#df-e191c075-c96a-4f54-9db9-dae38cb83e61');\n",
              "          const dataTable =\n",
              "            await google.colab.kernel.invokeFunction('convertToInteractive',\n",
              "                                                     [key], {});\n",
              "          if (!dataTable) return;\n",
              "\n",
              "          const docLinkHtml = 'Like what you see? Visit the ' +\n",
              "            '<a target=\"_blank\" href=https://colab.research.google.com/notebooks/data_table.ipynb>data table notebook</a>'\n",
              "            + ' to learn more about interactive tables.';\n",
              "          element.innerHTML = '';\n",
              "          dataTable['output_type'] = 'display_data';\n",
              "          await google.colab.output.renderOutput(dataTable, element);\n",
              "          const docLink = document.createElement('div');\n",
              "          docLink.innerHTML = docLinkHtml;\n",
              "          element.appendChild(docLink);\n",
              "        }\n",
              "      </script>\n",
              "    </div>\n",
              "  </div>\n",
              "  "
            ]
          },
          "metadata": {},
          "execution_count": 35
        }
      ]
    },
    {
      "cell_type": "code",
      "source": [
        "print('Number of artists that appears in dataframe:',len(data['artists'].value_counts()))\n",
        "print('Number of artists_song that appears in dataframe:',len(data['artists_song'].value_counts()))"
      ],
      "metadata": {
        "colab": {
          "base_uri": "https://localhost:8080/"
        },
        "id": "wY7xjnwU0VMx",
        "outputId": "f2d58189-b8eb-493d-c108-3e4233e36102"
      },
      "execution_count": 36,
      "outputs": [
        {
          "output_type": "stream",
          "name": "stdout",
          "text": [
            "Number of artists that appears in dataframe: 875\n",
            "Number of artists_song that appears in dataframe: 20311\n"
          ]
        }
      ]
    },
    {
      "cell_type": "markdown",
      "source": [
        "As we have more artists_song (obvious because some artist have several songs) it's easy to encode the artist. To this goal we're using one_hot_encoder."
      ],
      "metadata": {
        "id": "rc0kvRpC04KZ"
      }
    },
    {
      "cell_type": "code",
      "source": [
        "from sklearn.preprocessing import OneHotEncoder\n",
        "ohe=OneHotEncoder(dtype=int)\n",
        "columns_ohe = ohe.fit_transform(data[['artists']]).toarray()\n",
        "data2 = data.drop(['artists'],axis=1)\n",
        "data_songs_dummies = pd.concat([data2,pd.DataFrame(columns_ohe,columns = ohe.get_feature_names_out(['artists']))],axis=1)\n",
        "data_songs_dummies"
      ],
      "metadata": {
        "colab": {
          "base_uri": "https://localhost:8080/",
          "height": 0
        },
        "id": "Ps81oI-91B3M",
        "outputId": "bcfeef26-2753-4aae-ce41-614bc9d99a43"
      },
      "execution_count": 37,
      "outputs": [
        {
          "output_type": "execute_result",
          "data": {
            "text/plain": [
              "       valence  year  acousticness  danceability  duration_ms  energy  \\\n",
              "0        0.285  2000       0.00239         0.429       266773   0.661   \n",
              "1        0.613  2000       0.14300         0.843       270507   0.806   \n",
              "2        0.400  2000       0.00958         0.556       216880   0.864   \n",
              "3        0.543  2000       0.00664         0.545       233933   0.865   \n",
              "4        0.760  2000       0.03020         0.949       284200   0.661   \n",
              "...        ...   ...           ...           ...          ...     ...   \n",
              "20306    0.187  2020       0.57400         0.445       176250   0.330   \n",
              "20307    0.240  2020       0.81500         0.467       179188   0.429   \n",
              "20308    0.466  2020       0.31000         0.562       253613   0.686   \n",
              "20309    0.522  2020       0.20400         0.598       230600   0.472   \n",
              "20310    0.195  2020       0.00998         0.671       337147   0.623   \n",
              "\n",
              "                           id  instrumentalness  liveness  loudness  ...  \\\n",
              "0      3AJwUDP919kvQ9QcozQPxg          0.000121    0.2340    -7.227  ...   \n",
              "1      0I3q5fE6wg7LIfHGngUTnV          0.000000    0.0771    -5.946  ...   \n",
              "2      60a0Rd6pjrkxjPbaKzXjfq          0.000000    0.2090    -5.870  ...   \n",
              "3      6ZOBP3NvffbU4SZcrnt1k6          0.000011    0.1680    -5.708  ...   \n",
              "4      3yfqSUWxFvZELEM4PmlwIR          0.000000    0.0454    -4.244  ...   \n",
              "...                       ...               ...       ...       ...  ...   \n",
              "20306  0PUkanqCGTb6qseXPKOw1F          0.000000    0.1020    -8.121  ...   \n",
              "20307  6Iw6fQVKZi0fWtEQBrTFcP          0.000052    0.1770    -8.689  ...   \n",
              "20308  308prODCCD0O660tIktbUi          0.022500    0.1250    -8.480  ...   \n",
              "20309  2f8y4CuG57UJEmkG3ujd0D          0.000015    0.1080   -10.991  ...   \n",
              "20310  5SiZJoLXp3WOl3J4C8IK0d          0.000008    0.6430    -7.161  ...   \n",
              "\n",
              "      artists_Zara Larsson  artists_Zedd  artists_alt-J  artists_blackbear  \\\n",
              "0                        0             0              0                  0   \n",
              "1                        0             0              0                  0   \n",
              "2                        0             0              0                  0   \n",
              "3                        0             0              0                  0   \n",
              "4                        0             0              0                  0   \n",
              "...                    ...           ...            ...                ...   \n",
              "20306                    0             0              0                  0   \n",
              "20307                    0             0              0                  0   \n",
              "20308                    0             0              0                  0   \n",
              "20309                    0             0              0                  0   \n",
              "20310                    0             0              0                  0   \n",
              "\n",
              "      artists_blink-182  artists_deadmau5  artists_for KING & COUNTRY  \\\n",
              "0                     0                 0                           0   \n",
              "1                     0                 0                           0   \n",
              "2                     0                 0                           0   \n",
              "3                     0                 0                           0   \n",
              "4                     0                 0                           0   \n",
              "...                 ...               ...                         ...   \n",
              "20306                 0                 0                           0   \n",
              "20307                 0                 0                           0   \n",
              "20308                 0                 0                           0   \n",
              "20309                 0                 0                           0   \n",
              "20310                 0                 0                           0   \n",
              "\n",
              "       artists_fun.  artists_girl in red  artists_iann dior  \n",
              "0                 0                    0                  0  \n",
              "1                 0                    0                  0  \n",
              "2                 0                    0                  0  \n",
              "3                 0                    0                  0  \n",
              "4                 0                    0                  0  \n",
              "...             ...                  ...                ...  \n",
              "20306             0                    0                  0  \n",
              "20307             0                    0                  0  \n",
              "20308             0                    0                  0  \n",
              "20309             0                    0                  0  \n",
              "20310             0                    0                  0  \n",
              "\n",
              "[20311 rows x 890 columns]"
            ],
            "text/html": [
              "\n",
              "  <div id=\"df-31f29361-2c4c-42e7-ad6b-c49282e3b5b9\">\n",
              "    <div class=\"colab-df-container\">\n",
              "      <div>\n",
              "<style scoped>\n",
              "    .dataframe tbody tr th:only-of-type {\n",
              "        vertical-align: middle;\n",
              "    }\n",
              "\n",
              "    .dataframe tbody tr th {\n",
              "        vertical-align: top;\n",
              "    }\n",
              "\n",
              "    .dataframe thead th {\n",
              "        text-align: right;\n",
              "    }\n",
              "</style>\n",
              "<table border=\"1\" class=\"dataframe\">\n",
              "  <thead>\n",
              "    <tr style=\"text-align: right;\">\n",
              "      <th></th>\n",
              "      <th>valence</th>\n",
              "      <th>year</th>\n",
              "      <th>acousticness</th>\n",
              "      <th>danceability</th>\n",
              "      <th>duration_ms</th>\n",
              "      <th>energy</th>\n",
              "      <th>id</th>\n",
              "      <th>instrumentalness</th>\n",
              "      <th>liveness</th>\n",
              "      <th>loudness</th>\n",
              "      <th>...</th>\n",
              "      <th>artists_Zara Larsson</th>\n",
              "      <th>artists_Zedd</th>\n",
              "      <th>artists_alt-J</th>\n",
              "      <th>artists_blackbear</th>\n",
              "      <th>artists_blink-182</th>\n",
              "      <th>artists_deadmau5</th>\n",
              "      <th>artists_for KING &amp; COUNTRY</th>\n",
              "      <th>artists_fun.</th>\n",
              "      <th>artists_girl in red</th>\n",
              "      <th>artists_iann dior</th>\n",
              "    </tr>\n",
              "  </thead>\n",
              "  <tbody>\n",
              "    <tr>\n",
              "      <th>0</th>\n",
              "      <td>0.285</td>\n",
              "      <td>2000</td>\n",
              "      <td>0.00239</td>\n",
              "      <td>0.429</td>\n",
              "      <td>266773</td>\n",
              "      <td>0.661</td>\n",
              "      <td>3AJwUDP919kvQ9QcozQPxg</td>\n",
              "      <td>0.000121</td>\n",
              "      <td>0.2340</td>\n",
              "      <td>-7.227</td>\n",
              "      <td>...</td>\n",
              "      <td>0</td>\n",
              "      <td>0</td>\n",
              "      <td>0</td>\n",
              "      <td>0</td>\n",
              "      <td>0</td>\n",
              "      <td>0</td>\n",
              "      <td>0</td>\n",
              "      <td>0</td>\n",
              "      <td>0</td>\n",
              "      <td>0</td>\n",
              "    </tr>\n",
              "    <tr>\n",
              "      <th>1</th>\n",
              "      <td>0.613</td>\n",
              "      <td>2000</td>\n",
              "      <td>0.14300</td>\n",
              "      <td>0.843</td>\n",
              "      <td>270507</td>\n",
              "      <td>0.806</td>\n",
              "      <td>0I3q5fE6wg7LIfHGngUTnV</td>\n",
              "      <td>0.000000</td>\n",
              "      <td>0.0771</td>\n",
              "      <td>-5.946</td>\n",
              "      <td>...</td>\n",
              "      <td>0</td>\n",
              "      <td>0</td>\n",
              "      <td>0</td>\n",
              "      <td>0</td>\n",
              "      <td>0</td>\n",
              "      <td>0</td>\n",
              "      <td>0</td>\n",
              "      <td>0</td>\n",
              "      <td>0</td>\n",
              "      <td>0</td>\n",
              "    </tr>\n",
              "    <tr>\n",
              "      <th>2</th>\n",
              "      <td>0.400</td>\n",
              "      <td>2000</td>\n",
              "      <td>0.00958</td>\n",
              "      <td>0.556</td>\n",
              "      <td>216880</td>\n",
              "      <td>0.864</td>\n",
              "      <td>60a0Rd6pjrkxjPbaKzXjfq</td>\n",
              "      <td>0.000000</td>\n",
              "      <td>0.2090</td>\n",
              "      <td>-5.870</td>\n",
              "      <td>...</td>\n",
              "      <td>0</td>\n",
              "      <td>0</td>\n",
              "      <td>0</td>\n",
              "      <td>0</td>\n",
              "      <td>0</td>\n",
              "      <td>0</td>\n",
              "      <td>0</td>\n",
              "      <td>0</td>\n",
              "      <td>0</td>\n",
              "      <td>0</td>\n",
              "    </tr>\n",
              "    <tr>\n",
              "      <th>3</th>\n",
              "      <td>0.543</td>\n",
              "      <td>2000</td>\n",
              "      <td>0.00664</td>\n",
              "      <td>0.545</td>\n",
              "      <td>233933</td>\n",
              "      <td>0.865</td>\n",
              "      <td>6ZOBP3NvffbU4SZcrnt1k6</td>\n",
              "      <td>0.000011</td>\n",
              "      <td>0.1680</td>\n",
              "      <td>-5.708</td>\n",
              "      <td>...</td>\n",
              "      <td>0</td>\n",
              "      <td>0</td>\n",
              "      <td>0</td>\n",
              "      <td>0</td>\n",
              "      <td>0</td>\n",
              "      <td>0</td>\n",
              "      <td>0</td>\n",
              "      <td>0</td>\n",
              "      <td>0</td>\n",
              "      <td>0</td>\n",
              "    </tr>\n",
              "    <tr>\n",
              "      <th>4</th>\n",
              "      <td>0.760</td>\n",
              "      <td>2000</td>\n",
              "      <td>0.03020</td>\n",
              "      <td>0.949</td>\n",
              "      <td>284200</td>\n",
              "      <td>0.661</td>\n",
              "      <td>3yfqSUWxFvZELEM4PmlwIR</td>\n",
              "      <td>0.000000</td>\n",
              "      <td>0.0454</td>\n",
              "      <td>-4.244</td>\n",
              "      <td>...</td>\n",
              "      <td>0</td>\n",
              "      <td>0</td>\n",
              "      <td>0</td>\n",
              "      <td>0</td>\n",
              "      <td>0</td>\n",
              "      <td>0</td>\n",
              "      <td>0</td>\n",
              "      <td>0</td>\n",
              "      <td>0</td>\n",
              "      <td>0</td>\n",
              "    </tr>\n",
              "    <tr>\n",
              "      <th>...</th>\n",
              "      <td>...</td>\n",
              "      <td>...</td>\n",
              "      <td>...</td>\n",
              "      <td>...</td>\n",
              "      <td>...</td>\n",
              "      <td>...</td>\n",
              "      <td>...</td>\n",
              "      <td>...</td>\n",
              "      <td>...</td>\n",
              "      <td>...</td>\n",
              "      <td>...</td>\n",
              "      <td>...</td>\n",
              "      <td>...</td>\n",
              "      <td>...</td>\n",
              "      <td>...</td>\n",
              "      <td>...</td>\n",
              "      <td>...</td>\n",
              "      <td>...</td>\n",
              "      <td>...</td>\n",
              "      <td>...</td>\n",
              "      <td>...</td>\n",
              "    </tr>\n",
              "    <tr>\n",
              "      <th>20306</th>\n",
              "      <td>0.187</td>\n",
              "      <td>2020</td>\n",
              "      <td>0.57400</td>\n",
              "      <td>0.445</td>\n",
              "      <td>176250</td>\n",
              "      <td>0.330</td>\n",
              "      <td>0PUkanqCGTb6qseXPKOw1F</td>\n",
              "      <td>0.000000</td>\n",
              "      <td>0.1020</td>\n",
              "      <td>-8.121</td>\n",
              "      <td>...</td>\n",
              "      <td>0</td>\n",
              "      <td>0</td>\n",
              "      <td>0</td>\n",
              "      <td>0</td>\n",
              "      <td>0</td>\n",
              "      <td>0</td>\n",
              "      <td>0</td>\n",
              "      <td>0</td>\n",
              "      <td>0</td>\n",
              "      <td>0</td>\n",
              "    </tr>\n",
              "    <tr>\n",
              "      <th>20307</th>\n",
              "      <td>0.240</td>\n",
              "      <td>2020</td>\n",
              "      <td>0.81500</td>\n",
              "      <td>0.467</td>\n",
              "      <td>179188</td>\n",
              "      <td>0.429</td>\n",
              "      <td>6Iw6fQVKZi0fWtEQBrTFcP</td>\n",
              "      <td>0.000052</td>\n",
              "      <td>0.1770</td>\n",
              "      <td>-8.689</td>\n",
              "      <td>...</td>\n",
              "      <td>0</td>\n",
              "      <td>0</td>\n",
              "      <td>0</td>\n",
              "      <td>0</td>\n",
              "      <td>0</td>\n",
              "      <td>0</td>\n",
              "      <td>0</td>\n",
              "      <td>0</td>\n",
              "      <td>0</td>\n",
              "      <td>0</td>\n",
              "    </tr>\n",
              "    <tr>\n",
              "      <th>20308</th>\n",
              "      <td>0.466</td>\n",
              "      <td>2020</td>\n",
              "      <td>0.31000</td>\n",
              "      <td>0.562</td>\n",
              "      <td>253613</td>\n",
              "      <td>0.686</td>\n",
              "      <td>308prODCCD0O660tIktbUi</td>\n",
              "      <td>0.022500</td>\n",
              "      <td>0.1250</td>\n",
              "      <td>-8.480</td>\n",
              "      <td>...</td>\n",
              "      <td>0</td>\n",
              "      <td>0</td>\n",
              "      <td>0</td>\n",
              "      <td>0</td>\n",
              "      <td>0</td>\n",
              "      <td>0</td>\n",
              "      <td>0</td>\n",
              "      <td>0</td>\n",
              "      <td>0</td>\n",
              "      <td>0</td>\n",
              "    </tr>\n",
              "    <tr>\n",
              "      <th>20309</th>\n",
              "      <td>0.522</td>\n",
              "      <td>2020</td>\n",
              "      <td>0.20400</td>\n",
              "      <td>0.598</td>\n",
              "      <td>230600</td>\n",
              "      <td>0.472</td>\n",
              "      <td>2f8y4CuG57UJEmkG3ujd0D</td>\n",
              "      <td>0.000015</td>\n",
              "      <td>0.1080</td>\n",
              "      <td>-10.991</td>\n",
              "      <td>...</td>\n",
              "      <td>0</td>\n",
              "      <td>0</td>\n",
              "      <td>0</td>\n",
              "      <td>0</td>\n",
              "      <td>0</td>\n",
              "      <td>0</td>\n",
              "      <td>0</td>\n",
              "      <td>0</td>\n",
              "      <td>0</td>\n",
              "      <td>0</td>\n",
              "    </tr>\n",
              "    <tr>\n",
              "      <th>20310</th>\n",
              "      <td>0.195</td>\n",
              "      <td>2020</td>\n",
              "      <td>0.00998</td>\n",
              "      <td>0.671</td>\n",
              "      <td>337147</td>\n",
              "      <td>0.623</td>\n",
              "      <td>5SiZJoLXp3WOl3J4C8IK0d</td>\n",
              "      <td>0.000008</td>\n",
              "      <td>0.6430</td>\n",
              "      <td>-7.161</td>\n",
              "      <td>...</td>\n",
              "      <td>0</td>\n",
              "      <td>0</td>\n",
              "      <td>0</td>\n",
              "      <td>0</td>\n",
              "      <td>0</td>\n",
              "      <td>0</td>\n",
              "      <td>0</td>\n",
              "      <td>0</td>\n",
              "      <td>0</td>\n",
              "      <td>0</td>\n",
              "    </tr>\n",
              "  </tbody>\n",
              "</table>\n",
              "<p>20311 rows × 890 columns</p>\n",
              "</div>\n",
              "      <button class=\"colab-df-convert\" onclick=\"convertToInteractive('df-31f29361-2c4c-42e7-ad6b-c49282e3b5b9')\"\n",
              "              title=\"Convert this dataframe to an interactive table.\"\n",
              "              style=\"display:none;\">\n",
              "        \n",
              "  <svg xmlns=\"http://www.w3.org/2000/svg\" height=\"24px\"viewBox=\"0 0 24 24\"\n",
              "       width=\"24px\">\n",
              "    <path d=\"M0 0h24v24H0V0z\" fill=\"none\"/>\n",
              "    <path d=\"M18.56 5.44l.94 2.06.94-2.06 2.06-.94-2.06-.94-.94-2.06-.94 2.06-2.06.94zm-11 1L8.5 8.5l.94-2.06 2.06-.94-2.06-.94L8.5 2.5l-.94 2.06-2.06.94zm10 10l.94 2.06.94-2.06 2.06-.94-2.06-.94-.94-2.06-.94 2.06-2.06.94z\"/><path d=\"M17.41 7.96l-1.37-1.37c-.4-.4-.92-.59-1.43-.59-.52 0-1.04.2-1.43.59L10.3 9.45l-7.72 7.72c-.78.78-.78 2.05 0 2.83L4 21.41c.39.39.9.59 1.41.59.51 0 1.02-.2 1.41-.59l7.78-7.78 2.81-2.81c.8-.78.8-2.07 0-2.86zM5.41 20L4 18.59l7.72-7.72 1.47 1.35L5.41 20z\"/>\n",
              "  </svg>\n",
              "      </button>\n",
              "      \n",
              "  <style>\n",
              "    .colab-df-container {\n",
              "      display:flex;\n",
              "      flex-wrap:wrap;\n",
              "      gap: 12px;\n",
              "    }\n",
              "\n",
              "    .colab-df-convert {\n",
              "      background-color: #E8F0FE;\n",
              "      border: none;\n",
              "      border-radius: 50%;\n",
              "      cursor: pointer;\n",
              "      display: none;\n",
              "      fill: #1967D2;\n",
              "      height: 32px;\n",
              "      padding: 0 0 0 0;\n",
              "      width: 32px;\n",
              "    }\n",
              "\n",
              "    .colab-df-convert:hover {\n",
              "      background-color: #E2EBFA;\n",
              "      box-shadow: 0px 1px 2px rgba(60, 64, 67, 0.3), 0px 1px 3px 1px rgba(60, 64, 67, 0.15);\n",
              "      fill: #174EA6;\n",
              "    }\n",
              "\n",
              "    [theme=dark] .colab-df-convert {\n",
              "      background-color: #3B4455;\n",
              "      fill: #D2E3FC;\n",
              "    }\n",
              "\n",
              "    [theme=dark] .colab-df-convert:hover {\n",
              "      background-color: #434B5C;\n",
              "      box-shadow: 0px 1px 3px 1px rgba(0, 0, 0, 0.15);\n",
              "      filter: drop-shadow(0px 1px 2px rgba(0, 0, 0, 0.3));\n",
              "      fill: #FFFFFF;\n",
              "    }\n",
              "  </style>\n",
              "\n",
              "      <script>\n",
              "        const buttonEl =\n",
              "          document.querySelector('#df-31f29361-2c4c-42e7-ad6b-c49282e3b5b9 button.colab-df-convert');\n",
              "        buttonEl.style.display =\n",
              "          google.colab.kernel.accessAllowed ? 'block' : 'none';\n",
              "\n",
              "        async function convertToInteractive(key) {\n",
              "          const element = document.querySelector('#df-31f29361-2c4c-42e7-ad6b-c49282e3b5b9');\n",
              "          const dataTable =\n",
              "            await google.colab.kernel.invokeFunction('convertToInteractive',\n",
              "                                                     [key], {});\n",
              "          if (!dataTable) return;\n",
              "\n",
              "          const docLinkHtml = 'Like what you see? Visit the ' +\n",
              "            '<a target=\"_blank\" href=https://colab.research.google.com/notebooks/data_table.ipynb>data table notebook</a>'\n",
              "            + ' to learn more about interactive tables.';\n",
              "          element.innerHTML = '';\n",
              "          dataTable['output_type'] = 'display_data';\n",
              "          await google.colab.output.renderOutput(dataTable, element);\n",
              "          const docLink = document.createElement('div');\n",
              "          docLink.innerHTML = docLinkHtml;\n",
              "          element.appendChild(docLink);\n",
              "        }\n",
              "      </script>\n",
              "    </div>\n",
              "  </div>\n",
              "  "
            ]
          },
          "metadata": {},
          "execution_count": 37
        }
      ]
    },
    {
      "cell_type": "code",
      "source": [
        "pca_pipeline = Pipeline([('Scaler',StandardScaler()),('PCA',PCA(n_components=0.7,random_state=1))])\n",
        "songs_pca = pca_pipeline.fit_transform(data_songs_dummies.drop(['id','name','artists_song'],axis=1))\n",
        "projection_m = pd.DataFrame(data=songs_pca)"
      ],
      "metadata": {
        "id": "tpK34Lzt5k4L"
      },
      "execution_count": 38,
      "outputs": []
    },
    {
      "cell_type": "code",
      "source": [
        "kmeans_pca_m = KMeans(n_clusters=40,verbose=False,random_state=1)\n",
        "kmeans_pca_m.fit(projection_m)\n",
        "data['cluster_pca'] = kmeans_pca_m.predict(projection_m)\n",
        "projection_m['cluster_pca'] = kmeans_pca_m.predict(projection_m)"
      ],
      "metadata": {
        "id": "YGLvf5Qw64Av"
      },
      "execution_count": null,
      "outputs": []
    },
    {
      "cell_type": "code",
      "source": [
        "projection_m['artist'] = data['artists']\n",
        "projection_m['song'] = data['artists_song']\n"
      ],
      "metadata": {
        "id": "eWh3mclq64Aw"
      },
      "execution_count": null,
      "outputs": []
    },
    {
      "cell_type": "code",
      "source": [
        "projection_m.head(2)"
      ],
      "metadata": {
        "id": "1V4nTr8670Dd"
      },
      "execution_count": null,
      "outputs": []
    },
    {
      "cell_type": "code",
      "source": [
        "fig = px.scatter ( projection_m, x=0,y=1,color='cluster_pca',hover_data=[0,1,'song'])\n",
        "fig.show()"
      ],
      "metadata": {
        "id": "kLxKTb6t64Aw"
      },
      "execution_count": null,
      "outputs": []
    },
    {
      "cell_type": "code",
      "source": [
        "pca_pipeline[1].explained_variance_ratio_.sum()"
      ],
      "metadata": {
        "id": "tdxTLRhD8f4L"
      },
      "execution_count": null,
      "outputs": []
    },
    {
      "cell_type": "code",
      "source": [
        "pca_pipeline[1].explained_variance_.sum()"
      ],
      "metadata": {
        "id": "I8X1HrmF8f4M"
      },
      "execution_count": null,
      "outputs": []
    },
    {
      "cell_type": "markdown",
      "source": [
        "## Recommendation based on distance "
      ],
      "metadata": {
        "id": "bg0QBKwD-sdn"
      }
    },
    {
      "cell_type": "markdown",
      "source": [
        "Let's choose a song that the program will take as base to recommend another one. The song I take was 'Kendrick Lamar - Money Trees'. Now we need: \n",
        "1) Found out which cluster this songs belongs\n",
        "\n",
        "2) what are the others songs in this cluster\n",
        "\n",
        "3) calculate the (Euclidian) distance between the others songs and mine\n",
        "\n",
        "4) sort the songs and show "
      ],
      "metadata": {
        "id": "wEM5xet0-3ei"
      }
    },
    {
      "cell_type": "code",
      "source": [
        "data[data['artists'] == 'Beyoncé']"
      ],
      "metadata": {
        "id": "caPq8I74r4g-"
      },
      "execution_count": null,
      "outputs": []
    },
    {
      "cell_type": "code",
      "source": [
        "song = \"Beyoncé - Crazy In Love (feat. Jay-Z)\"\n",
        "cluster = list(projection_m[projection_m['song']==song]['cluster_pca'])[0] # 1 \n",
        "songs_alike = projection_m[projection_m['cluster_pca']==cluster][[0,1,'song']] #2\n",
        "x_song = list(projection_m[projection_m['song']==song][0])[0] #3\n",
        "y_song = list(projection_m[projection_m['song']==song][1])[0] #3"
      ],
      "metadata": {
        "id": "e1B70k_T-vZ7"
      },
      "execution_count": null,
      "outputs": []
    },
    {
      "cell_type": "code",
      "source": [
        "from sklearn.metrics import euclidean_distances\n",
        "dist = euclidean_distances(songs_alike[[0,1]],[[x_song,y_song]])\n",
        "songs_alike['id'] = data['id']\n",
        "songs_alike['dist'] = dist\n",
        "songs_alike['link'] = 'https://open.spotify.com/track/' + data['id']\n",
        "recommendation = songs_alike.sort_values('dist')\n",
        "recommendation"
      ],
      "metadata": {
        "id": "27BePPdnChOf"
      },
      "execution_count": null,
      "outputs": []
    },
    {
      "cell_type": "markdown",
      "source": [
        "## The albums of the Songs recommended"
      ],
      "metadata": {
        "id": "8rPh63dAGhtu"
      }
    },
    {
      "cell_type": "code",
      "source": [
        "!pip install spotipy"
      ],
      "metadata": {
        "id": "p5vTu72lGfe1"
      },
      "execution_count": null,
      "outputs": []
    },
    {
      "cell_type": "code",
      "source": [
        "import spotipy \n",
        "from spotipy.oauth2 import SpotifyOAuth,SpotifyClientCredentials"
      ],
      "metadata": {
        "id": "srRunhQVGpa4"
      },
      "execution_count": null,
      "outputs": []
    },
    {
      "cell_type": "code",
      "source": [
        "OAuth = SpotifyOAuth(\n",
        "        scope=\"user-library-read playlist-modify-private\",  \n",
        "        redirect_uri='http://localhost:5000/callback',\n",
        "        client_id = '11d8934fecea4a729b124875aefdc610',\n",
        "        client_secret = '6f004760e900478cb0e726f9368e14d2')"
      ],
      "metadata": {
        "id": "Jw5S5CEMHDQx"
      },
      "execution_count": null,
      "outputs": []
    },
    {
      "cell_type": "code",
      "source": [
        "client_credentials_manager = SpotifyClientCredentials(client_id = '11d8934fecea4a729b124875aefdc610',client_secret = '6f004760e900478cb0e726f9368e14d2')\n",
        "sp = spotipy.Spotify(client_credentials_manager = client_credentials_manager)"
      ],
      "metadata": {
        "id": "KhmFzeqmWfYr"
      },
      "execution_count": null,
      "outputs": []
    },
    {
      "cell_type": "code",
      "source": [
        "from skimage import io\n",
        "song = \"Beyoncé - Crazy In Love (feat. Jay-Z)\"\n",
        "id = list(recommendation[recommendation['song'] == song]['id'])[0]\n",
        "track = sp.track(id)\n",
        "url=track['album']['images'][0]['url']\n",
        "name = track['name']\n",
        "image = io.imread(url)\n",
        "plt.imshow(image)\n",
        "plt.xlabel(name, fontsize = 10)\n",
        "plt.show()"
      ],
      "metadata": {
        "id": "lfnBj2sRWn-u"
      },
      "execution_count": null,
      "outputs": []
    },
    {
      "cell_type": "code",
      "source": [
        "def rec(music):\n",
        "  id = list(recommendation[recommendation['song'] == music]['id'])[0]\n",
        "  track = sp.track(id)\n",
        "  url=track['album']['images'][0]['url']\n",
        "  name = track['name']\n",
        "  image = io.imread(url)\n",
        "  return image"
      ],
      "metadata": {
        "id": "wAPbPpw6egz4"
      },
      "execution_count": null,
      "outputs": []
    },
    {
      "cell_type": "code",
      "source": [
        "save_im=[]\n",
        "for i in range (10):\n",
        "  music = list(recommendation['song'])[i]\n",
        "  save_im.append(rec(music))"
      ],
      "metadata": {
        "id": "h5fLrojyf3Ex"
      },
      "execution_count": null,
      "outputs": []
    },
    {
      "cell_type": "code",
      "source": [
        "import matplotlib.cm as cm\n",
        "w = 10\n",
        "h = 10\n",
        "fig = plt.figure(figsize=(25, 15))\n",
        "columns = 5\n",
        "rows = 5\n",
        "for i in range(1, 11):\n",
        "    img = np.random.randint(10, size=(h,w))\n",
        "    fig.add_subplot(rows, columns, i)\n",
        "    plt.title(list(recommendation['song'])[i-1],color='k')\n",
        "    im = plt.imshow(save_im[i-1])\n",
        "    im.set_url(list(recommendation['link'])[i-1])\n",
        "    plt.axis('off')\n",
        "    fig.patch.set_facecolor('k')\n",
        "fig.show()\n",
        "fig.savefig('songs.svg')"
      ],
      "metadata": {
        "id": "3646T8Raz2vY"
      },
      "execution_count": null,
      "outputs": []
    },
    {
      "cell_type": "markdown",
      "source": [
        "The picture above will be saved as '.svg' and every image has a link that goes to spotify where you can listen the song if you click on the image. Below is the links of each song."
      ],
      "metadata": {
        "id": "xyp7IX5M6Yuv"
      }
    },
    {
      "cell_type": "code",
      "source": [
        "for i in range(1, 11):\n",
        "  print(list(recommendation['song'])[i-1],':',list(recommendation['link'])[i-1])"
      ],
      "metadata": {
        "id": "WhBq55bo4Ncy"
      },
      "execution_count": null,
      "outputs": []
    },
    {
      "cell_type": "markdown",
      "source": [
        "## Conclusions \n",
        "We concluded our goal to buil a song reccomendation program. The program in first place analyze some songs features and how it evolves in time. In a next program we can go deep in this analyzes and see how songs envolves in the history music. The second part of the program has a goal of build a song recommendation. To this goal we used the K-Means algorithm and used the PCA method to decrease the number of variables, the K-Means algorithm needs this reducion. Then, we use the Euclidean distance to take the songs more alike the song we have based. In the last part, we use a spotify API to get the album cover of the recommended songs and make a image with these covers, the program generates this image that is embbeded with links that sends the reader to the spotify to listen the song recommended."
      ],
      "metadata": {
        "id": "Y6Nbqf0Y6yJ0"
      }
    }
  ]
}